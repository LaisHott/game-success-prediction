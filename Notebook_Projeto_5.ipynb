{
  "cells": [
    {
      "cell_type": "markdown",
      "metadata": {
        "id": "view-in-github",
        "colab_type": "text"
      },
      "source": [
        "<a href=\"https://colab.research.google.com/github/LaisHott/game-success-prediction/blob/main/Notebook_Projeto_5.ipynb\" target=\"_parent\"><img src=\"https://colab.research.google.com/assets/colab-badge.svg\" alt=\"Open In Colab\"/></a>"
      ]
    },
    {
      "cell_type": "markdown",
      "metadata": {
        "id": "TRDU8hljFbZd"
      },
      "source": [
        "# Quais jogos tiveram sucesso ?\n",
        "\n",
        "O projeto consiste em identificar padrões que determinam se um jogo terá sucesso ou não, utilizando dados como avaliações de usuários e especialistas, gêneros, plataformas e dados históricos de vendas de jogos.\n",
        "\n",
        "O objetivo é identificar potenciais grandes vencedores e planejar campanhas publicitárias para a loja online Ice, que vende videogames no mundo todo.\n",
        "\n",
        "Para realizar a análise, utilizaremos dados que vão desde 2016 até o momento em questão, considerando que a campanha a ser planejada ocorrerá em 2017. Os dados incluem informações fornecidas pela ESRB, que avalia o conteúdo de cada jogo e atribui uma classificação etária como Adolescente ou Maduro.\n",
        "\n",
        "Explorar e compreender os dados fornecidos:\n",
        "- Preparar os dados por meio da limpeza e correção\n",
        "- Integrar os dados relevantes das diferentes tabelas\n",
        "- Analisar os dados e criar perfis de usuário específicos para cada região de forma mais precisa.\n",
        "- Realizar testes de hipótese."
      ]
    },
    {
      "cell_type": "markdown",
      "metadata": {
        "id": "B3AD0yszFbZe"
      },
      "source": [
        "# Passo 1. Abra o arquivo de dados e estude as informações gerais"
      ]
    },
    {
      "cell_type": "code",
      "execution_count": null,
      "metadata": {
        "id": "y8WQtsdHFbZe"
      },
      "outputs": [],
      "source": [
        "# Carregando todas as bibliotecas\n",
        "import pandas as pd\n",
        "import matplotlib.pyplot as plt\n",
        "import numpy as np\n",
        "import seaborn as sns\n",
        "import math\n",
        "from scipy import stats\n",
        "from scipy.stats import mannwhitneyu"
      ]
    },
    {
      "cell_type": "markdown",
      "metadata": {
        "id": "rO-a7lYEFbZf"
      },
      "source": [
        "## Carregando os dados"
      ]
    },
    {
      "cell_type": "code",
      "execution_count": null,
      "metadata": {
        "id": "kz2TUrU_FbZf"
      },
      "outputs": [],
      "source": [
        "# Carregue o arquivo de dados e um DataFrame\n",
        "games = pd.read_csv('games.csv')"
      ]
    },
    {
      "cell_type": "code",
      "execution_count": null,
      "metadata": {
        "colab": {
          "base_uri": "https://localhost:8080/",
          "height": 292
        },
        "id": "-C5HIBehFbZf",
        "outputId": "d1d68f9e-165b-449a-e5bb-286651ee9574"
      },
      "outputs": [
        {
          "output_type": "execute_result",
          "data": {
            "text/plain": [
              "                       Name Platform  Year_of_Release         Genre  NA_sales  \\\n",
              "0                Wii Sports      Wii           2006.0        Sports     41.36   \n",
              "1         Super Mario Bros.      NES           1985.0      Platform     29.08   \n",
              "2            Mario Kart Wii      Wii           2008.0        Racing     15.68   \n",
              "3         Wii Sports Resort      Wii           2009.0        Sports     15.61   \n",
              "4  Pokemon Red/Pokemon Blue       GB           1996.0  Role-Playing     11.27   \n",
              "\n",
              "   EU_sales  JP_sales  Other_sales  Critic_Score User_Score Rating  \n",
              "0     28.96      3.77         8.45          76.0          8      E  \n",
              "1      3.58      6.81         0.77           NaN        NaN    NaN  \n",
              "2     12.76      3.79         3.29          82.0        8.3      E  \n",
              "3     10.93      3.28         2.95          80.0          8      E  \n",
              "4      8.89     10.22         1.00           NaN        NaN    NaN  "
            ],
            "text/html": [
              "\n",
              "  <div id=\"df-a9a4b39a-b188-4747-8400-3a76f72c7fed\" class=\"colab-df-container\">\n",
              "    <div>\n",
              "<style scoped>\n",
              "    .dataframe tbody tr th:only-of-type {\n",
              "        vertical-align: middle;\n",
              "    }\n",
              "\n",
              "    .dataframe tbody tr th {\n",
              "        vertical-align: top;\n",
              "    }\n",
              "\n",
              "    .dataframe thead th {\n",
              "        text-align: right;\n",
              "    }\n",
              "</style>\n",
              "<table border=\"1\" class=\"dataframe\">\n",
              "  <thead>\n",
              "    <tr style=\"text-align: right;\">\n",
              "      <th></th>\n",
              "      <th>Name</th>\n",
              "      <th>Platform</th>\n",
              "      <th>Year_of_Release</th>\n",
              "      <th>Genre</th>\n",
              "      <th>NA_sales</th>\n",
              "      <th>EU_sales</th>\n",
              "      <th>JP_sales</th>\n",
              "      <th>Other_sales</th>\n",
              "      <th>Critic_Score</th>\n",
              "      <th>User_Score</th>\n",
              "      <th>Rating</th>\n",
              "    </tr>\n",
              "  </thead>\n",
              "  <tbody>\n",
              "    <tr>\n",
              "      <th>0</th>\n",
              "      <td>Wii Sports</td>\n",
              "      <td>Wii</td>\n",
              "      <td>2006.0</td>\n",
              "      <td>Sports</td>\n",
              "      <td>41.36</td>\n",
              "      <td>28.96</td>\n",
              "      <td>3.77</td>\n",
              "      <td>8.45</td>\n",
              "      <td>76.0</td>\n",
              "      <td>8</td>\n",
              "      <td>E</td>\n",
              "    </tr>\n",
              "    <tr>\n",
              "      <th>1</th>\n",
              "      <td>Super Mario Bros.</td>\n",
              "      <td>NES</td>\n",
              "      <td>1985.0</td>\n",
              "      <td>Platform</td>\n",
              "      <td>29.08</td>\n",
              "      <td>3.58</td>\n",
              "      <td>6.81</td>\n",
              "      <td>0.77</td>\n",
              "      <td>NaN</td>\n",
              "      <td>NaN</td>\n",
              "      <td>NaN</td>\n",
              "    </tr>\n",
              "    <tr>\n",
              "      <th>2</th>\n",
              "      <td>Mario Kart Wii</td>\n",
              "      <td>Wii</td>\n",
              "      <td>2008.0</td>\n",
              "      <td>Racing</td>\n",
              "      <td>15.68</td>\n",
              "      <td>12.76</td>\n",
              "      <td>3.79</td>\n",
              "      <td>3.29</td>\n",
              "      <td>82.0</td>\n",
              "      <td>8.3</td>\n",
              "      <td>E</td>\n",
              "    </tr>\n",
              "    <tr>\n",
              "      <th>3</th>\n",
              "      <td>Wii Sports Resort</td>\n",
              "      <td>Wii</td>\n",
              "      <td>2009.0</td>\n",
              "      <td>Sports</td>\n",
              "      <td>15.61</td>\n",
              "      <td>10.93</td>\n",
              "      <td>3.28</td>\n",
              "      <td>2.95</td>\n",
              "      <td>80.0</td>\n",
              "      <td>8</td>\n",
              "      <td>E</td>\n",
              "    </tr>\n",
              "    <tr>\n",
              "      <th>4</th>\n",
              "      <td>Pokemon Red/Pokemon Blue</td>\n",
              "      <td>GB</td>\n",
              "      <td>1996.0</td>\n",
              "      <td>Role-Playing</td>\n",
              "      <td>11.27</td>\n",
              "      <td>8.89</td>\n",
              "      <td>10.22</td>\n",
              "      <td>1.00</td>\n",
              "      <td>NaN</td>\n",
              "      <td>NaN</td>\n",
              "      <td>NaN</td>\n",
              "    </tr>\n",
              "  </tbody>\n",
              "</table>\n",
              "</div>\n",
              "    <div class=\"colab-df-buttons\">\n",
              "\n",
              "  <div class=\"colab-df-container\">\n",
              "    <button class=\"colab-df-convert\" onclick=\"convertToInteractive('df-a9a4b39a-b188-4747-8400-3a76f72c7fed')\"\n",
              "            title=\"Convert this dataframe to an interactive table.\"\n",
              "            style=\"display:none;\">\n",
              "\n",
              "  <svg xmlns=\"http://www.w3.org/2000/svg\" height=\"24px\" viewBox=\"0 -960 960 960\">\n",
              "    <path d=\"M120-120v-720h720v720H120Zm60-500h600v-160H180v160Zm220 220h160v-160H400v160Zm0 220h160v-160H400v160ZM180-400h160v-160H180v160Zm440 0h160v-160H620v160ZM180-180h160v-160H180v160Zm440 0h160v-160H620v160Z\"/>\n",
              "  </svg>\n",
              "    </button>\n",
              "\n",
              "  <style>\n",
              "    .colab-df-container {\n",
              "      display:flex;\n",
              "      gap: 12px;\n",
              "    }\n",
              "\n",
              "    .colab-df-convert {\n",
              "      background-color: #E8F0FE;\n",
              "      border: none;\n",
              "      border-radius: 50%;\n",
              "      cursor: pointer;\n",
              "      display: none;\n",
              "      fill: #1967D2;\n",
              "      height: 32px;\n",
              "      padding: 0 0 0 0;\n",
              "      width: 32px;\n",
              "    }\n",
              "\n",
              "    .colab-df-convert:hover {\n",
              "      background-color: #E2EBFA;\n",
              "      box-shadow: 0px 1px 2px rgba(60, 64, 67, 0.3), 0px 1px 3px 1px rgba(60, 64, 67, 0.15);\n",
              "      fill: #174EA6;\n",
              "    }\n",
              "\n",
              "    .colab-df-buttons div {\n",
              "      margin-bottom: 4px;\n",
              "    }\n",
              "\n",
              "    [theme=dark] .colab-df-convert {\n",
              "      background-color: #3B4455;\n",
              "      fill: #D2E3FC;\n",
              "    }\n",
              "\n",
              "    [theme=dark] .colab-df-convert:hover {\n",
              "      background-color: #434B5C;\n",
              "      box-shadow: 0px 1px 3px 1px rgba(0, 0, 0, 0.15);\n",
              "      filter: drop-shadow(0px 1px 2px rgba(0, 0, 0, 0.3));\n",
              "      fill: #FFFFFF;\n",
              "    }\n",
              "  </style>\n",
              "\n",
              "    <script>\n",
              "      const buttonEl =\n",
              "        document.querySelector('#df-a9a4b39a-b188-4747-8400-3a76f72c7fed button.colab-df-convert');\n",
              "      buttonEl.style.display =\n",
              "        google.colab.kernel.accessAllowed ? 'block' : 'none';\n",
              "\n",
              "      async function convertToInteractive(key) {\n",
              "        const element = document.querySelector('#df-a9a4b39a-b188-4747-8400-3a76f72c7fed');\n",
              "        const dataTable =\n",
              "          await google.colab.kernel.invokeFunction('convertToInteractive',\n",
              "                                                    [key], {});\n",
              "        if (!dataTable) return;\n",
              "\n",
              "        const docLinkHtml = 'Like what you see? Visit the ' +\n",
              "          '<a target=\"_blank\" href=https://colab.research.google.com/notebooks/data_table.ipynb>data table notebook</a>'\n",
              "          + ' to learn more about interactive tables.';\n",
              "        element.innerHTML = '';\n",
              "        dataTable['output_type'] = 'display_data';\n",
              "        await google.colab.output.renderOutput(dataTable, element);\n",
              "        const docLink = document.createElement('div');\n",
              "        docLink.innerHTML = docLinkHtml;\n",
              "        element.appendChild(docLink);\n",
              "      }\n",
              "    </script>\n",
              "  </div>\n",
              "\n",
              "\n",
              "    <div id=\"df-f1f4b363-aeae-45ea-b7f6-d716a5128e27\">\n",
              "      <button class=\"colab-df-quickchart\" onclick=\"quickchart('df-f1f4b363-aeae-45ea-b7f6-d716a5128e27')\"\n",
              "                title=\"Suggest charts\"\n",
              "                style=\"display:none;\">\n",
              "\n",
              "<svg xmlns=\"http://www.w3.org/2000/svg\" height=\"24px\"viewBox=\"0 0 24 24\"\n",
              "     width=\"24px\">\n",
              "    <g>\n",
              "        <path d=\"M19 3H5c-1.1 0-2 .9-2 2v14c0 1.1.9 2 2 2h14c1.1 0 2-.9 2-2V5c0-1.1-.9-2-2-2zM9 17H7v-7h2v7zm4 0h-2V7h2v10zm4 0h-2v-4h2v4z\"/>\n",
              "    </g>\n",
              "</svg>\n",
              "      </button>\n",
              "\n",
              "<style>\n",
              "  .colab-df-quickchart {\n",
              "      --bg-color: #E8F0FE;\n",
              "      --fill-color: #1967D2;\n",
              "      --hover-bg-color: #E2EBFA;\n",
              "      --hover-fill-color: #174EA6;\n",
              "      --disabled-fill-color: #AAA;\n",
              "      --disabled-bg-color: #DDD;\n",
              "  }\n",
              "\n",
              "  [theme=dark] .colab-df-quickchart {\n",
              "      --bg-color: #3B4455;\n",
              "      --fill-color: #D2E3FC;\n",
              "      --hover-bg-color: #434B5C;\n",
              "      --hover-fill-color: #FFFFFF;\n",
              "      --disabled-bg-color: #3B4455;\n",
              "      --disabled-fill-color: #666;\n",
              "  }\n",
              "\n",
              "  .colab-df-quickchart {\n",
              "    background-color: var(--bg-color);\n",
              "    border: none;\n",
              "    border-radius: 50%;\n",
              "    cursor: pointer;\n",
              "    display: none;\n",
              "    fill: var(--fill-color);\n",
              "    height: 32px;\n",
              "    padding: 0;\n",
              "    width: 32px;\n",
              "  }\n",
              "\n",
              "  .colab-df-quickchart:hover {\n",
              "    background-color: var(--hover-bg-color);\n",
              "    box-shadow: 0 1px 2px rgba(60, 64, 67, 0.3), 0 1px 3px 1px rgba(60, 64, 67, 0.15);\n",
              "    fill: var(--button-hover-fill-color);\n",
              "  }\n",
              "\n",
              "  .colab-df-quickchart-complete:disabled,\n",
              "  .colab-df-quickchart-complete:disabled:hover {\n",
              "    background-color: var(--disabled-bg-color);\n",
              "    fill: var(--disabled-fill-color);\n",
              "    box-shadow: none;\n",
              "  }\n",
              "\n",
              "  .colab-df-spinner {\n",
              "    border: 2px solid var(--fill-color);\n",
              "    border-color: transparent;\n",
              "    border-bottom-color: var(--fill-color);\n",
              "    animation:\n",
              "      spin 1s steps(1) infinite;\n",
              "  }\n",
              "\n",
              "  @keyframes spin {\n",
              "    0% {\n",
              "      border-color: transparent;\n",
              "      border-bottom-color: var(--fill-color);\n",
              "      border-left-color: var(--fill-color);\n",
              "    }\n",
              "    20% {\n",
              "      border-color: transparent;\n",
              "      border-left-color: var(--fill-color);\n",
              "      border-top-color: var(--fill-color);\n",
              "    }\n",
              "    30% {\n",
              "      border-color: transparent;\n",
              "      border-left-color: var(--fill-color);\n",
              "      border-top-color: var(--fill-color);\n",
              "      border-right-color: var(--fill-color);\n",
              "    }\n",
              "    40% {\n",
              "      border-color: transparent;\n",
              "      border-right-color: var(--fill-color);\n",
              "      border-top-color: var(--fill-color);\n",
              "    }\n",
              "    60% {\n",
              "      border-color: transparent;\n",
              "      border-right-color: var(--fill-color);\n",
              "    }\n",
              "    80% {\n",
              "      border-color: transparent;\n",
              "      border-right-color: var(--fill-color);\n",
              "      border-bottom-color: var(--fill-color);\n",
              "    }\n",
              "    90% {\n",
              "      border-color: transparent;\n",
              "      border-bottom-color: var(--fill-color);\n",
              "    }\n",
              "  }\n",
              "</style>\n",
              "\n",
              "      <script>\n",
              "        async function quickchart(key) {\n",
              "          const quickchartButtonEl =\n",
              "            document.querySelector('#' + key + ' button');\n",
              "          quickchartButtonEl.disabled = true;  // To prevent multiple clicks.\n",
              "          quickchartButtonEl.classList.add('colab-df-spinner');\n",
              "          try {\n",
              "            const charts = await google.colab.kernel.invokeFunction(\n",
              "                'suggestCharts', [key], {});\n",
              "          } catch (error) {\n",
              "            console.error('Error during call to suggestCharts:', error);\n",
              "          }\n",
              "          quickchartButtonEl.classList.remove('colab-df-spinner');\n",
              "          quickchartButtonEl.classList.add('colab-df-quickchart-complete');\n",
              "        }\n",
              "        (() => {\n",
              "          let quickchartButtonEl =\n",
              "            document.querySelector('#df-f1f4b363-aeae-45ea-b7f6-d716a5128e27 button');\n",
              "          quickchartButtonEl.style.display =\n",
              "            google.colab.kernel.accessAllowed ? 'block' : 'none';\n",
              "        })();\n",
              "      </script>\n",
              "    </div>\n",
              "\n",
              "    </div>\n",
              "  </div>\n"
            ],
            "application/vnd.google.colaboratory.intrinsic+json": {
              "type": "dataframe",
              "variable_name": "games",
              "summary": "{\n  \"name\": \"games\",\n  \"rows\": 16715,\n  \"fields\": [\n    {\n      \"column\": \"Name\",\n      \"properties\": {\n        \"dtype\": \"string\",\n        \"num_unique_values\": 11559,\n        \"samples\": [\n          \"Trinity Universe\",\n          \"Picross 2\",\n          \"Darkened Skye\"\n        ],\n        \"semantic_type\": \"\",\n        \"description\": \"\"\n      }\n    },\n    {\n      \"column\": \"Platform\",\n      \"properties\": {\n        \"dtype\": \"category\",\n        \"num_unique_values\": 31,\n        \"samples\": [\n          \"TG16\",\n          \"2600\",\n          \"SAT\"\n        ],\n        \"semantic_type\": \"\",\n        \"description\": \"\"\n      }\n    },\n    {\n      \"column\": \"Year_of_Release\",\n      \"properties\": {\n        \"dtype\": \"number\",\n        \"std\": 5.877049828017123,\n        \"min\": 1980.0,\n        \"max\": 2016.0,\n        \"num_unique_values\": 37,\n        \"samples\": [\n          2011.0,\n          1990.0,\n          1996.0\n        ],\n        \"semantic_type\": \"\",\n        \"description\": \"\"\n      }\n    },\n    {\n      \"column\": \"Genre\",\n      \"properties\": {\n        \"dtype\": \"category\",\n        \"num_unique_values\": 12,\n        \"samples\": [\n          \"Adventure\",\n          \"Fighting\",\n          \"Sports\"\n        ],\n        \"semantic_type\": \"\",\n        \"description\": \"\"\n      }\n    },\n    {\n      \"column\": \"NA_sales\",\n      \"properties\": {\n        \"dtype\": \"number\",\n        \"std\": 0.8136035222633384,\n        \"min\": 0.0,\n        \"max\": 41.36,\n        \"num_unique_values\": 402,\n        \"samples\": [\n          1.45,\n          0.59,\n          5.28\n        ],\n        \"semantic_type\": \"\",\n        \"description\": \"\"\n      }\n    },\n    {\n      \"column\": \"EU_sales\",\n      \"properties\": {\n        \"dtype\": \"number\",\n        \"std\": 0.5033385142348317,\n        \"min\": 0.0,\n        \"max\": 28.96,\n        \"num_unique_values\": 307,\n        \"samples\": [\n          1.29,\n          1.95,\n          1.83\n        ],\n        \"semantic_type\": \"\",\n        \"description\": \"\"\n      }\n    },\n    {\n      \"column\": \"JP_sales\",\n      \"properties\": {\n        \"dtype\": \"number\",\n        \"std\": 0.3088534256325729,\n        \"min\": 0.0,\n        \"max\": 10.22,\n        \"num_unique_values\": 244,\n        \"samples\": [\n          0.47,\n          6.5,\n          2.46\n        ],\n        \"semantic_type\": \"\",\n        \"description\": \"\"\n      }\n    },\n    {\n      \"column\": \"Other_sales\",\n      \"properties\": {\n        \"dtype\": \"number\",\n        \"std\": 0.18673104072945518,\n        \"min\": 0.0,\n        \"max\": 10.57,\n        \"num_unique_values\": 155,\n        \"samples\": [\n          0.48,\n          0.27,\n          2.38\n        ],\n        \"semantic_type\": \"\",\n        \"description\": \"\"\n      }\n    },\n    {\n      \"column\": \"Critic_Score\",\n      \"properties\": {\n        \"dtype\": \"number\",\n        \"std\": 13.938164552843201,\n        \"min\": 13.0,\n        \"max\": 98.0,\n        \"num_unique_values\": 82,\n        \"samples\": [\n          67.0,\n          76.0,\n          74.0\n        ],\n        \"semantic_type\": \"\",\n        \"description\": \"\"\n      }\n    },\n    {\n      \"column\": \"User_Score\",\n      \"properties\": {\n        \"dtype\": \"category\",\n        \"num_unique_values\": 96,\n        \"samples\": [\n          \"2.4\",\n          \"0\",\n          \"3.6\"\n        ],\n        \"semantic_type\": \"\",\n        \"description\": \"\"\n      }\n    },\n    {\n      \"column\": \"Rating\",\n      \"properties\": {\n        \"dtype\": \"category\",\n        \"num_unique_values\": 8,\n        \"samples\": [\n          \"M\",\n          \"AO\",\n          \"E\"\n        ],\n        \"semantic_type\": \"\",\n        \"description\": \"\"\n      }\n    }\n  ]\n}"
            }
          },
          "metadata": {},
          "execution_count": 4
        }
      ],
      "source": [
        "# Verificar amostra dos dados\n",
        "games.head()"
      ]
    },
    {
      "cell_type": "code",
      "execution_count": null,
      "metadata": {
        "id": "6Oe41AHjFbZg",
        "outputId": "a23aaab8-c9e9-4f17-b82b-d33774c0a190"
      },
      "outputs": [
        {
          "data": {
            "text/plain": [
              "(16715, 11)"
            ]
          },
          "execution_count": 4,
          "metadata": {},
          "output_type": "execute_result"
        }
      ],
      "source": [
        "# Verificando tamanho do dataframe\n",
        "games.shape"
      ]
    },
    {
      "cell_type": "markdown",
      "metadata": {
        "id": "J-mgj8ZJFbZg"
      },
      "source": [
        "## Prepare os dados\n"
      ]
    },
    {
      "cell_type": "markdown",
      "metadata": {
        "id": "6tImwKs-FbZg"
      },
      "source": [
        "***Explorando os dados***\n",
        "\n",
        "O conjunto de dados contém os seguintes campos:\n",
        "\n",
        "— `Name` (nome do jogo)\n",
        "\n",
        "— `Platform` (plataforma)\n",
        "\n",
        "— `Year_of_Release` (Ano de lançamento)\n",
        "\n",
        "— `Genre`(gênero do jogo)\n",
        "\n",
        "— `NA_sales` (vendas norte-americanas em milhões de USD)\n",
        "\n",
        "— `EU_sales` (vendas na Europa em milhões de USD)\n",
        "\n",
        "— `JP_sales` (vendas no Japão em milhões de USD)\n",
        "\n",
        "— `Other_sales` (vendas em outros países em em milhões de USD)\n",
        "\n",
        "— `Critic_Score` - (Pontuação crítica) (máximo de 100)\n",
        "\n",
        "— `User_Score` - (Pontuação do usuário) (máximo de 10)\n",
        "\n",
        "— `Classificação` (ESRB)"
      ]
    },
    {
      "cell_type": "code",
      "execution_count": null,
      "metadata": {
        "id": "80soHAGAFbZg",
        "outputId": "83efb45e-69df-4925-943b-7820171da66d"
      },
      "outputs": [
        {
          "name": "stdout",
          "output_type": "stream",
          "text": [
            "<class 'pandas.core.frame.DataFrame'>\n",
            "RangeIndex: 16715 entries, 0 to 16714\n",
            "Data columns (total 11 columns):\n",
            " #   Column           Non-Null Count  Dtype  \n",
            "---  ------           --------------  -----  \n",
            " 0   Name             16713 non-null  object \n",
            " 1   Platform         16715 non-null  object \n",
            " 2   Year_of_Release  16446 non-null  float64\n",
            " 3   Genre            16713 non-null  object \n",
            " 4   NA_sales         16715 non-null  float64\n",
            " 5   EU_sales         16715 non-null  float64\n",
            " 6   JP_sales         16715 non-null  float64\n",
            " 7   Other_sales      16715 non-null  float64\n",
            " 8   Critic_Score     8137 non-null   float64\n",
            " 9   User_Score       10014 non-null  object \n",
            " 10  Rating           9949 non-null   object \n",
            "dtypes: float64(6), object(5)\n",
            "memory usage: 1.4+ MB\n"
          ]
        }
      ],
      "source": [
        "# Informações gerais/resumidas do Dataframe\n",
        "games.info()"
      ]
    },
    {
      "cell_type": "code",
      "execution_count": null,
      "metadata": {
        "id": "tMigL35cFbZg",
        "outputId": "950f77d6-e350-4d0c-9a57-d71b458f87b1"
      },
      "outputs": [
        {
          "data": {
            "text/html": [
              "<div>\n",
              "<style scoped>\n",
              "    .dataframe tbody tr th:only-of-type {\n",
              "        vertical-align: middle;\n",
              "    }\n",
              "\n",
              "    .dataframe tbody tr th {\n",
              "        vertical-align: top;\n",
              "    }\n",
              "\n",
              "    .dataframe thead th {\n",
              "        text-align: right;\n",
              "    }\n",
              "</style>\n",
              "<table border=\"1\" class=\"dataframe\">\n",
              "  <thead>\n",
              "    <tr style=\"text-align: right;\">\n",
              "      <th></th>\n",
              "      <th>Name</th>\n",
              "      <th>Platform</th>\n",
              "      <th>Year_of_Release</th>\n",
              "      <th>Genre</th>\n",
              "      <th>NA_sales</th>\n",
              "      <th>EU_sales</th>\n",
              "      <th>JP_sales</th>\n",
              "      <th>Other_sales</th>\n",
              "      <th>Critic_Score</th>\n",
              "      <th>User_Score</th>\n",
              "      <th>Rating</th>\n",
              "    </tr>\n",
              "  </thead>\n",
              "  <tbody>\n",
              "    <tr>\n",
              "      <th>0</th>\n",
              "      <td>Wii Sports</td>\n",
              "      <td>Wii</td>\n",
              "      <td>2006.0</td>\n",
              "      <td>Sports</td>\n",
              "      <td>41.36</td>\n",
              "      <td>28.96</td>\n",
              "      <td>3.77</td>\n",
              "      <td>8.45</td>\n",
              "      <td>76.0</td>\n",
              "      <td>8</td>\n",
              "      <td>E</td>\n",
              "    </tr>\n",
              "    <tr>\n",
              "      <th>1</th>\n",
              "      <td>Super Mario Bros.</td>\n",
              "      <td>NES</td>\n",
              "      <td>1985.0</td>\n",
              "      <td>Platform</td>\n",
              "      <td>29.08</td>\n",
              "      <td>3.58</td>\n",
              "      <td>6.81</td>\n",
              "      <td>0.77</td>\n",
              "      <td>NaN</td>\n",
              "      <td>NaN</td>\n",
              "      <td>NaN</td>\n",
              "    </tr>\n",
              "    <tr>\n",
              "      <th>2</th>\n",
              "      <td>Mario Kart Wii</td>\n",
              "      <td>Wii</td>\n",
              "      <td>2008.0</td>\n",
              "      <td>Racing</td>\n",
              "      <td>15.68</td>\n",
              "      <td>12.76</td>\n",
              "      <td>3.79</td>\n",
              "      <td>3.29</td>\n",
              "      <td>82.0</td>\n",
              "      <td>8.3</td>\n",
              "      <td>E</td>\n",
              "    </tr>\n",
              "    <tr>\n",
              "      <th>3</th>\n",
              "      <td>Wii Sports Resort</td>\n",
              "      <td>Wii</td>\n",
              "      <td>2009.0</td>\n",
              "      <td>Sports</td>\n",
              "      <td>15.61</td>\n",
              "      <td>10.93</td>\n",
              "      <td>3.28</td>\n",
              "      <td>2.95</td>\n",
              "      <td>80.0</td>\n",
              "      <td>8</td>\n",
              "      <td>E</td>\n",
              "    </tr>\n",
              "    <tr>\n",
              "      <th>4</th>\n",
              "      <td>Pokemon Red/Pokemon Blue</td>\n",
              "      <td>GB</td>\n",
              "      <td>1996.0</td>\n",
              "      <td>Role-Playing</td>\n",
              "      <td>11.27</td>\n",
              "      <td>8.89</td>\n",
              "      <td>10.22</td>\n",
              "      <td>1.00</td>\n",
              "      <td>NaN</td>\n",
              "      <td>NaN</td>\n",
              "      <td>NaN</td>\n",
              "    </tr>\n",
              "    <tr>\n",
              "      <th>5</th>\n",
              "      <td>Tetris</td>\n",
              "      <td>GB</td>\n",
              "      <td>1989.0</td>\n",
              "      <td>Puzzle</td>\n",
              "      <td>23.20</td>\n",
              "      <td>2.26</td>\n",
              "      <td>4.22</td>\n",
              "      <td>0.58</td>\n",
              "      <td>NaN</td>\n",
              "      <td>NaN</td>\n",
              "      <td>NaN</td>\n",
              "    </tr>\n",
              "    <tr>\n",
              "      <th>6</th>\n",
              "      <td>New Super Mario Bros.</td>\n",
              "      <td>DS</td>\n",
              "      <td>2006.0</td>\n",
              "      <td>Platform</td>\n",
              "      <td>11.28</td>\n",
              "      <td>9.14</td>\n",
              "      <td>6.50</td>\n",
              "      <td>2.88</td>\n",
              "      <td>89.0</td>\n",
              "      <td>8.5</td>\n",
              "      <td>E</td>\n",
              "    </tr>\n",
              "    <tr>\n",
              "      <th>7</th>\n",
              "      <td>Wii Play</td>\n",
              "      <td>Wii</td>\n",
              "      <td>2006.0</td>\n",
              "      <td>Misc</td>\n",
              "      <td>13.96</td>\n",
              "      <td>9.18</td>\n",
              "      <td>2.93</td>\n",
              "      <td>2.84</td>\n",
              "      <td>58.0</td>\n",
              "      <td>6.6</td>\n",
              "      <td>E</td>\n",
              "    </tr>\n",
              "    <tr>\n",
              "      <th>8</th>\n",
              "      <td>New Super Mario Bros. Wii</td>\n",
              "      <td>Wii</td>\n",
              "      <td>2009.0</td>\n",
              "      <td>Platform</td>\n",
              "      <td>14.44</td>\n",
              "      <td>6.94</td>\n",
              "      <td>4.70</td>\n",
              "      <td>2.24</td>\n",
              "      <td>87.0</td>\n",
              "      <td>8.4</td>\n",
              "      <td>E</td>\n",
              "    </tr>\n",
              "    <tr>\n",
              "      <th>9</th>\n",
              "      <td>Duck Hunt</td>\n",
              "      <td>NES</td>\n",
              "      <td>1984.0</td>\n",
              "      <td>Shooter</td>\n",
              "      <td>26.93</td>\n",
              "      <td>0.63</td>\n",
              "      <td>0.28</td>\n",
              "      <td>0.47</td>\n",
              "      <td>NaN</td>\n",
              "      <td>NaN</td>\n",
              "      <td>NaN</td>\n",
              "    </tr>\n",
              "  </tbody>\n",
              "</table>\n",
              "</div>"
            ],
            "text/plain": [
              "                        Name Platform  Year_of_Release         Genre  \\\n",
              "0                 Wii Sports      Wii           2006.0        Sports   \n",
              "1          Super Mario Bros.      NES           1985.0      Platform   \n",
              "2             Mario Kart Wii      Wii           2008.0        Racing   \n",
              "3          Wii Sports Resort      Wii           2009.0        Sports   \n",
              "4   Pokemon Red/Pokemon Blue       GB           1996.0  Role-Playing   \n",
              "5                     Tetris       GB           1989.0        Puzzle   \n",
              "6      New Super Mario Bros.       DS           2006.0      Platform   \n",
              "7                   Wii Play      Wii           2006.0          Misc   \n",
              "8  New Super Mario Bros. Wii      Wii           2009.0      Platform   \n",
              "9                  Duck Hunt      NES           1984.0       Shooter   \n",
              "\n",
              "   NA_sales  EU_sales  JP_sales  Other_sales  Critic_Score User_Score Rating  \n",
              "0     41.36     28.96      3.77         8.45          76.0          8      E  \n",
              "1     29.08      3.58      6.81         0.77           NaN        NaN    NaN  \n",
              "2     15.68     12.76      3.79         3.29          82.0        8.3      E  \n",
              "3     15.61     10.93      3.28         2.95          80.0          8      E  \n",
              "4     11.27      8.89     10.22         1.00           NaN        NaN    NaN  \n",
              "5     23.20      2.26      4.22         0.58           NaN        NaN    NaN  \n",
              "6     11.28      9.14      6.50         2.88          89.0        8.5      E  \n",
              "7     13.96      9.18      2.93         2.84          58.0        6.6      E  \n",
              "8     14.44      6.94      4.70         2.24          87.0        8.4      E  \n",
              "9     26.93      0.63      0.28         0.47           NaN        NaN    NaN  "
            ]
          },
          "execution_count": 6,
          "metadata": {},
          "output_type": "execute_result"
        }
      ],
      "source": [
        "# Analisando amostragem dos dados\n",
        "games.head(10)"
      ]
    },
    {
      "cell_type": "code",
      "execution_count": null,
      "metadata": {
        "id": "pFWrshChFbZh",
        "outputId": "e785f2f1-116c-46b1-f75b-9a0f9ce66761"
      },
      "outputs": [
        {
          "data": {
            "text/plain": [
              "0"
            ]
          },
          "execution_count": 7,
          "metadata": {},
          "output_type": "execute_result"
        }
      ],
      "source": [
        "# Verificando se existem duplicatas\n",
        "games.duplicated().sum()"
      ]
    },
    {
      "cell_type": "code",
      "execution_count": null,
      "metadata": {
        "id": "ivmb4HegFbZh",
        "outputId": "ca3a0b6d-323f-4305-ad8e-bb0cd522bc52"
      },
      "outputs": [
        {
          "data": {
            "text/plain": [
              "array(['Wii', 'NES', 'GB', 'DS', 'X360', 'PS3', 'PS2', 'SNES', 'GBA',\n",
              "       'PS4', '3DS', 'N64', 'PS', 'XB', 'PC', '2600', 'PSP', 'XOne',\n",
              "       'WiiU', 'GC', 'GEN', 'DC', 'PSV', 'SAT', 'SCD', 'WS', 'NG', 'TG16',\n",
              "       '3DO', 'GG', 'PCFX'], dtype=object)"
            ]
          },
          "execution_count": 8,
          "metadata": {},
          "output_type": "execute_result"
        }
      ],
      "source": [
        "#Verificando se existem duplicatas implícetas\n",
        "games['Platform'].unique()"
      ]
    },
    {
      "cell_type": "code",
      "execution_count": null,
      "metadata": {
        "id": "VWgP6VynFbZh",
        "outputId": "c9429564-c01f-46cf-ac88-17be91fa2104"
      },
      "outputs": [
        {
          "data": {
            "text/plain": [
              "Name                  2\n",
              "Platform              0\n",
              "Year_of_Release     269\n",
              "Genre                 2\n",
              "NA_sales              0\n",
              "EU_sales              0\n",
              "JP_sales              0\n",
              "Other_sales           0\n",
              "Critic_Score       8578\n",
              "User_Score         6701\n",
              "Rating             6766\n",
              "dtype: int64"
            ]
          },
          "execution_count": 9,
          "metadata": {},
          "output_type": "execute_result"
        }
      ],
      "source": [
        "# Verificando dados ausentes\n",
        "games.isna().sum()"
      ]
    },
    {
      "cell_type": "code",
      "execution_count": null,
      "metadata": {
        "id": "wlXzzV-LFbZh",
        "outputId": "1d92feb7-daed-4af7-891f-9c4dc4c29499"
      },
      "outputs": [
        {
          "data": {
            "text/html": [
              "<div>\n",
              "<style scoped>\n",
              "    .dataframe tbody tr th:only-of-type {\n",
              "        vertical-align: middle;\n",
              "    }\n",
              "\n",
              "    .dataframe tbody tr th {\n",
              "        vertical-align: top;\n",
              "    }\n",
              "\n",
              "    .dataframe thead th {\n",
              "        text-align: right;\n",
              "    }\n",
              "</style>\n",
              "<table border=\"1\" class=\"dataframe\">\n",
              "  <thead>\n",
              "    <tr style=\"text-align: right;\">\n",
              "      <th></th>\n",
              "      <th>Year_of_Release</th>\n",
              "      <th>NA_sales</th>\n",
              "      <th>EU_sales</th>\n",
              "      <th>JP_sales</th>\n",
              "      <th>Other_sales</th>\n",
              "      <th>Critic_Score</th>\n",
              "    </tr>\n",
              "  </thead>\n",
              "  <tbody>\n",
              "    <tr>\n",
              "      <th>count</th>\n",
              "      <td>16446.000000</td>\n",
              "      <td>16715.000000</td>\n",
              "      <td>16715.000000</td>\n",
              "      <td>16715.000000</td>\n",
              "      <td>16715.000000</td>\n",
              "      <td>8137.000000</td>\n",
              "    </tr>\n",
              "    <tr>\n",
              "      <th>mean</th>\n",
              "      <td>2006.484616</td>\n",
              "      <td>0.263377</td>\n",
              "      <td>0.145060</td>\n",
              "      <td>0.077617</td>\n",
              "      <td>0.047342</td>\n",
              "      <td>68.967679</td>\n",
              "    </tr>\n",
              "    <tr>\n",
              "      <th>std</th>\n",
              "      <td>5.877050</td>\n",
              "      <td>0.813604</td>\n",
              "      <td>0.503339</td>\n",
              "      <td>0.308853</td>\n",
              "      <td>0.186731</td>\n",
              "      <td>13.938165</td>\n",
              "    </tr>\n",
              "    <tr>\n",
              "      <th>min</th>\n",
              "      <td>1980.000000</td>\n",
              "      <td>0.000000</td>\n",
              "      <td>0.000000</td>\n",
              "      <td>0.000000</td>\n",
              "      <td>0.000000</td>\n",
              "      <td>13.000000</td>\n",
              "    </tr>\n",
              "    <tr>\n",
              "      <th>25%</th>\n",
              "      <td>2003.000000</td>\n",
              "      <td>0.000000</td>\n",
              "      <td>0.000000</td>\n",
              "      <td>0.000000</td>\n",
              "      <td>0.000000</td>\n",
              "      <td>60.000000</td>\n",
              "    </tr>\n",
              "    <tr>\n",
              "      <th>50%</th>\n",
              "      <td>2007.000000</td>\n",
              "      <td>0.080000</td>\n",
              "      <td>0.020000</td>\n",
              "      <td>0.000000</td>\n",
              "      <td>0.010000</td>\n",
              "      <td>71.000000</td>\n",
              "    </tr>\n",
              "    <tr>\n",
              "      <th>75%</th>\n",
              "      <td>2010.000000</td>\n",
              "      <td>0.240000</td>\n",
              "      <td>0.110000</td>\n",
              "      <td>0.040000</td>\n",
              "      <td>0.030000</td>\n",
              "      <td>79.000000</td>\n",
              "    </tr>\n",
              "    <tr>\n",
              "      <th>max</th>\n",
              "      <td>2016.000000</td>\n",
              "      <td>41.360000</td>\n",
              "      <td>28.960000</td>\n",
              "      <td>10.220000</td>\n",
              "      <td>10.570000</td>\n",
              "      <td>98.000000</td>\n",
              "    </tr>\n",
              "  </tbody>\n",
              "</table>\n",
              "</div>"
            ],
            "text/plain": [
              "       Year_of_Release      NA_sales      EU_sales      JP_sales  \\\n",
              "count     16446.000000  16715.000000  16715.000000  16715.000000   \n",
              "mean       2006.484616      0.263377      0.145060      0.077617   \n",
              "std           5.877050      0.813604      0.503339      0.308853   \n",
              "min        1980.000000      0.000000      0.000000      0.000000   \n",
              "25%        2003.000000      0.000000      0.000000      0.000000   \n",
              "50%        2007.000000      0.080000      0.020000      0.000000   \n",
              "75%        2010.000000      0.240000      0.110000      0.040000   \n",
              "max        2016.000000     41.360000     28.960000     10.220000   \n",
              "\n",
              "        Other_sales  Critic_Score  \n",
              "count  16715.000000   8137.000000  \n",
              "mean       0.047342     68.967679  \n",
              "std        0.186731     13.938165  \n",
              "min        0.000000     13.000000  \n",
              "25%        0.000000     60.000000  \n",
              "50%        0.010000     71.000000  \n",
              "75%        0.030000     79.000000  \n",
              "max       10.570000     98.000000  "
            ]
          },
          "execution_count": 10,
          "metadata": {},
          "output_type": "execute_result"
        }
      ],
      "source": [
        "# Analisando estatísticas descritivas\n",
        "games.describe()"
      ]
    },
    {
      "cell_type": "markdown",
      "metadata": {
        "id": "k2BFLD4hFbZh"
      },
      "source": [
        "- Ao analisar a informação geral e a amostragem dos dados, identificamos alguns problemas que podem requerer investigação e alterações adicionais:\n",
        "    1. **Valores ausentes**: É possível observar que existem variáveis com valores ausentes, como `Name`, `Year_of_Release`, `Critic_Score`, `User_Score` e `Rating`. Esses valores ausentes podem impactar a análise e interpretação dos dados. Precisamos avaliar a razão dos valores ausentes e decidir como lidar com eles. Pode ser necessário realizar imputação de valores ou considerar a exclusão dessas observações, dependendo da importância das variáveis ausentes para a análise.\n",
        "    2. **Tipo de dado**: Podemos observar que a coluna `Year_of_Release` está no formato float ,mas para fins futuros cálculos e gráficos vamos precisar converter para tipo inteiro. Outra coluna que apresenta formato incompatível é `user_score` que está como object mas representa a pontuação do usuário.\n",
        "    3. **Nome das Colunas**: As colunas em pandas são geralmente iniciadas com letra minúscula porque é o padrão recomendado em Python. Além disso, se um nome de coluna começar com letra maiúscula, ele pode ser confundido com uma classe Python. Por isso, é uma boa prática iniciar o nome das colunas com letras minúsculas."
      ]
    },
    {
      "cell_type": "markdown",
      "metadata": {
        "id": "9AGvPGpKFbZh"
      },
      "source": [
        "***Próximos passos***\n",
        "\n",
        "Sobre os dados iniciais podemos concluir que existe inconsistência nos dados. A presença de valores ausentes em algumas colunas requer uma análise mais detalhada e um tratamento adequado.\n",
        "\n",
        "Com base nessas observações, os próximos passos podem incluir:\n",
        "\n",
        "  - **Tratamento dos valores ausentes**: É importante investigar a razão dos valores ausentes e decidir a melhor abordagem para lidar com eles. Isso pode envolver a imputação de valores (por exemplo, substituindo-os pela média, mediana ou moda) ou a remoção das instâncias que\n",
        "  - **Tratamento dos tipos de dados**: Vamos precisar converter alguns tipos de dados para possibilitar futuras manipulacoes e calculos da coluna em questão.\n",
        "  - **Renomear as colunas para minúsculo**: Vamos usar os métodos da biblioteca pandas para renomear as colunas para que fiquem em letra minúscula como é o padrão para Python."
      ]
    },
    {
      "cell_type": "markdown",
      "metadata": {
        "id": "rwI46_2nFbZi"
      },
      "source": [
        "### Substituir os nomes das colunas\n",
        "\n",
        "Vamos utilizar o método `df.rename()` e passar uma função lambda que recebe cada nome de coluna como entrada e retorna uma nova string com o nome convertido para minúsculo."
      ]
    },
    {
      "cell_type": "code",
      "execution_count": null,
      "metadata": {
        "id": "YDr8gQBJFbZi",
        "outputId": "e683ce38-52fe-413d-a488-c0e8e55fa8a3"
      },
      "outputs": [
        {
          "data": {
            "text/plain": [
              "Index(['Name', 'Platform', 'Year_of_Release', 'Genre', 'NA_sales', 'EU_sales',\n",
              "       'JP_sales', 'Other_sales', 'Critic_Score', 'User_Score', 'Rating'],\n",
              "      dtype='object')"
            ]
          },
          "execution_count": 11,
          "metadata": {},
          "output_type": "execute_result"
        }
      ],
      "source": [
        "#Analisando as colunas\n",
        "games.columns"
      ]
    },
    {
      "cell_type": "code",
      "execution_count": null,
      "metadata": {
        "id": "66Mo2A0EFbZi"
      },
      "outputs": [],
      "source": [
        "#Aplicando método rename usando a função lambda\n",
        "games.rename(columns=lambda x: x.lower(), inplace=True)"
      ]
    },
    {
      "cell_type": "code",
      "execution_count": null,
      "metadata": {
        "id": "l55u1VMoFbZi",
        "outputId": "367ce80d-d00d-4dfb-fdc8-1109a6371d27"
      },
      "outputs": [
        {
          "data": {
            "text/html": [
              "<div>\n",
              "<style scoped>\n",
              "    .dataframe tbody tr th:only-of-type {\n",
              "        vertical-align: middle;\n",
              "    }\n",
              "\n",
              "    .dataframe tbody tr th {\n",
              "        vertical-align: top;\n",
              "    }\n",
              "\n",
              "    .dataframe thead th {\n",
              "        text-align: right;\n",
              "    }\n",
              "</style>\n",
              "<table border=\"1\" class=\"dataframe\">\n",
              "  <thead>\n",
              "    <tr style=\"text-align: right;\">\n",
              "      <th></th>\n",
              "      <th>name</th>\n",
              "      <th>platform</th>\n",
              "      <th>year_of_release</th>\n",
              "      <th>genre</th>\n",
              "      <th>na_sales</th>\n",
              "      <th>eu_sales</th>\n",
              "      <th>jp_sales</th>\n",
              "      <th>other_sales</th>\n",
              "      <th>critic_score</th>\n",
              "      <th>user_score</th>\n",
              "      <th>rating</th>\n",
              "    </tr>\n",
              "  </thead>\n",
              "  <tbody>\n",
              "    <tr>\n",
              "      <th>0</th>\n",
              "      <td>Wii Sports</td>\n",
              "      <td>Wii</td>\n",
              "      <td>2006.0</td>\n",
              "      <td>Sports</td>\n",
              "      <td>41.36</td>\n",
              "      <td>28.96</td>\n",
              "      <td>3.77</td>\n",
              "      <td>8.45</td>\n",
              "      <td>76.0</td>\n",
              "      <td>8</td>\n",
              "      <td>E</td>\n",
              "    </tr>\n",
              "    <tr>\n",
              "      <th>1</th>\n",
              "      <td>Super Mario Bros.</td>\n",
              "      <td>NES</td>\n",
              "      <td>1985.0</td>\n",
              "      <td>Platform</td>\n",
              "      <td>29.08</td>\n",
              "      <td>3.58</td>\n",
              "      <td>6.81</td>\n",
              "      <td>0.77</td>\n",
              "      <td>NaN</td>\n",
              "      <td>NaN</td>\n",
              "      <td>NaN</td>\n",
              "    </tr>\n",
              "    <tr>\n",
              "      <th>2</th>\n",
              "      <td>Mario Kart Wii</td>\n",
              "      <td>Wii</td>\n",
              "      <td>2008.0</td>\n",
              "      <td>Racing</td>\n",
              "      <td>15.68</td>\n",
              "      <td>12.76</td>\n",
              "      <td>3.79</td>\n",
              "      <td>3.29</td>\n",
              "      <td>82.0</td>\n",
              "      <td>8.3</td>\n",
              "      <td>E</td>\n",
              "    </tr>\n",
              "    <tr>\n",
              "      <th>3</th>\n",
              "      <td>Wii Sports Resort</td>\n",
              "      <td>Wii</td>\n",
              "      <td>2009.0</td>\n",
              "      <td>Sports</td>\n",
              "      <td>15.61</td>\n",
              "      <td>10.93</td>\n",
              "      <td>3.28</td>\n",
              "      <td>2.95</td>\n",
              "      <td>80.0</td>\n",
              "      <td>8</td>\n",
              "      <td>E</td>\n",
              "    </tr>\n",
              "    <tr>\n",
              "      <th>4</th>\n",
              "      <td>Pokemon Red/Pokemon Blue</td>\n",
              "      <td>GB</td>\n",
              "      <td>1996.0</td>\n",
              "      <td>Role-Playing</td>\n",
              "      <td>11.27</td>\n",
              "      <td>8.89</td>\n",
              "      <td>10.22</td>\n",
              "      <td>1.00</td>\n",
              "      <td>NaN</td>\n",
              "      <td>NaN</td>\n",
              "      <td>NaN</td>\n",
              "    </tr>\n",
              "  </tbody>\n",
              "</table>\n",
              "</div>"
            ],
            "text/plain": [
              "                       name platform  year_of_release         genre  na_sales  \\\n",
              "0                Wii Sports      Wii           2006.0        Sports     41.36   \n",
              "1         Super Mario Bros.      NES           1985.0      Platform     29.08   \n",
              "2            Mario Kart Wii      Wii           2008.0        Racing     15.68   \n",
              "3         Wii Sports Resort      Wii           2009.0        Sports     15.61   \n",
              "4  Pokemon Red/Pokemon Blue       GB           1996.0  Role-Playing     11.27   \n",
              "\n",
              "   eu_sales  jp_sales  other_sales  critic_score user_score rating  \n",
              "0     28.96      3.77         8.45          76.0          8      E  \n",
              "1      3.58      6.81         0.77           NaN        NaN    NaN  \n",
              "2     12.76      3.79         3.29          82.0        8.3      E  \n",
              "3     10.93      3.28         2.95          80.0          8      E  \n",
              "4      8.89     10.22         1.00           NaN        NaN    NaN  "
            ]
          },
          "execution_count": 13,
          "metadata": {},
          "output_type": "execute_result"
        }
      ],
      "source": [
        "#Verificando as alterações\n",
        "games.head()"
      ]
    },
    {
      "cell_type": "markdown",
      "metadata": {
        "id": "lnu62x52FbZi"
      },
      "source": [
        "### Se necessário, decida como lidar com valores ausentes\n",
        "\n",
        "Vamos estudar os valores ausentes para cada coluna em mais detalhes e depois decidir o que fazer com eles, baseado em hipóteses significativas."
      ]
    },
    {
      "cell_type": "code",
      "execution_count": null,
      "metadata": {
        "id": "irClo1BQFbZi",
        "outputId": "c6b22abd-52b1-4b88-d88b-fd18550d5758"
      },
      "outputs": [
        {
          "data": {
            "text/plain": [
              "name                  2\n",
              "platform              0\n",
              "year_of_release     269\n",
              "genre                 2\n",
              "na_sales              0\n",
              "eu_sales              0\n",
              "jp_sales              0\n",
              "other_sales           0\n",
              "critic_score       8578\n",
              "user_score         6701\n",
              "rating             6766\n",
              "dtype: int64"
            ]
          },
          "execution_count": 14,
          "metadata": {},
          "output_type": "execute_result"
        }
      ],
      "source": [
        "games.isna().sum()"
      ]
    },
    {
      "cell_type": "code",
      "execution_count": null,
      "metadata": {
        "id": "AW6df9HBFbZi",
        "outputId": "9736fb3f-c9cd-41c4-8f79-5f5264d91707"
      },
      "outputs": [
        {
          "data": {
            "text/html": [
              "<div>\n",
              "<style scoped>\n",
              "    .dataframe tbody tr th:only-of-type {\n",
              "        vertical-align: middle;\n",
              "    }\n",
              "\n",
              "    .dataframe tbody tr th {\n",
              "        vertical-align: top;\n",
              "    }\n",
              "\n",
              "    .dataframe thead th {\n",
              "        text-align: right;\n",
              "    }\n",
              "</style>\n",
              "<table border=\"1\" class=\"dataframe\">\n",
              "  <thead>\n",
              "    <tr style=\"text-align: right;\">\n",
              "      <th></th>\n",
              "      <th>name</th>\n",
              "      <th>platform</th>\n",
              "      <th>year_of_release</th>\n",
              "      <th>genre</th>\n",
              "      <th>na_sales</th>\n",
              "      <th>eu_sales</th>\n",
              "      <th>jp_sales</th>\n",
              "      <th>other_sales</th>\n",
              "      <th>critic_score</th>\n",
              "      <th>user_score</th>\n",
              "      <th>rating</th>\n",
              "    </tr>\n",
              "  </thead>\n",
              "  <tbody>\n",
              "    <tr>\n",
              "      <th>659</th>\n",
              "      <td>NaN</td>\n",
              "      <td>GEN</td>\n",
              "      <td>1993.0</td>\n",
              "      <td>NaN</td>\n",
              "      <td>1.78</td>\n",
              "      <td>0.53</td>\n",
              "      <td>0.00</td>\n",
              "      <td>0.08</td>\n",
              "      <td>NaN</td>\n",
              "      <td>NaN</td>\n",
              "      <td>NaN</td>\n",
              "    </tr>\n",
              "    <tr>\n",
              "      <th>14244</th>\n",
              "      <td>NaN</td>\n",
              "      <td>GEN</td>\n",
              "      <td>1993.0</td>\n",
              "      <td>NaN</td>\n",
              "      <td>0.00</td>\n",
              "      <td>0.00</td>\n",
              "      <td>0.03</td>\n",
              "      <td>0.00</td>\n",
              "      <td>NaN</td>\n",
              "      <td>NaN</td>\n",
              "      <td>NaN</td>\n",
              "    </tr>\n",
              "  </tbody>\n",
              "</table>\n",
              "</div>"
            ],
            "text/plain": [
              "      name platform  year_of_release genre  na_sales  eu_sales  jp_sales  \\\n",
              "659    NaN      GEN           1993.0   NaN      1.78      0.53      0.00   \n",
              "14244  NaN      GEN           1993.0   NaN      0.00      0.00      0.03   \n",
              "\n",
              "       other_sales  critic_score user_score rating  \n",
              "659           0.08           NaN        NaN    NaN  \n",
              "14244         0.00           NaN        NaN    NaN  "
            ]
          },
          "execution_count": 15,
          "metadata": {},
          "output_type": "execute_result"
        }
      ],
      "source": [
        "#Analisando valores ausentes de cada coluna\n",
        "games.loc[games['name'].isnull()]"
      ]
    },
    {
      "cell_type": "code",
      "execution_count": null,
      "metadata": {
        "id": "25je8lfOFbZj",
        "outputId": "678e2111-d38e-45bf-cc8e-57417257023a"
      },
      "outputs": [
        {
          "data": {
            "text/html": [
              "<div>\n",
              "<style scoped>\n",
              "    .dataframe tbody tr th:only-of-type {\n",
              "        vertical-align: middle;\n",
              "    }\n",
              "\n",
              "    .dataframe tbody tr th {\n",
              "        vertical-align: top;\n",
              "    }\n",
              "\n",
              "    .dataframe thead th {\n",
              "        text-align: right;\n",
              "    }\n",
              "</style>\n",
              "<table border=\"1\" class=\"dataframe\">\n",
              "  <thead>\n",
              "    <tr style=\"text-align: right;\">\n",
              "      <th></th>\n",
              "      <th>name</th>\n",
              "      <th>platform</th>\n",
              "      <th>year_of_release</th>\n",
              "      <th>genre</th>\n",
              "      <th>na_sales</th>\n",
              "      <th>eu_sales</th>\n",
              "      <th>jp_sales</th>\n",
              "      <th>other_sales</th>\n",
              "      <th>critic_score</th>\n",
              "      <th>user_score</th>\n",
              "      <th>rating</th>\n",
              "    </tr>\n",
              "  </thead>\n",
              "  <tbody>\n",
              "    <tr>\n",
              "      <th>183</th>\n",
              "      <td>Madden NFL 2004</td>\n",
              "      <td>PS2</td>\n",
              "      <td>NaN</td>\n",
              "      <td>Sports</td>\n",
              "      <td>4.26</td>\n",
              "      <td>0.26</td>\n",
              "      <td>0.01</td>\n",
              "      <td>0.71</td>\n",
              "      <td>94.0</td>\n",
              "      <td>8.5</td>\n",
              "      <td>E</td>\n",
              "    </tr>\n",
              "    <tr>\n",
              "      <th>377</th>\n",
              "      <td>FIFA Soccer 2004</td>\n",
              "      <td>PS2</td>\n",
              "      <td>NaN</td>\n",
              "      <td>Sports</td>\n",
              "      <td>0.59</td>\n",
              "      <td>2.36</td>\n",
              "      <td>0.04</td>\n",
              "      <td>0.51</td>\n",
              "      <td>84.0</td>\n",
              "      <td>6.4</td>\n",
              "      <td>E</td>\n",
              "    </tr>\n",
              "    <tr>\n",
              "      <th>456</th>\n",
              "      <td>LEGO Batman: The Videogame</td>\n",
              "      <td>Wii</td>\n",
              "      <td>NaN</td>\n",
              "      <td>Action</td>\n",
              "      <td>1.80</td>\n",
              "      <td>0.97</td>\n",
              "      <td>0.00</td>\n",
              "      <td>0.29</td>\n",
              "      <td>74.0</td>\n",
              "      <td>7.9</td>\n",
              "      <td>E10+</td>\n",
              "    </tr>\n",
              "    <tr>\n",
              "      <th>475</th>\n",
              "      <td>wwe Smackdown vs. Raw 2006</td>\n",
              "      <td>PS2</td>\n",
              "      <td>NaN</td>\n",
              "      <td>Fighting</td>\n",
              "      <td>1.57</td>\n",
              "      <td>1.02</td>\n",
              "      <td>0.00</td>\n",
              "      <td>0.41</td>\n",
              "      <td>NaN</td>\n",
              "      <td>NaN</td>\n",
              "      <td>NaN</td>\n",
              "    </tr>\n",
              "    <tr>\n",
              "      <th>609</th>\n",
              "      <td>Space Invaders</td>\n",
              "      <td>2600</td>\n",
              "      <td>NaN</td>\n",
              "      <td>Shooter</td>\n",
              "      <td>2.36</td>\n",
              "      <td>0.14</td>\n",
              "      <td>0.00</td>\n",
              "      <td>0.03</td>\n",
              "      <td>NaN</td>\n",
              "      <td>NaN</td>\n",
              "      <td>NaN</td>\n",
              "    </tr>\n",
              "    <tr>\n",
              "      <th>...</th>\n",
              "      <td>...</td>\n",
              "      <td>...</td>\n",
              "      <td>...</td>\n",
              "      <td>...</td>\n",
              "      <td>...</td>\n",
              "      <td>...</td>\n",
              "      <td>...</td>\n",
              "      <td>...</td>\n",
              "      <td>...</td>\n",
              "      <td>...</td>\n",
              "      <td>...</td>\n",
              "    </tr>\n",
              "    <tr>\n",
              "      <th>16373</th>\n",
              "      <td>PDC World Championship Darts 2008</td>\n",
              "      <td>PSP</td>\n",
              "      <td>NaN</td>\n",
              "      <td>Sports</td>\n",
              "      <td>0.01</td>\n",
              "      <td>0.00</td>\n",
              "      <td>0.00</td>\n",
              "      <td>0.00</td>\n",
              "      <td>43.0</td>\n",
              "      <td>tbd</td>\n",
              "      <td>E10+</td>\n",
              "    </tr>\n",
              "    <tr>\n",
              "      <th>16405</th>\n",
              "      <td>Freaky Flyers</td>\n",
              "      <td>GC</td>\n",
              "      <td>NaN</td>\n",
              "      <td>Racing</td>\n",
              "      <td>0.01</td>\n",
              "      <td>0.00</td>\n",
              "      <td>0.00</td>\n",
              "      <td>0.00</td>\n",
              "      <td>69.0</td>\n",
              "      <td>6.5</td>\n",
              "      <td>T</td>\n",
              "    </tr>\n",
              "    <tr>\n",
              "      <th>16448</th>\n",
              "      <td>Inversion</td>\n",
              "      <td>PC</td>\n",
              "      <td>NaN</td>\n",
              "      <td>Shooter</td>\n",
              "      <td>0.01</td>\n",
              "      <td>0.00</td>\n",
              "      <td>0.00</td>\n",
              "      <td>0.00</td>\n",
              "      <td>59.0</td>\n",
              "      <td>6.7</td>\n",
              "      <td>M</td>\n",
              "    </tr>\n",
              "    <tr>\n",
              "      <th>16458</th>\n",
              "      <td>Hakuouki: Shinsengumi Kitan</td>\n",
              "      <td>PS3</td>\n",
              "      <td>NaN</td>\n",
              "      <td>Adventure</td>\n",
              "      <td>0.01</td>\n",
              "      <td>0.00</td>\n",
              "      <td>0.00</td>\n",
              "      <td>0.00</td>\n",
              "      <td>NaN</td>\n",
              "      <td>NaN</td>\n",
              "      <td>NaN</td>\n",
              "    </tr>\n",
              "    <tr>\n",
              "      <th>16522</th>\n",
              "      <td>Virtua Quest</td>\n",
              "      <td>GC</td>\n",
              "      <td>NaN</td>\n",
              "      <td>Role-Playing</td>\n",
              "      <td>0.01</td>\n",
              "      <td>0.00</td>\n",
              "      <td>0.00</td>\n",
              "      <td>0.00</td>\n",
              "      <td>55.0</td>\n",
              "      <td>5.5</td>\n",
              "      <td>T</td>\n",
              "    </tr>\n",
              "  </tbody>\n",
              "</table>\n",
              "<p>269 rows × 11 columns</p>\n",
              "</div>"
            ],
            "text/plain": [
              "                                    name platform  year_of_release  \\\n",
              "183                      Madden NFL 2004      PS2              NaN   \n",
              "377                     FIFA Soccer 2004      PS2              NaN   \n",
              "456           LEGO Batman: The Videogame      Wii              NaN   \n",
              "475           wwe Smackdown vs. Raw 2006      PS2              NaN   \n",
              "609                       Space Invaders     2600              NaN   \n",
              "...                                  ...      ...              ...   \n",
              "16373  PDC World Championship Darts 2008      PSP              NaN   \n",
              "16405                      Freaky Flyers       GC              NaN   \n",
              "16448                          Inversion       PC              NaN   \n",
              "16458        Hakuouki: Shinsengumi Kitan      PS3              NaN   \n",
              "16522                       Virtua Quest       GC              NaN   \n",
              "\n",
              "              genre  na_sales  eu_sales  jp_sales  other_sales  critic_score  \\\n",
              "183          Sports      4.26      0.26      0.01         0.71          94.0   \n",
              "377          Sports      0.59      2.36      0.04         0.51          84.0   \n",
              "456          Action      1.80      0.97      0.00         0.29          74.0   \n",
              "475        Fighting      1.57      1.02      0.00         0.41           NaN   \n",
              "609         Shooter      2.36      0.14      0.00         0.03           NaN   \n",
              "...             ...       ...       ...       ...          ...           ...   \n",
              "16373        Sports      0.01      0.00      0.00         0.00          43.0   \n",
              "16405        Racing      0.01      0.00      0.00         0.00          69.0   \n",
              "16448       Shooter      0.01      0.00      0.00         0.00          59.0   \n",
              "16458     Adventure      0.01      0.00      0.00         0.00           NaN   \n",
              "16522  Role-Playing      0.01      0.00      0.00         0.00          55.0   \n",
              "\n",
              "      user_score rating  \n",
              "183          8.5      E  \n",
              "377          6.4      E  \n",
              "456          7.9   E10+  \n",
              "475          NaN    NaN  \n",
              "609          NaN    NaN  \n",
              "...          ...    ...  \n",
              "16373        tbd   E10+  \n",
              "16405        6.5      T  \n",
              "16448        6.7      M  \n",
              "16458        NaN    NaN  \n",
              "16522        5.5      T  \n",
              "\n",
              "[269 rows x 11 columns]"
            ]
          },
          "execution_count": 16,
          "metadata": {},
          "output_type": "execute_result"
        }
      ],
      "source": [
        "games.loc[games['year_of_release'].isnull()]"
      ]
    },
    {
      "cell_type": "code",
      "execution_count": null,
      "metadata": {
        "id": "g7CyUBVCFbZj",
        "outputId": "aea101e1-67c4-4535-8157-1bbb47d39b8a"
      },
      "outputs": [
        {
          "data": {
            "text/html": [
              "<div>\n",
              "<style scoped>\n",
              "    .dataframe tbody tr th:only-of-type {\n",
              "        vertical-align: middle;\n",
              "    }\n",
              "\n",
              "    .dataframe tbody tr th {\n",
              "        vertical-align: top;\n",
              "    }\n",
              "\n",
              "    .dataframe thead th {\n",
              "        text-align: right;\n",
              "    }\n",
              "</style>\n",
              "<table border=\"1\" class=\"dataframe\">\n",
              "  <thead>\n",
              "    <tr style=\"text-align: right;\">\n",
              "      <th></th>\n",
              "      <th>name</th>\n",
              "      <th>platform</th>\n",
              "      <th>year_of_release</th>\n",
              "      <th>genre</th>\n",
              "      <th>na_sales</th>\n",
              "      <th>eu_sales</th>\n",
              "      <th>jp_sales</th>\n",
              "      <th>other_sales</th>\n",
              "      <th>critic_score</th>\n",
              "      <th>user_score</th>\n",
              "      <th>rating</th>\n",
              "    </tr>\n",
              "  </thead>\n",
              "  <tbody>\n",
              "    <tr>\n",
              "      <th>1</th>\n",
              "      <td>Super Mario Bros.</td>\n",
              "      <td>NES</td>\n",
              "      <td>1985.0</td>\n",
              "      <td>Platform</td>\n",
              "      <td>29.08</td>\n",
              "      <td>3.58</td>\n",
              "      <td>6.81</td>\n",
              "      <td>0.77</td>\n",
              "      <td>NaN</td>\n",
              "      <td>NaN</td>\n",
              "      <td>NaN</td>\n",
              "    </tr>\n",
              "    <tr>\n",
              "      <th>4</th>\n",
              "      <td>Pokemon Red/Pokemon Blue</td>\n",
              "      <td>GB</td>\n",
              "      <td>1996.0</td>\n",
              "      <td>Role-Playing</td>\n",
              "      <td>11.27</td>\n",
              "      <td>8.89</td>\n",
              "      <td>10.22</td>\n",
              "      <td>1.00</td>\n",
              "      <td>NaN</td>\n",
              "      <td>NaN</td>\n",
              "      <td>NaN</td>\n",
              "    </tr>\n",
              "    <tr>\n",
              "      <th>5</th>\n",
              "      <td>Tetris</td>\n",
              "      <td>GB</td>\n",
              "      <td>1989.0</td>\n",
              "      <td>Puzzle</td>\n",
              "      <td>23.20</td>\n",
              "      <td>2.26</td>\n",
              "      <td>4.22</td>\n",
              "      <td>0.58</td>\n",
              "      <td>NaN</td>\n",
              "      <td>NaN</td>\n",
              "      <td>NaN</td>\n",
              "    </tr>\n",
              "    <tr>\n",
              "      <th>9</th>\n",
              "      <td>Duck Hunt</td>\n",
              "      <td>NES</td>\n",
              "      <td>1984.0</td>\n",
              "      <td>Shooter</td>\n",
              "      <td>26.93</td>\n",
              "      <td>0.63</td>\n",
              "      <td>0.28</td>\n",
              "      <td>0.47</td>\n",
              "      <td>NaN</td>\n",
              "      <td>NaN</td>\n",
              "      <td>NaN</td>\n",
              "    </tr>\n",
              "    <tr>\n",
              "      <th>10</th>\n",
              "      <td>Nintendogs</td>\n",
              "      <td>DS</td>\n",
              "      <td>2005.0</td>\n",
              "      <td>Simulation</td>\n",
              "      <td>9.05</td>\n",
              "      <td>10.95</td>\n",
              "      <td>1.93</td>\n",
              "      <td>2.74</td>\n",
              "      <td>NaN</td>\n",
              "      <td>NaN</td>\n",
              "      <td>NaN</td>\n",
              "    </tr>\n",
              "    <tr>\n",
              "      <th>...</th>\n",
              "      <td>...</td>\n",
              "      <td>...</td>\n",
              "      <td>...</td>\n",
              "      <td>...</td>\n",
              "      <td>...</td>\n",
              "      <td>...</td>\n",
              "      <td>...</td>\n",
              "      <td>...</td>\n",
              "      <td>...</td>\n",
              "      <td>...</td>\n",
              "      <td>...</td>\n",
              "    </tr>\n",
              "    <tr>\n",
              "      <th>16710</th>\n",
              "      <td>Samurai Warriors: Sanada Maru</td>\n",
              "      <td>PS3</td>\n",
              "      <td>2016.0</td>\n",
              "      <td>Action</td>\n",
              "      <td>0.00</td>\n",
              "      <td>0.00</td>\n",
              "      <td>0.01</td>\n",
              "      <td>0.00</td>\n",
              "      <td>NaN</td>\n",
              "      <td>NaN</td>\n",
              "      <td>NaN</td>\n",
              "    </tr>\n",
              "    <tr>\n",
              "      <th>16711</th>\n",
              "      <td>LMA Manager 2007</td>\n",
              "      <td>X360</td>\n",
              "      <td>2006.0</td>\n",
              "      <td>Sports</td>\n",
              "      <td>0.00</td>\n",
              "      <td>0.01</td>\n",
              "      <td>0.00</td>\n",
              "      <td>0.00</td>\n",
              "      <td>NaN</td>\n",
              "      <td>NaN</td>\n",
              "      <td>NaN</td>\n",
              "    </tr>\n",
              "    <tr>\n",
              "      <th>16712</th>\n",
              "      <td>Haitaka no Psychedelica</td>\n",
              "      <td>PSV</td>\n",
              "      <td>2016.0</td>\n",
              "      <td>Adventure</td>\n",
              "      <td>0.00</td>\n",
              "      <td>0.00</td>\n",
              "      <td>0.01</td>\n",
              "      <td>0.00</td>\n",
              "      <td>NaN</td>\n",
              "      <td>NaN</td>\n",
              "      <td>NaN</td>\n",
              "    </tr>\n",
              "    <tr>\n",
              "      <th>16713</th>\n",
              "      <td>Spirits &amp; Spells</td>\n",
              "      <td>GBA</td>\n",
              "      <td>2003.0</td>\n",
              "      <td>Platform</td>\n",
              "      <td>0.01</td>\n",
              "      <td>0.00</td>\n",
              "      <td>0.00</td>\n",
              "      <td>0.00</td>\n",
              "      <td>NaN</td>\n",
              "      <td>NaN</td>\n",
              "      <td>NaN</td>\n",
              "    </tr>\n",
              "    <tr>\n",
              "      <th>16714</th>\n",
              "      <td>Winning Post 8 2016</td>\n",
              "      <td>PSV</td>\n",
              "      <td>2016.0</td>\n",
              "      <td>Simulation</td>\n",
              "      <td>0.00</td>\n",
              "      <td>0.00</td>\n",
              "      <td>0.01</td>\n",
              "      <td>0.00</td>\n",
              "      <td>NaN</td>\n",
              "      <td>NaN</td>\n",
              "      <td>NaN</td>\n",
              "    </tr>\n",
              "  </tbody>\n",
              "</table>\n",
              "<p>8578 rows × 11 columns</p>\n",
              "</div>"
            ],
            "text/plain": [
              "                                name platform  year_of_release         genre  \\\n",
              "1                  Super Mario Bros.      NES           1985.0      Platform   \n",
              "4           Pokemon Red/Pokemon Blue       GB           1996.0  Role-Playing   \n",
              "5                             Tetris       GB           1989.0        Puzzle   \n",
              "9                          Duck Hunt      NES           1984.0       Shooter   \n",
              "10                        Nintendogs       DS           2005.0    Simulation   \n",
              "...                              ...      ...              ...           ...   \n",
              "16710  Samurai Warriors: Sanada Maru      PS3           2016.0        Action   \n",
              "16711               LMA Manager 2007     X360           2006.0        Sports   \n",
              "16712        Haitaka no Psychedelica      PSV           2016.0     Adventure   \n",
              "16713               Spirits & Spells      GBA           2003.0      Platform   \n",
              "16714            Winning Post 8 2016      PSV           2016.0    Simulation   \n",
              "\n",
              "       na_sales  eu_sales  jp_sales  other_sales  critic_score user_score  \\\n",
              "1         29.08      3.58      6.81         0.77           NaN        NaN   \n",
              "4         11.27      8.89     10.22         1.00           NaN        NaN   \n",
              "5         23.20      2.26      4.22         0.58           NaN        NaN   \n",
              "9         26.93      0.63      0.28         0.47           NaN        NaN   \n",
              "10         9.05     10.95      1.93         2.74           NaN        NaN   \n",
              "...         ...       ...       ...          ...           ...        ...   \n",
              "16710      0.00      0.00      0.01         0.00           NaN        NaN   \n",
              "16711      0.00      0.01      0.00         0.00           NaN        NaN   \n",
              "16712      0.00      0.00      0.01         0.00           NaN        NaN   \n",
              "16713      0.01      0.00      0.00         0.00           NaN        NaN   \n",
              "16714      0.00      0.00      0.01         0.00           NaN        NaN   \n",
              "\n",
              "      rating  \n",
              "1        NaN  \n",
              "4        NaN  \n",
              "5        NaN  \n",
              "9        NaN  \n",
              "10       NaN  \n",
              "...      ...  \n",
              "16710    NaN  \n",
              "16711    NaN  \n",
              "16712    NaN  \n",
              "16713    NaN  \n",
              "16714    NaN  \n",
              "\n",
              "[8578 rows x 11 columns]"
            ]
          },
          "execution_count": 17,
          "metadata": {},
          "output_type": "execute_result"
        }
      ],
      "source": [
        "games.loc[games['critic_score'].isnull()]"
      ]
    },
    {
      "cell_type": "code",
      "execution_count": null,
      "metadata": {
        "id": "hlStlZU8FbZj",
        "outputId": "0bad7718-a72f-4aef-bcea-b99a68b58980"
      },
      "outputs": [
        {
          "data": {
            "text/html": [
              "<div>\n",
              "<style scoped>\n",
              "    .dataframe tbody tr th:only-of-type {\n",
              "        vertical-align: middle;\n",
              "    }\n",
              "\n",
              "    .dataframe tbody tr th {\n",
              "        vertical-align: top;\n",
              "    }\n",
              "\n",
              "    .dataframe thead th {\n",
              "        text-align: right;\n",
              "    }\n",
              "</style>\n",
              "<table border=\"1\" class=\"dataframe\">\n",
              "  <thead>\n",
              "    <tr style=\"text-align: right;\">\n",
              "      <th></th>\n",
              "      <th>name</th>\n",
              "      <th>platform</th>\n",
              "      <th>year_of_release</th>\n",
              "      <th>genre</th>\n",
              "      <th>na_sales</th>\n",
              "      <th>eu_sales</th>\n",
              "      <th>jp_sales</th>\n",
              "      <th>other_sales</th>\n",
              "      <th>critic_score</th>\n",
              "      <th>user_score</th>\n",
              "      <th>rating</th>\n",
              "    </tr>\n",
              "  </thead>\n",
              "  <tbody>\n",
              "    <tr>\n",
              "      <th>1</th>\n",
              "      <td>Super Mario Bros.</td>\n",
              "      <td>NES</td>\n",
              "      <td>1985.0</td>\n",
              "      <td>Platform</td>\n",
              "      <td>29.08</td>\n",
              "      <td>3.58</td>\n",
              "      <td>6.81</td>\n",
              "      <td>0.77</td>\n",
              "      <td>NaN</td>\n",
              "      <td>NaN</td>\n",
              "      <td>NaN</td>\n",
              "    </tr>\n",
              "    <tr>\n",
              "      <th>4</th>\n",
              "      <td>Pokemon Red/Pokemon Blue</td>\n",
              "      <td>GB</td>\n",
              "      <td>1996.0</td>\n",
              "      <td>Role-Playing</td>\n",
              "      <td>11.27</td>\n",
              "      <td>8.89</td>\n",
              "      <td>10.22</td>\n",
              "      <td>1.00</td>\n",
              "      <td>NaN</td>\n",
              "      <td>NaN</td>\n",
              "      <td>NaN</td>\n",
              "    </tr>\n",
              "    <tr>\n",
              "      <th>5</th>\n",
              "      <td>Tetris</td>\n",
              "      <td>GB</td>\n",
              "      <td>1989.0</td>\n",
              "      <td>Puzzle</td>\n",
              "      <td>23.20</td>\n",
              "      <td>2.26</td>\n",
              "      <td>4.22</td>\n",
              "      <td>0.58</td>\n",
              "      <td>NaN</td>\n",
              "      <td>NaN</td>\n",
              "      <td>NaN</td>\n",
              "    </tr>\n",
              "    <tr>\n",
              "      <th>9</th>\n",
              "      <td>Duck Hunt</td>\n",
              "      <td>NES</td>\n",
              "      <td>1984.0</td>\n",
              "      <td>Shooter</td>\n",
              "      <td>26.93</td>\n",
              "      <td>0.63</td>\n",
              "      <td>0.28</td>\n",
              "      <td>0.47</td>\n",
              "      <td>NaN</td>\n",
              "      <td>NaN</td>\n",
              "      <td>NaN</td>\n",
              "    </tr>\n",
              "    <tr>\n",
              "      <th>10</th>\n",
              "      <td>Nintendogs</td>\n",
              "      <td>DS</td>\n",
              "      <td>2005.0</td>\n",
              "      <td>Simulation</td>\n",
              "      <td>9.05</td>\n",
              "      <td>10.95</td>\n",
              "      <td>1.93</td>\n",
              "      <td>2.74</td>\n",
              "      <td>NaN</td>\n",
              "      <td>NaN</td>\n",
              "      <td>NaN</td>\n",
              "    </tr>\n",
              "    <tr>\n",
              "      <th>...</th>\n",
              "      <td>...</td>\n",
              "      <td>...</td>\n",
              "      <td>...</td>\n",
              "      <td>...</td>\n",
              "      <td>...</td>\n",
              "      <td>...</td>\n",
              "      <td>...</td>\n",
              "      <td>...</td>\n",
              "      <td>...</td>\n",
              "      <td>...</td>\n",
              "      <td>...</td>\n",
              "    </tr>\n",
              "    <tr>\n",
              "      <th>16710</th>\n",
              "      <td>Samurai Warriors: Sanada Maru</td>\n",
              "      <td>PS3</td>\n",
              "      <td>2016.0</td>\n",
              "      <td>Action</td>\n",
              "      <td>0.00</td>\n",
              "      <td>0.00</td>\n",
              "      <td>0.01</td>\n",
              "      <td>0.00</td>\n",
              "      <td>NaN</td>\n",
              "      <td>NaN</td>\n",
              "      <td>NaN</td>\n",
              "    </tr>\n",
              "    <tr>\n",
              "      <th>16711</th>\n",
              "      <td>LMA Manager 2007</td>\n",
              "      <td>X360</td>\n",
              "      <td>2006.0</td>\n",
              "      <td>Sports</td>\n",
              "      <td>0.00</td>\n",
              "      <td>0.01</td>\n",
              "      <td>0.00</td>\n",
              "      <td>0.00</td>\n",
              "      <td>NaN</td>\n",
              "      <td>NaN</td>\n",
              "      <td>NaN</td>\n",
              "    </tr>\n",
              "    <tr>\n",
              "      <th>16712</th>\n",
              "      <td>Haitaka no Psychedelica</td>\n",
              "      <td>PSV</td>\n",
              "      <td>2016.0</td>\n",
              "      <td>Adventure</td>\n",
              "      <td>0.00</td>\n",
              "      <td>0.00</td>\n",
              "      <td>0.01</td>\n",
              "      <td>0.00</td>\n",
              "      <td>NaN</td>\n",
              "      <td>NaN</td>\n",
              "      <td>NaN</td>\n",
              "    </tr>\n",
              "    <tr>\n",
              "      <th>16713</th>\n",
              "      <td>Spirits &amp; Spells</td>\n",
              "      <td>GBA</td>\n",
              "      <td>2003.0</td>\n",
              "      <td>Platform</td>\n",
              "      <td>0.01</td>\n",
              "      <td>0.00</td>\n",
              "      <td>0.00</td>\n",
              "      <td>0.00</td>\n",
              "      <td>NaN</td>\n",
              "      <td>NaN</td>\n",
              "      <td>NaN</td>\n",
              "    </tr>\n",
              "    <tr>\n",
              "      <th>16714</th>\n",
              "      <td>Winning Post 8 2016</td>\n",
              "      <td>PSV</td>\n",
              "      <td>2016.0</td>\n",
              "      <td>Simulation</td>\n",
              "      <td>0.00</td>\n",
              "      <td>0.00</td>\n",
              "      <td>0.01</td>\n",
              "      <td>0.00</td>\n",
              "      <td>NaN</td>\n",
              "      <td>NaN</td>\n",
              "      <td>NaN</td>\n",
              "    </tr>\n",
              "  </tbody>\n",
              "</table>\n",
              "<p>6701 rows × 11 columns</p>\n",
              "</div>"
            ],
            "text/plain": [
              "                                name platform  year_of_release         genre  \\\n",
              "1                  Super Mario Bros.      NES           1985.0      Platform   \n",
              "4           Pokemon Red/Pokemon Blue       GB           1996.0  Role-Playing   \n",
              "5                             Tetris       GB           1989.0        Puzzle   \n",
              "9                          Duck Hunt      NES           1984.0       Shooter   \n",
              "10                        Nintendogs       DS           2005.0    Simulation   \n",
              "...                              ...      ...              ...           ...   \n",
              "16710  Samurai Warriors: Sanada Maru      PS3           2016.0        Action   \n",
              "16711               LMA Manager 2007     X360           2006.0        Sports   \n",
              "16712        Haitaka no Psychedelica      PSV           2016.0     Adventure   \n",
              "16713               Spirits & Spells      GBA           2003.0      Platform   \n",
              "16714            Winning Post 8 2016      PSV           2016.0    Simulation   \n",
              "\n",
              "       na_sales  eu_sales  jp_sales  other_sales  critic_score user_score  \\\n",
              "1         29.08      3.58      6.81         0.77           NaN        NaN   \n",
              "4         11.27      8.89     10.22         1.00           NaN        NaN   \n",
              "5         23.20      2.26      4.22         0.58           NaN        NaN   \n",
              "9         26.93      0.63      0.28         0.47           NaN        NaN   \n",
              "10         9.05     10.95      1.93         2.74           NaN        NaN   \n",
              "...         ...       ...       ...          ...           ...        ...   \n",
              "16710      0.00      0.00      0.01         0.00           NaN        NaN   \n",
              "16711      0.00      0.01      0.00         0.00           NaN        NaN   \n",
              "16712      0.00      0.00      0.01         0.00           NaN        NaN   \n",
              "16713      0.01      0.00      0.00         0.00           NaN        NaN   \n",
              "16714      0.00      0.00      0.01         0.00           NaN        NaN   \n",
              "\n",
              "      rating  \n",
              "1        NaN  \n",
              "4        NaN  \n",
              "5        NaN  \n",
              "9        NaN  \n",
              "10       NaN  \n",
              "...      ...  \n",
              "16710    NaN  \n",
              "16711    NaN  \n",
              "16712    NaN  \n",
              "16713    NaN  \n",
              "16714    NaN  \n",
              "\n",
              "[6701 rows x 11 columns]"
            ]
          },
          "execution_count": 18,
          "metadata": {},
          "output_type": "execute_result"
        }
      ],
      "source": [
        "games.loc[games['user_score'].isnull()]\n"
      ]
    },
    {
      "cell_type": "code",
      "execution_count": null,
      "metadata": {
        "id": "-29y3gYJFbZj",
        "outputId": "cc12a3ca-c3e4-479b-f8cc-288ba5768ad2"
      },
      "outputs": [
        {
          "data": {
            "text/html": [
              "<div>\n",
              "<style scoped>\n",
              "    .dataframe tbody tr th:only-of-type {\n",
              "        vertical-align: middle;\n",
              "    }\n",
              "\n",
              "    .dataframe tbody tr th {\n",
              "        vertical-align: top;\n",
              "    }\n",
              "\n",
              "    .dataframe thead th {\n",
              "        text-align: right;\n",
              "    }\n",
              "</style>\n",
              "<table border=\"1\" class=\"dataframe\">\n",
              "  <thead>\n",
              "    <tr style=\"text-align: right;\">\n",
              "      <th></th>\n",
              "      <th>name</th>\n",
              "      <th>platform</th>\n",
              "      <th>year_of_release</th>\n",
              "      <th>genre</th>\n",
              "      <th>na_sales</th>\n",
              "      <th>eu_sales</th>\n",
              "      <th>jp_sales</th>\n",
              "      <th>other_sales</th>\n",
              "      <th>critic_score</th>\n",
              "      <th>user_score</th>\n",
              "      <th>rating</th>\n",
              "    </tr>\n",
              "  </thead>\n",
              "  <tbody>\n",
              "    <tr>\n",
              "      <th>1</th>\n",
              "      <td>Super Mario Bros.</td>\n",
              "      <td>NES</td>\n",
              "      <td>1985.0</td>\n",
              "      <td>Platform</td>\n",
              "      <td>29.08</td>\n",
              "      <td>3.58</td>\n",
              "      <td>6.81</td>\n",
              "      <td>0.77</td>\n",
              "      <td>NaN</td>\n",
              "      <td>NaN</td>\n",
              "      <td>NaN</td>\n",
              "    </tr>\n",
              "    <tr>\n",
              "      <th>4</th>\n",
              "      <td>Pokemon Red/Pokemon Blue</td>\n",
              "      <td>GB</td>\n",
              "      <td>1996.0</td>\n",
              "      <td>Role-Playing</td>\n",
              "      <td>11.27</td>\n",
              "      <td>8.89</td>\n",
              "      <td>10.22</td>\n",
              "      <td>1.00</td>\n",
              "      <td>NaN</td>\n",
              "      <td>NaN</td>\n",
              "      <td>NaN</td>\n",
              "    </tr>\n",
              "    <tr>\n",
              "      <th>5</th>\n",
              "      <td>Tetris</td>\n",
              "      <td>GB</td>\n",
              "      <td>1989.0</td>\n",
              "      <td>Puzzle</td>\n",
              "      <td>23.20</td>\n",
              "      <td>2.26</td>\n",
              "      <td>4.22</td>\n",
              "      <td>0.58</td>\n",
              "      <td>NaN</td>\n",
              "      <td>NaN</td>\n",
              "      <td>NaN</td>\n",
              "    </tr>\n",
              "    <tr>\n",
              "      <th>9</th>\n",
              "      <td>Duck Hunt</td>\n",
              "      <td>NES</td>\n",
              "      <td>1984.0</td>\n",
              "      <td>Shooter</td>\n",
              "      <td>26.93</td>\n",
              "      <td>0.63</td>\n",
              "      <td>0.28</td>\n",
              "      <td>0.47</td>\n",
              "      <td>NaN</td>\n",
              "      <td>NaN</td>\n",
              "      <td>NaN</td>\n",
              "    </tr>\n",
              "    <tr>\n",
              "      <th>10</th>\n",
              "      <td>Nintendogs</td>\n",
              "      <td>DS</td>\n",
              "      <td>2005.0</td>\n",
              "      <td>Simulation</td>\n",
              "      <td>9.05</td>\n",
              "      <td>10.95</td>\n",
              "      <td>1.93</td>\n",
              "      <td>2.74</td>\n",
              "      <td>NaN</td>\n",
              "      <td>NaN</td>\n",
              "      <td>NaN</td>\n",
              "    </tr>\n",
              "    <tr>\n",
              "      <th>...</th>\n",
              "      <td>...</td>\n",
              "      <td>...</td>\n",
              "      <td>...</td>\n",
              "      <td>...</td>\n",
              "      <td>...</td>\n",
              "      <td>...</td>\n",
              "      <td>...</td>\n",
              "      <td>...</td>\n",
              "      <td>...</td>\n",
              "      <td>...</td>\n",
              "      <td>...</td>\n",
              "    </tr>\n",
              "    <tr>\n",
              "      <th>16710</th>\n",
              "      <td>Samurai Warriors: Sanada Maru</td>\n",
              "      <td>PS3</td>\n",
              "      <td>2016.0</td>\n",
              "      <td>Action</td>\n",
              "      <td>0.00</td>\n",
              "      <td>0.00</td>\n",
              "      <td>0.01</td>\n",
              "      <td>0.00</td>\n",
              "      <td>NaN</td>\n",
              "      <td>NaN</td>\n",
              "      <td>NaN</td>\n",
              "    </tr>\n",
              "    <tr>\n",
              "      <th>16711</th>\n",
              "      <td>LMA Manager 2007</td>\n",
              "      <td>X360</td>\n",
              "      <td>2006.0</td>\n",
              "      <td>Sports</td>\n",
              "      <td>0.00</td>\n",
              "      <td>0.01</td>\n",
              "      <td>0.00</td>\n",
              "      <td>0.00</td>\n",
              "      <td>NaN</td>\n",
              "      <td>NaN</td>\n",
              "      <td>NaN</td>\n",
              "    </tr>\n",
              "    <tr>\n",
              "      <th>16712</th>\n",
              "      <td>Haitaka no Psychedelica</td>\n",
              "      <td>PSV</td>\n",
              "      <td>2016.0</td>\n",
              "      <td>Adventure</td>\n",
              "      <td>0.00</td>\n",
              "      <td>0.00</td>\n",
              "      <td>0.01</td>\n",
              "      <td>0.00</td>\n",
              "      <td>NaN</td>\n",
              "      <td>NaN</td>\n",
              "      <td>NaN</td>\n",
              "    </tr>\n",
              "    <tr>\n",
              "      <th>16713</th>\n",
              "      <td>Spirits &amp; Spells</td>\n",
              "      <td>GBA</td>\n",
              "      <td>2003.0</td>\n",
              "      <td>Platform</td>\n",
              "      <td>0.01</td>\n",
              "      <td>0.00</td>\n",
              "      <td>0.00</td>\n",
              "      <td>0.00</td>\n",
              "      <td>NaN</td>\n",
              "      <td>NaN</td>\n",
              "      <td>NaN</td>\n",
              "    </tr>\n",
              "    <tr>\n",
              "      <th>16714</th>\n",
              "      <td>Winning Post 8 2016</td>\n",
              "      <td>PSV</td>\n",
              "      <td>2016.0</td>\n",
              "      <td>Simulation</td>\n",
              "      <td>0.00</td>\n",
              "      <td>0.00</td>\n",
              "      <td>0.01</td>\n",
              "      <td>0.00</td>\n",
              "      <td>NaN</td>\n",
              "      <td>NaN</td>\n",
              "      <td>NaN</td>\n",
              "    </tr>\n",
              "  </tbody>\n",
              "</table>\n",
              "<p>6766 rows × 11 columns</p>\n",
              "</div>"
            ],
            "text/plain": [
              "                                name platform  year_of_release         genre  \\\n",
              "1                  Super Mario Bros.      NES           1985.0      Platform   \n",
              "4           Pokemon Red/Pokemon Blue       GB           1996.0  Role-Playing   \n",
              "5                             Tetris       GB           1989.0        Puzzle   \n",
              "9                          Duck Hunt      NES           1984.0       Shooter   \n",
              "10                        Nintendogs       DS           2005.0    Simulation   \n",
              "...                              ...      ...              ...           ...   \n",
              "16710  Samurai Warriors: Sanada Maru      PS3           2016.0        Action   \n",
              "16711               LMA Manager 2007     X360           2006.0        Sports   \n",
              "16712        Haitaka no Psychedelica      PSV           2016.0     Adventure   \n",
              "16713               Spirits & Spells      GBA           2003.0      Platform   \n",
              "16714            Winning Post 8 2016      PSV           2016.0    Simulation   \n",
              "\n",
              "       na_sales  eu_sales  jp_sales  other_sales  critic_score user_score  \\\n",
              "1         29.08      3.58      6.81         0.77           NaN        NaN   \n",
              "4         11.27      8.89     10.22         1.00           NaN        NaN   \n",
              "5         23.20      2.26      4.22         0.58           NaN        NaN   \n",
              "9         26.93      0.63      0.28         0.47           NaN        NaN   \n",
              "10         9.05     10.95      1.93         2.74           NaN        NaN   \n",
              "...         ...       ...       ...          ...           ...        ...   \n",
              "16710      0.00      0.00      0.01         0.00           NaN        NaN   \n",
              "16711      0.00      0.01      0.00         0.00           NaN        NaN   \n",
              "16712      0.00      0.00      0.01         0.00           NaN        NaN   \n",
              "16713      0.01      0.00      0.00         0.00           NaN        NaN   \n",
              "16714      0.00      0.00      0.01         0.00           NaN        NaN   \n",
              "\n",
              "      rating  \n",
              "1        NaN  \n",
              "4        NaN  \n",
              "5        NaN  \n",
              "9        NaN  \n",
              "10       NaN  \n",
              "...      ...  \n",
              "16710    NaN  \n",
              "16711    NaN  \n",
              "16712    NaN  \n",
              "16713    NaN  \n",
              "16714    NaN  \n",
              "\n",
              "[6766 rows x 11 columns]"
            ]
          },
          "execution_count": 19,
          "metadata": {},
          "output_type": "execute_result"
        }
      ],
      "source": [
        "games.loc[games['rating'].isnull()]"
      ]
    },
    {
      "cell_type": "markdown",
      "metadata": {
        "id": "zHIDEPNnFbZj"
      },
      "source": [
        "- Vamos filtrar o Dataframe para encontrar registros que possuem valores ausentes correspondente nas colunas que apresentam dados faltantes."
      ]
    },
    {
      "cell_type": "code",
      "execution_count": null,
      "metadata": {
        "id": "uyhySXQQFbZk",
        "outputId": "68e60918-e5a2-4fe5-f9b8-426de006f450"
      },
      "outputs": [
        {
          "data": {
            "text/html": [
              "<div>\n",
              "<style scoped>\n",
              "    .dataframe tbody tr th:only-of-type {\n",
              "        vertical-align: middle;\n",
              "    }\n",
              "\n",
              "    .dataframe tbody tr th {\n",
              "        vertical-align: top;\n",
              "    }\n",
              "\n",
              "    .dataframe thead th {\n",
              "        text-align: right;\n",
              "    }\n",
              "</style>\n",
              "<table border=\"1\" class=\"dataframe\">\n",
              "  <thead>\n",
              "    <tr style=\"text-align: right;\">\n",
              "      <th></th>\n",
              "      <th>name</th>\n",
              "      <th>platform</th>\n",
              "      <th>year_of_release</th>\n",
              "      <th>genre</th>\n",
              "      <th>na_sales</th>\n",
              "      <th>eu_sales</th>\n",
              "      <th>jp_sales</th>\n",
              "      <th>other_sales</th>\n",
              "      <th>critic_score</th>\n",
              "      <th>user_score</th>\n",
              "      <th>rating</th>\n",
              "    </tr>\n",
              "  </thead>\n",
              "  <tbody>\n",
              "  </tbody>\n",
              "</table>\n",
              "</div>"
            ],
            "text/plain": [
              "Empty DataFrame\n",
              "Columns: [name, platform, year_of_release, genre, na_sales, eu_sales, jp_sales, other_sales, critic_score, user_score, rating]\n",
              "Index: []"
            ]
          },
          "execution_count": 20,
          "metadata": {},
          "output_type": "execute_result"
        }
      ],
      "source": [
        "#Linhas onde os valores ausentes correspondem as colunas com dados ausentes\n",
        "missing_values = games.loc[games['name'].isna() & games['year_of_release'].isna() & games['critic_score'].isna()\n",
        "         & games['user_score'].isna() & games['rating'].isna()]\n",
        "missing_values"
      ]
    },
    {
      "cell_type": "code",
      "execution_count": null,
      "metadata": {
        "id": "4KPIiJsMFbZk",
        "outputId": "e36287e7-5e94-47c6-a5c0-32ead082bbbf"
      },
      "outputs": [
        {
          "data": {
            "text/plain": [
              "269"
            ]
          },
          "execution_count": 21,
          "metadata": {},
          "output_type": "execute_result"
        }
      ],
      "source": [
        "#Filtrando valores ausentes\n",
        "filtro = games['name'].isna()\n",
        "games[~filtro]['year_of_release'].isna().sum()"
      ]
    },
    {
      "cell_type": "code",
      "execution_count": null,
      "metadata": {
        "id": "SZm9EUhAFbZk",
        "outputId": "dfed2b8e-96d5-4ed3-9931-473ff8bb42da"
      },
      "outputs": [
        {
          "data": {
            "text/plain": [
              "name                0.011965\n",
              "platform            0.000000\n",
              "year_of_release     1.609333\n",
              "genre               0.011965\n",
              "na_sales            0.000000\n",
              "eu_sales            0.000000\n",
              "jp_sales            0.000000\n",
              "other_sales         0.000000\n",
              "critic_score       51.319174\n",
              "user_score         40.089740\n",
              "rating             40.478612\n",
              "dtype: float64"
            ]
          },
          "execution_count": 22,
          "metadata": {},
          "output_type": "execute_result"
        }
      ],
      "source": [
        "#Verificando a % de dados ausentes nas colunas\n",
        "games.isna().sum()/games.shape[0]*100"
      ]
    },
    {
      "cell_type": "markdown",
      "metadata": {
        "id": "Z8Qh_cAeFbZk"
      },
      "source": [
        "Os valores indicam a proporção de valores ausentes em cada coluna em relação ao total de dados. Temos algumas colunas com uma porcentagem de ausentes bem baixas como por exemplo, a coluna `Name` e `Genre` não possue nem 0.1% de valor ausentes; A coluna `Year_of_Release` com pouco mais de 1%. Enquanto que as colunas `Critic_Score`, `User_Score` e `Rating` apresentando porcentagem de valores ausentes em torno de 40%-50% sendo uma quantidade considerável.\n",
        "\n",
        "\n",
        "Isso permite uma visão geral da quantidade de dados ausentes em cada coluna o que pode ajudar a identificar as colunas com maior proporção de valores ausentes para tomar decisões de como vamos processar esses dados.\n",
        "\n",
        "Vamos dar uma olhada mais detalhada nos valores ausentes em cada coluna e discutir possíveis abordagens para lidar com eles."
      ]
    },
    {
      "cell_type": "markdown",
      "metadata": {
        "id": "ot7hZ62vFbZl"
      },
      "source": [
        "### Cuidando dos ausentes de cada coluna"
      ]
    },
    {
      "cell_type": "markdown",
      "metadata": {
        "id": "GsRHMX_BFbZl"
      },
      "source": [
        "### Coluna `name`\n",
        "\n",
        "A coluna `name` representa o nome do jogo.\n",
        "\n",
        "Existem apenas 2 valores ausentes nessa coluna. Uma abordagem razoável seria verificar se esses jogos têm alguma outra informação disponível, como o ano de lançamento ou o gênero, para tentar identificá-los e preencher os nomes faltantes manualmente. Se não for possível identificar os jogos ausentes, outra opção seria removê-los do conjunto de dados."
      ]
    },
    {
      "cell_type": "code",
      "execution_count": null,
      "metadata": {
        "id": "1i6ckoOmFbZl"
      },
      "outputs": [],
      "source": [
        "# Verificar se há informações disponíveis para os jogos com nome ausente\n",
        "missing_name_games = games[games['name'].isnull()]\n",
        "missing_name_games_info = missing_name_games[['year_of_release', 'genre']]"
      ]
    },
    {
      "cell_type": "code",
      "execution_count": null,
      "metadata": {
        "id": "jMZco1NeFbZl",
        "outputId": "c3f740d1-e036-471e-a262-2dbd299b844a"
      },
      "outputs": [
        {
          "data": {
            "text/html": [
              "<div>\n",
              "<style scoped>\n",
              "    .dataframe tbody tr th:only-of-type {\n",
              "        vertical-align: middle;\n",
              "    }\n",
              "\n",
              "    .dataframe tbody tr th {\n",
              "        vertical-align: top;\n",
              "    }\n",
              "\n",
              "    .dataframe thead th {\n",
              "        text-align: right;\n",
              "    }\n",
              "</style>\n",
              "<table border=\"1\" class=\"dataframe\">\n",
              "  <thead>\n",
              "    <tr style=\"text-align: right;\">\n",
              "      <th></th>\n",
              "      <th>name</th>\n",
              "      <th>platform</th>\n",
              "      <th>year_of_release</th>\n",
              "      <th>genre</th>\n",
              "      <th>na_sales</th>\n",
              "      <th>eu_sales</th>\n",
              "      <th>jp_sales</th>\n",
              "      <th>other_sales</th>\n",
              "      <th>critic_score</th>\n",
              "      <th>user_score</th>\n",
              "      <th>rating</th>\n",
              "    </tr>\n",
              "  </thead>\n",
              "  <tbody>\n",
              "    <tr>\n",
              "      <th>659</th>\n",
              "      <td>NaN</td>\n",
              "      <td>GEN</td>\n",
              "      <td>1993.0</td>\n",
              "      <td>NaN</td>\n",
              "      <td>1.78</td>\n",
              "      <td>0.53</td>\n",
              "      <td>0.00</td>\n",
              "      <td>0.08</td>\n",
              "      <td>NaN</td>\n",
              "      <td>NaN</td>\n",
              "      <td>NaN</td>\n",
              "    </tr>\n",
              "    <tr>\n",
              "      <th>14244</th>\n",
              "      <td>NaN</td>\n",
              "      <td>GEN</td>\n",
              "      <td>1993.0</td>\n",
              "      <td>NaN</td>\n",
              "      <td>0.00</td>\n",
              "      <td>0.00</td>\n",
              "      <td>0.03</td>\n",
              "      <td>0.00</td>\n",
              "      <td>NaN</td>\n",
              "      <td>NaN</td>\n",
              "      <td>NaN</td>\n",
              "    </tr>\n",
              "  </tbody>\n",
              "</table>\n",
              "</div>"
            ],
            "text/plain": [
              "      name platform  year_of_release genre  na_sales  eu_sales  jp_sales  \\\n",
              "659    NaN      GEN           1993.0   NaN      1.78      0.53      0.00   \n",
              "14244  NaN      GEN           1993.0   NaN      0.00      0.00      0.03   \n",
              "\n",
              "       other_sales  critic_score user_score rating  \n",
              "659           0.08           NaN        NaN    NaN  \n",
              "14244         0.00           NaN        NaN    NaN  "
            ]
          },
          "execution_count": 24,
          "metadata": {},
          "output_type": "execute_result"
        }
      ],
      "source": [
        "missing_name_games"
      ]
    },
    {
      "cell_type": "code",
      "execution_count": null,
      "metadata": {
        "id": "jRtEZ2eJFbZl",
        "outputId": "50c35c11-99f7-431c-f980-f6ded66c8dd4"
      },
      "outputs": [
        {
          "data": {
            "text/html": [
              "<div>\n",
              "<style scoped>\n",
              "    .dataframe tbody tr th:only-of-type {\n",
              "        vertical-align: middle;\n",
              "    }\n",
              "\n",
              "    .dataframe tbody tr th {\n",
              "        vertical-align: top;\n",
              "    }\n",
              "\n",
              "    .dataframe thead th {\n",
              "        text-align: right;\n",
              "    }\n",
              "</style>\n",
              "<table border=\"1\" class=\"dataframe\">\n",
              "  <thead>\n",
              "    <tr style=\"text-align: right;\">\n",
              "      <th></th>\n",
              "      <th>year_of_release</th>\n",
              "      <th>genre</th>\n",
              "    </tr>\n",
              "  </thead>\n",
              "  <tbody>\n",
              "    <tr>\n",
              "      <th>659</th>\n",
              "      <td>1993.0</td>\n",
              "      <td>NaN</td>\n",
              "    </tr>\n",
              "    <tr>\n",
              "      <th>14244</th>\n",
              "      <td>1993.0</td>\n",
              "      <td>NaN</td>\n",
              "    </tr>\n",
              "  </tbody>\n",
              "</table>\n",
              "</div>"
            ],
            "text/plain": [
              "       year_of_release genre\n",
              "659             1993.0   NaN\n",
              "14244           1993.0   NaN"
            ]
          },
          "execution_count": 25,
          "metadata": {},
          "output_type": "execute_result"
        }
      ],
      "source": [
        "missing_name_games_info"
      ]
    },
    {
      "cell_type": "markdown",
      "metadata": {
        "id": "Amuopz17FbZl"
      },
      "source": [
        "- Dessa forma, podemos verificar se esses jogos possuem informações de lançamento ou gênero que possam ajudar a identificá-los e preencher os nomes manualmente. Só temos informações disponíveis sobre o ano de lançamento dos jogos ausentes na coluna `name`. Tendo em vista que representam menos de 1% dos dados, optamos por remove-los."
      ]
    },
    {
      "cell_type": "code",
      "execution_count": null,
      "metadata": {
        "id": "_ImR_He2FbZl"
      },
      "outputs": [],
      "source": [
        "# Removendo as duas linhas com ausentes\n",
        "games.dropna(subset=['name'], inplace=True)"
      ]
    },
    {
      "cell_type": "code",
      "execution_count": null,
      "metadata": {
        "id": "P9X2-CKQFbZl",
        "outputId": "6e5728ce-f877-457f-82f8-3f924bb373e0"
      },
      "outputs": [
        {
          "data": {
            "text/plain": [
              "name                  0\n",
              "platform              0\n",
              "year_of_release     269\n",
              "genre                 0\n",
              "na_sales              0\n",
              "eu_sales              0\n",
              "jp_sales              0\n",
              "other_sales           0\n",
              "critic_score       8576\n",
              "user_score         6699\n",
              "rating             6764\n",
              "dtype: int64"
            ]
          },
          "execution_count": 27,
          "metadata": {},
          "output_type": "execute_result"
        }
      ],
      "source": [
        "#Verificando a coluna apos a remocao\n",
        "games.isna().sum()"
      ]
    },
    {
      "cell_type": "markdown",
      "metadata": {
        "id": "MDWUje6qFbZl"
      },
      "source": [
        "### Coluna `genre`\n",
        "\n",
        "A coluna `genre` contém informações sobre o gênero dos jogos. Assim como na coluna name, existem apenas 2 valores faltantes nessa coluna. No entanto, não foi identificado nenhum meio confiável de preencher manualmente esses valores com base em outras informações disponíveis, como nome, plataforma ou outros campos relacionados.\n",
        "\n",
        "Ao lidar com esses valores faltantes, foi observado que eles correspondem aos mesmos jogos em que os valores faltantes da coluna `name` foram removidos anteriormente. Portanto, ao remover os valores faltantes da coluna name, os correspondentes valores faltantes na coluna genre também foram removidos.\n",
        "\n",
        "Nesse caso, a remoção dos valores faltantes da coluna name resultou na perda dos respectivos valores faltantes na coluna genre. Não foi possível recuperar essas informações faltantes com base nos dados disponíveis."
      ]
    },
    {
      "cell_type": "code",
      "execution_count": null,
      "metadata": {
        "id": "ARuGt7vEFbZl",
        "outputId": "8247280b-065c-4bf7-a717-65256af6351c"
      },
      "outputs": [
        {
          "data": {
            "text/plain": [
              "name                  0\n",
              "platform              0\n",
              "year_of_release     269\n",
              "genre                 0\n",
              "na_sales              0\n",
              "eu_sales              0\n",
              "jp_sales              0\n",
              "other_sales           0\n",
              "critic_score       8576\n",
              "user_score         6699\n",
              "rating             6764\n",
              "dtype: int64"
            ]
          },
          "execution_count": 28,
          "metadata": {},
          "output_type": "execute_result"
        }
      ],
      "source": [
        "games.isna().sum()"
      ]
    },
    {
      "cell_type": "markdown",
      "metadata": {
        "id": "oKoutCW1FbZm"
      },
      "source": [
        "### Coluna `year_of_release`\n",
        "\n",
        "Existem 269 valores ausentes nessa coluna(1.6%). Para lidar com esses valores, podemos considerar algumas opções:\n",
        "\n",
        "No caso específico mencionado, optou-se por substituir os valores ausentes utilizando uma pivot table. Essa abordagem envolveu agrupar os jogos por plataforma e gênero, e então calcular a mediana dos anos de lançamento para cada combinação desses fatores. Os valores ausentes foram preenchidos com as medianas correspondentes, proporcionando uma estimativa razoável com base nos dados disponíveis.\n"
      ]
    },
    {
      "cell_type": "code",
      "execution_count": null,
      "metadata": {
        "id": "MZQt0F8MFbZm",
        "outputId": "9305a74c-0320-4417-c666-13291bced66c"
      },
      "outputs": [
        {
          "data": {
            "text/html": [
              "<div>\n",
              "<style scoped>\n",
              "    .dataframe tbody tr th:only-of-type {\n",
              "        vertical-align: middle;\n",
              "    }\n",
              "\n",
              "    .dataframe tbody tr th {\n",
              "        vertical-align: top;\n",
              "    }\n",
              "\n",
              "    .dataframe thead th {\n",
              "        text-align: right;\n",
              "    }\n",
              "</style>\n",
              "<table border=\"1\" class=\"dataframe\">\n",
              "  <thead>\n",
              "    <tr style=\"text-align: right;\">\n",
              "      <th></th>\n",
              "      <th>year_of_release</th>\n",
              "    </tr>\n",
              "    <tr>\n",
              "      <th>genre</th>\n",
              "      <th></th>\n",
              "    </tr>\n",
              "  </thead>\n",
              "  <tbody>\n",
              "    <tr>\n",
              "      <th>Action</th>\n",
              "      <td>2009.0</td>\n",
              "    </tr>\n",
              "    <tr>\n",
              "      <th>Adventure</th>\n",
              "      <td>2009.0</td>\n",
              "    </tr>\n",
              "    <tr>\n",
              "      <th>Fighting</th>\n",
              "      <td>2005.0</td>\n",
              "    </tr>\n",
              "    <tr>\n",
              "      <th>Misc</th>\n",
              "      <td>2008.0</td>\n",
              "    </tr>\n",
              "    <tr>\n",
              "      <th>Platform</th>\n",
              "      <td>2004.0</td>\n",
              "    </tr>\n",
              "    <tr>\n",
              "      <th>Puzzle</th>\n",
              "      <td>2007.0</td>\n",
              "    </tr>\n",
              "    <tr>\n",
              "      <th>Racing</th>\n",
              "      <td>2005.0</td>\n",
              "    </tr>\n",
              "    <tr>\n",
              "      <th>Role-Playing</th>\n",
              "      <td>2008.0</td>\n",
              "    </tr>\n",
              "    <tr>\n",
              "      <th>Shooter</th>\n",
              "      <td>2007.0</td>\n",
              "    </tr>\n",
              "    <tr>\n",
              "      <th>Simulation</th>\n",
              "      <td>2008.0</td>\n",
              "    </tr>\n",
              "    <tr>\n",
              "      <th>Sports</th>\n",
              "      <td>2006.0</td>\n",
              "    </tr>\n",
              "    <tr>\n",
              "      <th>Strategy</th>\n",
              "      <td>2007.0</td>\n",
              "    </tr>\n",
              "  </tbody>\n",
              "</table>\n",
              "</div>"
            ],
            "text/plain": [
              "              year_of_release\n",
              "genre                        \n",
              "Action                 2009.0\n",
              "Adventure              2009.0\n",
              "Fighting               2005.0\n",
              "Misc                   2008.0\n",
              "Platform               2004.0\n",
              "Puzzle                 2007.0\n",
              "Racing                 2005.0\n",
              "Role-Playing           2008.0\n",
              "Shooter                2007.0\n",
              "Simulation             2008.0\n",
              "Sports                 2006.0\n",
              "Strategy               2007.0"
            ]
          },
          "execution_count": 29,
          "metadata": {},
          "output_type": "execute_result"
        }
      ],
      "source": [
        "# Criar uma tabela pivot para obter mais detalhes\n",
        "pivot_table_year = games.pivot_table(index='genre', values='year_of_release', aggfunc=np.median)\n",
        "pivot_table_year"
      ]
    },
    {
      "cell_type": "code",
      "execution_count": null,
      "metadata": {
        "id": "0qPPHtveFbZm"
      },
      "outputs": [],
      "source": [
        "#Função para preencher os valores ausentes com a mediana\n",
        "def fill_missing_year(row):\n",
        "    if pd.isnull(row['year_of_release']):\n",
        "        genre = row['genre']\n",
        "        if genre in pivot_table_year.index:\n",
        "            return pivot_table_year.loc[genre]['year_of_release']\n",
        "    return row['year_of_release']"
      ]
    },
    {
      "cell_type": "code",
      "execution_count": null,
      "metadata": {
        "id": "OskovCF1FbZm"
      },
      "outputs": [],
      "source": [
        "# Preencher os valores ausentes na coluna 'year_of_release' com a mediana da tabela pivot\n",
        "games['year_of_release'] = games.apply(fill_missing_year, axis=1)"
      ]
    },
    {
      "cell_type": "code",
      "execution_count": null,
      "metadata": {
        "id": "V9Mq5TEaFbZm",
        "outputId": "54e83a1d-df52-46f7-dcc0-8c7ad6b64f7c"
      },
      "outputs": [
        {
          "data": {
            "text/plain": [
              "name                  0\n",
              "platform              0\n",
              "year_of_release       0\n",
              "genre                 0\n",
              "na_sales              0\n",
              "eu_sales              0\n",
              "jp_sales              0\n",
              "other_sales           0\n",
              "critic_score       8576\n",
              "user_score         6699\n",
              "rating             6764\n",
              "dtype: int64"
            ]
          },
          "execution_count": 32,
          "metadata": {},
          "output_type": "execute_result"
        }
      ],
      "source": [
        "# Verificar se os valores ausentes foram preenchidos\n",
        "games.isna().sum()"
      ]
    },
    {
      "cell_type": "markdown",
      "metadata": {
        "id": "HYjpymYLFbZm"
      },
      "source": [
        "### Coluna `critic_Score`\n",
        "\n",
        "A coluna `critic_score` representa a pontuação de crítica que um jogo recebeu, variando de 0 a 100. No entanto, essa coluna possui 8.578 valores ausentes.\n",
        "\n",
        "No contexto da necessidade de responder ao tópico sobre como as avaliações de usuários e críticos profissionais afetam as vendas de uma plataforma popular (a plataforma pode ser escolhida posteriormente), é essencial realizar uma imputação de valores que leve em conta mais detalhes.\n",
        "\n",
        "Uma abordagem adequada para esse cenário seria utilizar uma pivot table, que permite agrupar os jogos por plataforma e outros fatores relevantes, como gênero, ano de lançamento, entre outros. Em seguida, podemos calcular as estatísticas resumidas, como média ou mediana, das pontuações de crítica para cada combinação desses fatores. Essas estatísticas podem ser usadas para preencher os valores ausentes, fornecendo uma estimativa mais precisa e personalizada com base nos dados disponíveis. Vamos considerando fatores relevantes e assim incorporamos informações mais detalhadas e relevantes para entender como as avaliações de usuários e críticos profissionais podem influenciar as vendas em uma plataforma popular.\n",
        "\n",
        "Vamos considerar utilizar a mediana como uma medida estatística mais robusta e adequada pois é menos sensível a valores extremos (outliers) do que a média e menos suscetível a distorções causadas por uma distribuição assimétrica.\n",
        "\n",
        "Ao utilizar a mediana para preencher os valores ausentes, estamos usando um valor central que representa a metade dos dados disponíveis. Isso ajuda a preservar a distribuição geral da pontuação crítica e a evitar distorções significativas causadas por valores extremos ou discrepantes."
      ]
    },
    {
      "cell_type": "code",
      "execution_count": null,
      "metadata": {
        "id": "mgyMr7nEFbZm",
        "outputId": "d498e208-d2bc-47b8-e6e8-3ab851d38f78"
      },
      "outputs": [
        {
          "data": {
            "text/html": [
              "<div>\n",
              "<style scoped>\n",
              "    .dataframe tbody tr th:only-of-type {\n",
              "        vertical-align: middle;\n",
              "    }\n",
              "\n",
              "    .dataframe tbody tr th {\n",
              "        vertical-align: top;\n",
              "    }\n",
              "\n",
              "    .dataframe thead th {\n",
              "        text-align: right;\n",
              "    }\n",
              "</style>\n",
              "<table border=\"1\" class=\"dataframe\">\n",
              "  <thead>\n",
              "    <tr style=\"text-align: right;\">\n",
              "      <th></th>\n",
              "      <th>critic_score</th>\n",
              "    </tr>\n",
              "    <tr>\n",
              "      <th>genre</th>\n",
              "      <th></th>\n",
              "    </tr>\n",
              "  </thead>\n",
              "  <tbody>\n",
              "    <tr>\n",
              "      <th>Action</th>\n",
              "      <td>66.629101</td>\n",
              "    </tr>\n",
              "    <tr>\n",
              "      <th>Adventure</th>\n",
              "      <td>65.331269</td>\n",
              "    </tr>\n",
              "    <tr>\n",
              "      <th>Fighting</th>\n",
              "      <td>69.217604</td>\n",
              "    </tr>\n",
              "    <tr>\n",
              "      <th>Misc</th>\n",
              "      <td>66.619503</td>\n",
              "    </tr>\n",
              "    <tr>\n",
              "      <th>Platform</th>\n",
              "      <td>68.058350</td>\n",
              "    </tr>\n",
              "    <tr>\n",
              "      <th>Puzzle</th>\n",
              "      <td>67.424107</td>\n",
              "    </tr>\n",
              "    <tr>\n",
              "      <th>Racing</th>\n",
              "      <td>67.963612</td>\n",
              "    </tr>\n",
              "    <tr>\n",
              "      <th>Role-Playing</th>\n",
              "      <td>72.652646</td>\n",
              "    </tr>\n",
              "    <tr>\n",
              "      <th>Shooter</th>\n",
              "      <td>70.181144</td>\n",
              "    </tr>\n",
              "    <tr>\n",
              "      <th>Simulation</th>\n",
              "      <td>68.619318</td>\n",
              "    </tr>\n",
              "    <tr>\n",
              "      <th>Sports</th>\n",
              "      <td>71.968174</td>\n",
              "    </tr>\n",
              "    <tr>\n",
              "      <th>Strategy</th>\n",
              "      <td>72.086093</td>\n",
              "    </tr>\n",
              "  </tbody>\n",
              "</table>\n",
              "</div>"
            ],
            "text/plain": [
              "              critic_score\n",
              "genre                     \n",
              "Action           66.629101\n",
              "Adventure        65.331269\n",
              "Fighting         69.217604\n",
              "Misc             66.619503\n",
              "Platform         68.058350\n",
              "Puzzle           67.424107\n",
              "Racing           67.963612\n",
              "Role-Playing     72.652646\n",
              "Shooter          70.181144\n",
              "Simulation       68.619318\n",
              "Sports           71.968174\n",
              "Strategy         72.086093"
            ]
          },
          "execution_count": 33,
          "metadata": {},
          "output_type": "execute_result"
        }
      ],
      "source": [
        "#Pivot Table com base nas colunas relevantes 'genre' e 'critic_score'\n",
        "pivot_table_critic = games.pivot_table(index='genre', values='critic_score')\n",
        "pivot_table_critic"
      ]
    },
    {
      "cell_type": "code",
      "execution_count": null,
      "metadata": {
        "id": "wLD-RZFMFbZm"
      },
      "outputs": [],
      "source": [
        "#Definindo função que irá preencher os valores ausentes na coluna 'critic_score' com base na tabela pivot\n",
        "def fill_missing_scores(row, score_column, pivot_table):\n",
        "    if pd.isnull(row[score_column]):\n",
        "        genre = row['genre']\n",
        "        if genre in pivot_table.index:\n",
        "            return pivot_table.loc[genre][score_column]\n",
        "    return row[score_column]"
      ]
    },
    {
      "cell_type": "markdown",
      "metadata": {
        "id": "3wDEQK-mFbZm"
      },
      "source": [
        "- Essa função verifica se o valor na coluna `critic_score` é ausente. Em caso afirmativo, ela verifica se o gênero está presente na tabela pivot criada anteriormente. Se o gênero estiver presente, o valor correspondente da tabela pivot será retornado. Caso contrário, o valor ausente será mantido."
      ]
    },
    {
      "cell_type": "code",
      "execution_count": null,
      "metadata": {
        "id": "FujWpm2_FbZm"
      },
      "outputs": [],
      "source": [
        "#Aplicando a função aos dados\n",
        "games['critic_score'] = games.apply(lambda row: fill_missing_scores(row, 'critic_score', pivot_table_critic), axis=1)"
      ]
    },
    {
      "cell_type": "code",
      "execution_count": null,
      "metadata": {
        "id": "sbl5OeveFbZm",
        "outputId": "59dcab46-b4fd-46fd-ee29-a3dd35a8eda8"
      },
      "outputs": [
        {
          "data": {
            "text/plain": [
              "name                  0\n",
              "platform              0\n",
              "year_of_release       0\n",
              "genre                 0\n",
              "na_sales              0\n",
              "eu_sales              0\n",
              "jp_sales              0\n",
              "other_sales           0\n",
              "critic_score          0\n",
              "user_score         6699\n",
              "rating             6764\n",
              "dtype: int64"
            ]
          },
          "execution_count": 36,
          "metadata": {},
          "output_type": "execute_result"
        }
      ],
      "source": [
        "#Verificando substituição\n",
        "games.isna().sum()"
      ]
    },
    {
      "cell_type": "code",
      "execution_count": null,
      "metadata": {
        "id": "rtQL4029FbZm",
        "outputId": "0f0a228a-0c30-487b-8e8b-67c741819d22"
      },
      "outputs": [
        {
          "data": {
            "text/plain": [
              "98.0"
            ]
          },
          "execution_count": 37,
          "metadata": {},
          "output_type": "execute_result"
        }
      ],
      "source": [
        "#Verificando se na coluna existem valor acima do máximo esperado\n",
        "games['critic_score'].max()"
      ]
    },
    {
      "cell_type": "markdown",
      "metadata": {
        "id": "iEAqfFMUFbZn"
      },
      "source": [
        "### Coluna `user_score`\n",
        "\n",
        "A coluna `user_score` representa a pontuação dada pelos usuários para os jogos, variando de 0 a 10.\n",
        "\n",
        "Nessa coluna, existem 9.125 valores ausentes. Assim como na coluna `critic_score`, podemos considerar preencher esses valores utilizando a média ou mediana dos valores existentes. No entanto, é importante destacar que a pontuação do usuário é uma medida subjetiva e pode variar de acordo com as preferências individuais de cada usuário. Além disso, é possível que algumas plataformas tenham uma maior quantidade de usuários que fornecem pontuações do que outras.\n",
        "\n",
        "Portanto, optamos por seguir a mesma abordagem utilizada na coluna `critic_score` e preencher os valores ausentes da coluna `user_score` através de uma pivot table, utilizando a mediana. Essa abordagem considera fatores adicionais, como a plataforma, gênero do jogo e outros detalhes relevantes, a fim de obter uma estimativa mais precisa e personalizada para cada jogo. Ao utilizar uma pivot table com a mediana levamos em conta a variabilidade nas preferências dos usuários e também consideramos a distribuição dos dados de acordo com diferentes fatores relevantes. Isso nos permite obter uma estimativa mais confiável para os valores ausentes na coluna User_score."
      ]
    },
    {
      "cell_type": "code",
      "execution_count": null,
      "metadata": {
        "id": "Ejn-wd3kFbZn",
        "outputId": "d7f0b45c-a7cb-4d0c-e8a6-90554ffc75bd"
      },
      "outputs": [
        {
          "data": {
            "text/plain": [
              "tbd    2424\n",
              "7.8     324\n",
              "8       290\n",
              "8.2     282\n",
              "8.3     254\n",
              "Name: user_score, dtype: int64"
            ]
          },
          "execution_count": 38,
          "metadata": {},
          "output_type": "execute_result"
        }
      ],
      "source": [
        "#Analisando 'TBD'\n",
        "games['user_score'].value_counts().head()"
      ]
    },
    {
      "cell_type": "markdown",
      "metadata": {
        "id": "WQ9tPxPQFbZn"
      },
      "source": [
        "- No conjunto de dados, a presença do valor \"tbd\" na coluna `user_score` indica \"to be defined\", ou seja, que a pontuação do usuário ainda não foi determinada ou fornecida. Para facilitar o tratamento desses casos, optou-se por substituir os valores \"tbd\" por NaN (Not a Number), que é uma representação comum para valores ausentes."
      ]
    },
    {
      "cell_type": "code",
      "execution_count": null,
      "metadata": {
        "id": "YqEhqWVvFbZn"
      },
      "outputs": [],
      "source": [
        "#Fazendo replace do tbd por Nan\n",
        "games['user_score'] = games['user_score'].replace('tbd', np.nan)"
      ]
    },
    {
      "cell_type": "code",
      "execution_count": null,
      "metadata": {
        "id": "dlsD8WgnFbZn",
        "outputId": "e3aa8cdd-a1ef-459b-8f45-4fd9e7e5722e"
      },
      "outputs": [
        {
          "data": {
            "text/plain": [
              "7.8    324\n",
              "8      290\n",
              "8.2    282\n",
              "8.3    254\n",
              "8.5    253\n",
              "Name: user_score, dtype: int64"
            ]
          },
          "execution_count": 40,
          "metadata": {},
          "output_type": "execute_result"
        }
      ],
      "source": [
        "games['user_score'].value_counts().head()"
      ]
    },
    {
      "cell_type": "code",
      "execution_count": null,
      "metadata": {
        "id": "VtpJTwPmFbZn",
        "outputId": "db9402a7-8ab7-4b55-b934-a903a8d57252"
      },
      "outputs": [
        {
          "data": {
            "text/plain": [
              "NaN    9123\n",
              "7.8     324\n",
              "8       290\n",
              "8.2     282\n",
              "8.3     254\n",
              "Name: user_score, dtype: int64"
            ]
          },
          "execution_count": 41,
          "metadata": {},
          "output_type": "execute_result"
        }
      ],
      "source": [
        "games['user_score'].value_counts(dropna=False).head()"
      ]
    },
    {
      "cell_type": "markdown",
      "metadata": {
        "id": "D-1360OdFbZn"
      },
      "source": [
        "Inicialmente, havia 6.701 valores ausentes na coluna `user_score`. No entanto, ao substituir os valores \"tbd\" por NaN, o número de NaN aumentou para 9.125. Isso ocorreu porque havia 2.424 instâncias que originalmente continham \"tbd\" e foram consideradas como valores válidos, mas que agora também foram convertidas em NaN.\n",
        "\n",
        "Essa alteração foi realizada para garantir que os valores ausentes e os valores \"tbd\" sejam tratados de forma consistente e possam ser tratados de maneira uniforme durante análises e cálculos posteriores\n",
        "\n",
        "OBS.: Vamos precisar converter a coluna para tipo numerico antes de fazer a pivot_table com aggfunc."
      ]
    },
    {
      "cell_type": "code",
      "execution_count": null,
      "metadata": {
        "id": "2__vRBrBFbZn",
        "outputId": "a608e931-4605-4ae1-bf8e-0aa646da1b33"
      },
      "outputs": [
        {
          "data": {
            "text/plain": [
              "7.5"
            ]
          },
          "execution_count": 42,
          "metadata": {},
          "output_type": "execute_result"
        }
      ],
      "source": [
        "user_score_median = games['user_score'].median()\n",
        "user_score_median"
      ]
    },
    {
      "cell_type": "code",
      "execution_count": null,
      "metadata": {
        "id": "zvM4GVDeFbZn"
      },
      "outputs": [],
      "source": [
        "# Converter a coluna 'user_score' para o tipo numérico\n",
        "games['user_score'] = pd.to_numeric(games['user_score'], errors='coerce')"
      ]
    },
    {
      "cell_type": "code",
      "execution_count": null,
      "metadata": {
        "id": "7eQ7EKOJFbZn",
        "outputId": "3650581b-bd92-4a4b-ab97-0595ca92a2d3"
      },
      "outputs": [
        {
          "data": {
            "text/html": [
              "<div>\n",
              "<style scoped>\n",
              "    .dataframe tbody tr th:only-of-type {\n",
              "        vertical-align: middle;\n",
              "    }\n",
              "\n",
              "    .dataframe tbody tr th {\n",
              "        vertical-align: top;\n",
              "    }\n",
              "\n",
              "    .dataframe thead th {\n",
              "        text-align: right;\n",
              "    }\n",
              "</style>\n",
              "<table border=\"1\" class=\"dataframe\">\n",
              "  <thead>\n",
              "    <tr style=\"text-align: right;\">\n",
              "      <th></th>\n",
              "      <th>user_score</th>\n",
              "    </tr>\n",
              "    <tr>\n",
              "      <th>genre</th>\n",
              "      <th></th>\n",
              "    </tr>\n",
              "  </thead>\n",
              "  <tbody>\n",
              "    <tr>\n",
              "      <th>Action</th>\n",
              "      <td>7.4</td>\n",
              "    </tr>\n",
              "    <tr>\n",
              "      <th>Adventure</th>\n",
              "      <td>7.6</td>\n",
              "    </tr>\n",
              "    <tr>\n",
              "      <th>Fighting</th>\n",
              "      <td>7.6</td>\n",
              "    </tr>\n",
              "    <tr>\n",
              "      <th>Misc</th>\n",
              "      <td>7.1</td>\n",
              "    </tr>\n",
              "    <tr>\n",
              "      <th>Platform</th>\n",
              "      <td>7.7</td>\n",
              "    </tr>\n",
              "    <tr>\n",
              "      <th>Puzzle</th>\n",
              "      <td>7.5</td>\n",
              "    </tr>\n",
              "    <tr>\n",
              "      <th>Racing</th>\n",
              "      <td>7.4</td>\n",
              "    </tr>\n",
              "    <tr>\n",
              "      <th>Role-Playing</th>\n",
              "      <td>7.8</td>\n",
              "    </tr>\n",
              "    <tr>\n",
              "      <th>Shooter</th>\n",
              "      <td>7.4</td>\n",
              "    </tr>\n",
              "    <tr>\n",
              "      <th>Simulation</th>\n",
              "      <td>7.5</td>\n",
              "    </tr>\n",
              "    <tr>\n",
              "      <th>Sports</th>\n",
              "      <td>7.4</td>\n",
              "    </tr>\n",
              "    <tr>\n",
              "      <th>Strategy</th>\n",
              "      <td>7.8</td>\n",
              "    </tr>\n",
              "  </tbody>\n",
              "</table>\n",
              "</div>"
            ],
            "text/plain": [
              "              user_score\n",
              "genre                   \n",
              "Action               7.4\n",
              "Adventure            7.6\n",
              "Fighting             7.6\n",
              "Misc                 7.1\n",
              "Platform             7.7\n",
              "Puzzle               7.5\n",
              "Racing               7.4\n",
              "Role-Playing         7.8\n",
              "Shooter              7.4\n",
              "Simulation           7.5\n",
              "Sports               7.4\n",
              "Strategy             7.8"
            ]
          },
          "execution_count": 44,
          "metadata": {},
          "output_type": "execute_result"
        }
      ],
      "source": [
        "#Pivot Table com base nas colunas relevantes 'genre' e 'user_score'\n",
        "pivot_table_user = games.pivot_table(index='genre', values='user_score', aggfunc='median')\n",
        "pivot_table_user"
      ]
    },
    {
      "cell_type": "code",
      "execution_count": null,
      "metadata": {
        "id": "ZOXsbQXfFbZn"
      },
      "outputs": [],
      "source": [
        "#Definindo uma função preencher os valores ausentes com base na tabela pivot\n",
        "def fill_missing_scores(row, score_column, pivot_table):\n",
        "    if pd.isnull(row[score_column]):\n",
        "        genre = row['genre']\n",
        "        if genre in pivot_table.index:\n",
        "            return pivot_table.loc[genre][score_column]\n",
        "    return row[score_column]"
      ]
    },
    {
      "cell_type": "code",
      "execution_count": null,
      "metadata": {
        "id": "EVfPQyiZFbZn"
      },
      "outputs": [],
      "source": [
        "#Aplicando a função\n",
        "games['user_score'] = games.apply(lambda row: fill_missing_scores(row, 'user_score', pivot_table_user), axis=1)"
      ]
    },
    {
      "cell_type": "code",
      "execution_count": null,
      "metadata": {
        "id": "qfiYRQdOFbZn",
        "outputId": "dd2a5257-96e9-4279-beb1-d61df91f7495"
      },
      "outputs": [
        {
          "data": {
            "text/plain": [
              "name                  0\n",
              "platform              0\n",
              "year_of_release       0\n",
              "genre                 0\n",
              "na_sales              0\n",
              "eu_sales              0\n",
              "jp_sales              0\n",
              "other_sales           0\n",
              "critic_score          0\n",
              "user_score            0\n",
              "rating             6764\n",
              "dtype: int64"
            ]
          },
          "execution_count": 47,
          "metadata": {},
          "output_type": "execute_result"
        }
      ],
      "source": [
        "games.isna().sum()"
      ]
    },
    {
      "cell_type": "markdown",
      "metadata": {
        "id": "dmVuFtLqFbZn"
      },
      "source": [
        "### Coluna `rating`\n",
        "\n",
        "Essa coluna representa a classificação (ESRB)\n",
        "As classificações ESRB são as seguintes:\n",
        "\n",
        "- EC (Early Childhood)\n",
        "\n",
        "- E (Everyone)\n",
        "\n",
        "- E10+ (Everyone 10 and older)\n",
        "\n",
        "- T (Teen)\n",
        "\n",
        "- M (Mature)\n",
        "\n",
        "- AO (Adults Only)\n",
        "\n",
        "- RP (Rating Pending)\n",
        "\n",
        "Ela possui 6.766 valores ausentes. Para lidar com esses valores, você podemos considerar informações da classificação. Com base nas classificações ESRB fornecidas, podemos considerar uma abordagem para preencher os valores ausentes na coluna de classificação.\n",
        "\n",
        "Uma opção é atribuir um valor padrão, como \"RP\" (Rating Pending), para os valores ausentes. Podemos fazer isso usando o método `fillna()`"
      ]
    },
    {
      "cell_type": "code",
      "execution_count": null,
      "metadata": {
        "id": "Y_9rRGPHFbZo"
      },
      "outputs": [],
      "source": [
        "#Substituindo os ausentes por RP\n",
        "games['rating'].fillna('RP', inplace=True)"
      ]
    },
    {
      "cell_type": "code",
      "execution_count": null,
      "metadata": {
        "id": "bhkEHbHlFbZo",
        "outputId": "5781f579-31d0-4ded-a2ae-d6d5b8f9f62b"
      },
      "outputs": [
        {
          "data": {
            "text/plain": [
              "name               0\n",
              "platform           0\n",
              "year_of_release    0\n",
              "genre              0\n",
              "na_sales           0\n",
              "eu_sales           0\n",
              "jp_sales           0\n",
              "other_sales        0\n",
              "critic_score       0\n",
              "user_score         0\n",
              "rating             0\n",
              "dtype: int64"
            ]
          },
          "execution_count": 49,
          "metadata": {},
          "output_type": "execute_result"
        }
      ],
      "source": [
        "#Verificando a substituiçao\n",
        "games.isna().sum()"
      ]
    },
    {
      "cell_type": "markdown",
      "metadata": {
        "id": "dfHGNNr1FbZo"
      },
      "source": [
        "### Converta os dados para os tipos necessários"
      ]
    },
    {
      "cell_type": "code",
      "execution_count": null,
      "metadata": {
        "id": "nYrp8hIYFbZo",
        "outputId": "ef731275-d235-4ea5-e352-c572f7549bbd"
      },
      "outputs": [
        {
          "name": "stdout",
          "output_type": "stream",
          "text": [
            "<class 'pandas.core.frame.DataFrame'>\n",
            "Int64Index: 16713 entries, 0 to 16714\n",
            "Data columns (total 11 columns):\n",
            " #   Column           Non-Null Count  Dtype  \n",
            "---  ------           --------------  -----  \n",
            " 0   name             16713 non-null  object \n",
            " 1   platform         16713 non-null  object \n",
            " 2   year_of_release  16713 non-null  float64\n",
            " 3   genre            16713 non-null  object \n",
            " 4   na_sales         16713 non-null  float64\n",
            " 5   eu_sales         16713 non-null  float64\n",
            " 6   jp_sales         16713 non-null  float64\n",
            " 7   other_sales      16713 non-null  float64\n",
            " 8   critic_score     16713 non-null  float64\n",
            " 9   user_score       16713 non-null  float64\n",
            " 10  rating           16713 non-null  object \n",
            "dtypes: float64(7), object(4)\n",
            "memory usage: 1.5+ MB\n"
          ]
        }
      ],
      "source": [
        "# Verificando como ficaram informaçoes gerais apos o processamento\n",
        "games.info()"
      ]
    },
    {
      "cell_type": "code",
      "execution_count": null,
      "metadata": {
        "id": "CSZj635UFbZo"
      },
      "outputs": [],
      "source": [
        "#Corrigindo o tipo de dado da coluna `year_of_release`\n",
        "games['year_of_release'] = games['year_of_release'].astype(int)\n"
      ]
    },
    {
      "cell_type": "code",
      "execution_count": null,
      "metadata": {
        "id": "xzZBekF-FbZo",
        "outputId": "287e55ac-432c-401e-e14e-74970bf64e10"
      },
      "outputs": [
        {
          "name": "stdout",
          "output_type": "stream",
          "text": [
            "<class 'pandas.core.frame.DataFrame'>\n",
            "Int64Index: 16713 entries, 0 to 16714\n",
            "Data columns (total 11 columns):\n",
            " #   Column           Non-Null Count  Dtype  \n",
            "---  ------           --------------  -----  \n",
            " 0   name             16713 non-null  object \n",
            " 1   platform         16713 non-null  object \n",
            " 2   year_of_release  16713 non-null  int64  \n",
            " 3   genre            16713 non-null  object \n",
            " 4   na_sales         16713 non-null  float64\n",
            " 5   eu_sales         16713 non-null  float64\n",
            " 6   jp_sales         16713 non-null  float64\n",
            " 7   other_sales      16713 non-null  float64\n",
            " 8   critic_score     16713 non-null  float64\n",
            " 9   user_score       16713 non-null  float64\n",
            " 10  rating           16713 non-null  object \n",
            "dtypes: float64(6), int64(1), object(4)\n",
            "memory usage: 1.5+ MB\n"
          ]
        }
      ],
      "source": [
        "games.info()"
      ]
    },
    {
      "cell_type": "markdown",
      "metadata": {
        "id": "AZZ2-ReOFbZo"
      },
      "source": [
        "Foram realizadas alterações em duas colunas do DataFrame `games`. A primeira coluna é a `year_of_release`, que originalmente estava no formato float, mas representa o ano de lançamento do jogo. Com o objetivo de facilitar cálculos e criação de gráficos, optou-se por converter essa coluna para o formato inteiro.\n",
        "\n",
        "A segunda coluna modificada foi a `user_score`. Inicialmente, essa coluna estava no formato object, mas representa a pontuação dada pelos usuários. Para realizar a conversão adequada dessa coluna para o formato float, utilizou-se a função `pd.to_numeric()` com o parâmetro `errors='coerce'`. Esse parâmetro permite que valores não numéricos sejam transformados em \"NaN\", que é um valor apropriado para indicar dados ausentes. Em seguida, utilizou-se o método `astype(float)` para converter a saída da função `to_numeric()` para o tipo float.\n",
        "\n",
        "Dessa forma, as alterações feitas nas colunas `year_of_release` e `user_score` possibilitam uma manipulação adequada dos dados, permitindo realizar cálculos, visualizações e análises com maior precisão e coerência."
      ]
    },
    {
      "cell_type": "markdown",
      "metadata": {
        "id": "pGpYfoIJFbZo"
      },
      "source": [
        "### Calcule o total de vendas\n",
        "\n",
        "Para calcular as vendas totais de cada jogo, somando as vendas em todas as regiões, utilizamos as colunas `na_sales`, `eu_sales`, `jp_sales` e `other_sales`.\n",
        "\n",
        "No código fornecido, as colunas relevantes são selecionadas utilizando a lista `cols`, que contém os nomes das colunas das vendas em cada região. Essas colunas são acessadas no DataFrame `games` da seguinte forma: `games[cols]`.\n",
        "\n",
        "Em seguida, aplicamos a função `sum(axis=1)` para realizar a soma das vendas em todas as regiões para cada jogo. O parâmetro `axis=1` indica que a soma deve ser feita ao longo das colunas (ou seja, somar as vendas de cada região para cada jogo individualmente). O resultado dessa operação será uma série contendo a soma das vendas totais para cada jogo.\n",
        "\n",
        "Por fim, essa série de vendas totais é atribuída a uma nova coluna no DataFrame `games`, permitindo que os valores das vendas totais sejam facilmente acessados e utilizados posteriormente para análises, gráficos ou outras operações."
      ]
    },
    {
      "cell_type": "code",
      "execution_count": null,
      "metadata": {
        "id": "hHZzjyG5FbZo",
        "outputId": "f78b965d-5372-4689-bf36-9511448ad9b5"
      },
      "outputs": [
        {
          "data": {
            "text/html": [
              "<div>\n",
              "<style scoped>\n",
              "    .dataframe tbody tr th:only-of-type {\n",
              "        vertical-align: middle;\n",
              "    }\n",
              "\n",
              "    .dataframe tbody tr th {\n",
              "        vertical-align: top;\n",
              "    }\n",
              "\n",
              "    .dataframe thead th {\n",
              "        text-align: right;\n",
              "    }\n",
              "</style>\n",
              "<table border=\"1\" class=\"dataframe\">\n",
              "  <thead>\n",
              "    <tr style=\"text-align: right;\">\n",
              "      <th></th>\n",
              "      <th>na_sales</th>\n",
              "      <th>eu_sales</th>\n",
              "      <th>jp_sales</th>\n",
              "      <th>other_sales</th>\n",
              "    </tr>\n",
              "  </thead>\n",
              "  <tbody>\n",
              "    <tr>\n",
              "      <th>0</th>\n",
              "      <td>41.36</td>\n",
              "      <td>28.96</td>\n",
              "      <td>3.77</td>\n",
              "      <td>8.45</td>\n",
              "    </tr>\n",
              "    <tr>\n",
              "      <th>1</th>\n",
              "      <td>29.08</td>\n",
              "      <td>3.58</td>\n",
              "      <td>6.81</td>\n",
              "      <td>0.77</td>\n",
              "    </tr>\n",
              "    <tr>\n",
              "      <th>2</th>\n",
              "      <td>15.68</td>\n",
              "      <td>12.76</td>\n",
              "      <td>3.79</td>\n",
              "      <td>3.29</td>\n",
              "    </tr>\n",
              "    <tr>\n",
              "      <th>3</th>\n",
              "      <td>15.61</td>\n",
              "      <td>10.93</td>\n",
              "      <td>3.28</td>\n",
              "      <td>2.95</td>\n",
              "    </tr>\n",
              "    <tr>\n",
              "      <th>4</th>\n",
              "      <td>11.27</td>\n",
              "      <td>8.89</td>\n",
              "      <td>10.22</td>\n",
              "      <td>1.00</td>\n",
              "    </tr>\n",
              "    <tr>\n",
              "      <th>...</th>\n",
              "      <td>...</td>\n",
              "      <td>...</td>\n",
              "      <td>...</td>\n",
              "      <td>...</td>\n",
              "    </tr>\n",
              "    <tr>\n",
              "      <th>16710</th>\n",
              "      <td>0.00</td>\n",
              "      <td>0.00</td>\n",
              "      <td>0.01</td>\n",
              "      <td>0.00</td>\n",
              "    </tr>\n",
              "    <tr>\n",
              "      <th>16711</th>\n",
              "      <td>0.00</td>\n",
              "      <td>0.01</td>\n",
              "      <td>0.00</td>\n",
              "      <td>0.00</td>\n",
              "    </tr>\n",
              "    <tr>\n",
              "      <th>16712</th>\n",
              "      <td>0.00</td>\n",
              "      <td>0.00</td>\n",
              "      <td>0.01</td>\n",
              "      <td>0.00</td>\n",
              "    </tr>\n",
              "    <tr>\n",
              "      <th>16713</th>\n",
              "      <td>0.01</td>\n",
              "      <td>0.00</td>\n",
              "      <td>0.00</td>\n",
              "      <td>0.00</td>\n",
              "    </tr>\n",
              "    <tr>\n",
              "      <th>16714</th>\n",
              "      <td>0.00</td>\n",
              "      <td>0.00</td>\n",
              "      <td>0.01</td>\n",
              "      <td>0.00</td>\n",
              "    </tr>\n",
              "  </tbody>\n",
              "</table>\n",
              "<p>16713 rows × 4 columns</p>\n",
              "</div>"
            ],
            "text/plain": [
              "       na_sales  eu_sales  jp_sales  other_sales\n",
              "0         41.36     28.96      3.77         8.45\n",
              "1         29.08      3.58      6.81         0.77\n",
              "2         15.68     12.76      3.79         3.29\n",
              "3         15.61     10.93      3.28         2.95\n",
              "4         11.27      8.89     10.22         1.00\n",
              "...         ...       ...       ...          ...\n",
              "16710      0.00      0.00      0.01         0.00\n",
              "16711      0.00      0.01      0.00         0.00\n",
              "16712      0.00      0.00      0.01         0.00\n",
              "16713      0.01      0.00      0.00         0.00\n",
              "16714      0.00      0.00      0.01         0.00\n",
              "\n",
              "[16713 rows x 4 columns]"
            ]
          },
          "execution_count": 53,
          "metadata": {},
          "output_type": "execute_result"
        }
      ],
      "source": [
        "cols = ['na_sales', 'eu_sales','jp_sales', 'other_sales']\n",
        "games[cols]"
      ]
    },
    {
      "cell_type": "code",
      "execution_count": null,
      "metadata": {
        "id": "C_W2mOvrFbZo",
        "outputId": "f7f83d44-136d-401e-c305-8338ca59c9f9"
      },
      "outputs": [
        {
          "data": {
            "text/plain": [
              "0        82.54\n",
              "1        40.24\n",
              "2        35.52\n",
              "3        32.77\n",
              "4        31.38\n",
              "         ...  \n",
              "16710     0.01\n",
              "16711     0.01\n",
              "16712     0.01\n",
              "16713     0.01\n",
              "16714     0.01\n",
              "Length: 16713, dtype: float64"
            ]
          },
          "execution_count": 54,
          "metadata": {},
          "output_type": "execute_result"
        }
      ],
      "source": [
        "games[cols].sum(axis=1)"
      ]
    },
    {
      "cell_type": "markdown",
      "metadata": {
        "id": "MHW2AR1UFbZo"
      },
      "source": [
        "- Lista cols contém os nomes das colunas que representam as vendas em cada região. Em seguida, utilizamos a função sum( ) para somar os valores em cada linha para essas colunas, ao longo do eixo 1 (horizontal). O resultado dessa soma é atribuído à nova coluna `total_sales` no dataframe games."
      ]
    },
    {
      "cell_type": "code",
      "execution_count": null,
      "metadata": {
        "id": "WJZWFSv1FbZo"
      },
      "outputs": [],
      "source": [
        "#Criando nova coluna\n",
        "games['total_sales'] = games[cols].sum(axis=1)"
      ]
    },
    {
      "cell_type": "code",
      "execution_count": null,
      "metadata": {
        "id": "ldtHDKbnFbZo",
        "outputId": "e3534f04-a479-4c3d-9685-73fb59b5f681"
      },
      "outputs": [
        {
          "data": {
            "text/html": [
              "<div>\n",
              "<style scoped>\n",
              "    .dataframe tbody tr th:only-of-type {\n",
              "        vertical-align: middle;\n",
              "    }\n",
              "\n",
              "    .dataframe tbody tr th {\n",
              "        vertical-align: top;\n",
              "    }\n",
              "\n",
              "    .dataframe thead th {\n",
              "        text-align: right;\n",
              "    }\n",
              "</style>\n",
              "<table border=\"1\" class=\"dataframe\">\n",
              "  <thead>\n",
              "    <tr style=\"text-align: right;\">\n",
              "      <th></th>\n",
              "      <th>name</th>\n",
              "      <th>platform</th>\n",
              "      <th>year_of_release</th>\n",
              "      <th>genre</th>\n",
              "      <th>na_sales</th>\n",
              "      <th>eu_sales</th>\n",
              "      <th>jp_sales</th>\n",
              "      <th>other_sales</th>\n",
              "      <th>critic_score</th>\n",
              "      <th>user_score</th>\n",
              "      <th>rating</th>\n",
              "      <th>total_sales</th>\n",
              "    </tr>\n",
              "  </thead>\n",
              "  <tbody>\n",
              "    <tr>\n",
              "      <th>0</th>\n",
              "      <td>Wii Sports</td>\n",
              "      <td>Wii</td>\n",
              "      <td>2006</td>\n",
              "      <td>Sports</td>\n",
              "      <td>41.36</td>\n",
              "      <td>28.96</td>\n",
              "      <td>3.77</td>\n",
              "      <td>8.45</td>\n",
              "      <td>76.000000</td>\n",
              "      <td>8.0</td>\n",
              "      <td>E</td>\n",
              "      <td>82.54</td>\n",
              "    </tr>\n",
              "    <tr>\n",
              "      <th>1</th>\n",
              "      <td>Super Mario Bros.</td>\n",
              "      <td>NES</td>\n",
              "      <td>1985</td>\n",
              "      <td>Platform</td>\n",
              "      <td>29.08</td>\n",
              "      <td>3.58</td>\n",
              "      <td>6.81</td>\n",
              "      <td>0.77</td>\n",
              "      <td>68.058350</td>\n",
              "      <td>7.7</td>\n",
              "      <td>RP</td>\n",
              "      <td>40.24</td>\n",
              "    </tr>\n",
              "    <tr>\n",
              "      <th>2</th>\n",
              "      <td>Mario Kart Wii</td>\n",
              "      <td>Wii</td>\n",
              "      <td>2008</td>\n",
              "      <td>Racing</td>\n",
              "      <td>15.68</td>\n",
              "      <td>12.76</td>\n",
              "      <td>3.79</td>\n",
              "      <td>3.29</td>\n",
              "      <td>82.000000</td>\n",
              "      <td>8.3</td>\n",
              "      <td>E</td>\n",
              "      <td>35.52</td>\n",
              "    </tr>\n",
              "    <tr>\n",
              "      <th>3</th>\n",
              "      <td>Wii Sports Resort</td>\n",
              "      <td>Wii</td>\n",
              "      <td>2009</td>\n",
              "      <td>Sports</td>\n",
              "      <td>15.61</td>\n",
              "      <td>10.93</td>\n",
              "      <td>3.28</td>\n",
              "      <td>2.95</td>\n",
              "      <td>80.000000</td>\n",
              "      <td>8.0</td>\n",
              "      <td>E</td>\n",
              "      <td>32.77</td>\n",
              "    </tr>\n",
              "    <tr>\n",
              "      <th>4</th>\n",
              "      <td>Pokemon Red/Pokemon Blue</td>\n",
              "      <td>GB</td>\n",
              "      <td>1996</td>\n",
              "      <td>Role-Playing</td>\n",
              "      <td>11.27</td>\n",
              "      <td>8.89</td>\n",
              "      <td>10.22</td>\n",
              "      <td>1.00</td>\n",
              "      <td>72.652646</td>\n",
              "      <td>7.8</td>\n",
              "      <td>RP</td>\n",
              "      <td>31.38</td>\n",
              "    </tr>\n",
              "  </tbody>\n",
              "</table>\n",
              "</div>"
            ],
            "text/plain": [
              "                       name platform  year_of_release         genre  na_sales  \\\n",
              "0                Wii Sports      Wii             2006        Sports     41.36   \n",
              "1         Super Mario Bros.      NES             1985      Platform     29.08   \n",
              "2            Mario Kart Wii      Wii             2008        Racing     15.68   \n",
              "3         Wii Sports Resort      Wii             2009        Sports     15.61   \n",
              "4  Pokemon Red/Pokemon Blue       GB             1996  Role-Playing     11.27   \n",
              "\n",
              "   eu_sales  jp_sales  other_sales  critic_score  user_score rating  \\\n",
              "0     28.96      3.77         8.45     76.000000         8.0      E   \n",
              "1      3.58      6.81         0.77     68.058350         7.7     RP   \n",
              "2     12.76      3.79         3.29     82.000000         8.3      E   \n",
              "3     10.93      3.28         2.95     80.000000         8.0      E   \n",
              "4      8.89     10.22         1.00     72.652646         7.8     RP   \n",
              "\n",
              "   total_sales  \n",
              "0        82.54  \n",
              "1        40.24  \n",
              "2        35.52  \n",
              "3        32.77  \n",
              "4        31.38  "
            ]
          },
          "execution_count": 56,
          "metadata": {},
          "output_type": "execute_result"
        }
      ],
      "source": [
        "#Verificando a nova coluna\n",
        "games.head()"
      ]
    },
    {
      "cell_type": "markdown",
      "metadata": {
        "id": "Zal0LZG-FbZo"
      },
      "source": [
        "## Analise os dados\n"
      ]
    },
    {
      "cell_type": "markdown",
      "metadata": {
        "id": "JyCZjCdVFbZp"
      },
      "source": [
        "### Veja quantos jogos foram lançados em anos diferentes. Os dados de cada período são significativos?\n",
        "\n",
        "Para responder a essa pergunta primeiro agrupamos no Dataframe `games` os jogos por ano de lançamento. A coluna utilizada para agrupamento foi `year_of_release`, e a coluna `name` foi escolhida para contar o número de jogos em cada ano. O resultado desse agrupamento foi armazenado na variável `games_per_year`.\n",
        "\n",
        "Em seguida, para visualizar os resultados e determinar a significância dos dados de cada período, foi sugerido plotar um gráfico de barras. Esse tipo de gráfico é adequado para representar a distribuição dos jogos ao longo dos anos, permitindo uma análise visual da quantidade de jogos lançados em cada período.\n",
        "\n",
        "Através desse gráfico de barras, será possível observar se existem anos com um número significativamente maior ou menor de jogos em comparação com outros períodos. Isso pode indicar tendências, períodos de maior atividade na indústria de jogos ou outros insights relevantes para a análise."
      ]
    },
    {
      "cell_type": "code",
      "execution_count": null,
      "metadata": {
        "id": "14FkgyiRFbZp",
        "outputId": "babe9b7a-492a-4e13-d799-7dcf94ee3e14"
      },
      "outputs": [
        {
          "data": {
            "text/html": [
              "<div>\n",
              "<style scoped>\n",
              "    .dataframe tbody tr th:only-of-type {\n",
              "        vertical-align: middle;\n",
              "    }\n",
              "\n",
              "    .dataframe tbody tr th {\n",
              "        vertical-align: top;\n",
              "    }\n",
              "\n",
              "    .dataframe thead th {\n",
              "        text-align: right;\n",
              "    }\n",
              "</style>\n",
              "<table border=\"1\" class=\"dataframe\">\n",
              "  <thead>\n",
              "    <tr style=\"text-align: right;\">\n",
              "      <th></th>\n",
              "      <th>year_of_release</th>\n",
              "      <th>name</th>\n",
              "    </tr>\n",
              "  </thead>\n",
              "  <tbody>\n",
              "    <tr>\n",
              "      <th>0</th>\n",
              "      <td>1980</td>\n",
              "      <td>9</td>\n",
              "    </tr>\n",
              "    <tr>\n",
              "      <th>1</th>\n",
              "      <td>1981</td>\n",
              "      <td>46</td>\n",
              "    </tr>\n",
              "    <tr>\n",
              "      <th>2</th>\n",
              "      <td>1982</td>\n",
              "      <td>36</td>\n",
              "    </tr>\n",
              "    <tr>\n",
              "      <th>3</th>\n",
              "      <td>1983</td>\n",
              "      <td>17</td>\n",
              "    </tr>\n",
              "    <tr>\n",
              "      <th>4</th>\n",
              "      <td>1984</td>\n",
              "      <td>14</td>\n",
              "    </tr>\n",
              "    <tr>\n",
              "      <th>5</th>\n",
              "      <td>1985</td>\n",
              "      <td>14</td>\n",
              "    </tr>\n",
              "    <tr>\n",
              "      <th>6</th>\n",
              "      <td>1986</td>\n",
              "      <td>21</td>\n",
              "    </tr>\n",
              "    <tr>\n",
              "      <th>7</th>\n",
              "      <td>1987</td>\n",
              "      <td>16</td>\n",
              "    </tr>\n",
              "    <tr>\n",
              "      <th>8</th>\n",
              "      <td>1988</td>\n",
              "      <td>15</td>\n",
              "    </tr>\n",
              "    <tr>\n",
              "      <th>9</th>\n",
              "      <td>1989</td>\n",
              "      <td>17</td>\n",
              "    </tr>\n",
              "    <tr>\n",
              "      <th>10</th>\n",
              "      <td>1990</td>\n",
              "      <td>16</td>\n",
              "    </tr>\n",
              "    <tr>\n",
              "      <th>11</th>\n",
              "      <td>1991</td>\n",
              "      <td>41</td>\n",
              "    </tr>\n",
              "    <tr>\n",
              "      <th>12</th>\n",
              "      <td>1992</td>\n",
              "      <td>43</td>\n",
              "    </tr>\n",
              "    <tr>\n",
              "      <th>13</th>\n",
              "      <td>1993</td>\n",
              "      <td>60</td>\n",
              "    </tr>\n",
              "    <tr>\n",
              "      <th>14</th>\n",
              "      <td>1994</td>\n",
              "      <td>121</td>\n",
              "    </tr>\n",
              "    <tr>\n",
              "      <th>15</th>\n",
              "      <td>1995</td>\n",
              "      <td>219</td>\n",
              "    </tr>\n",
              "    <tr>\n",
              "      <th>16</th>\n",
              "      <td>1996</td>\n",
              "      <td>263</td>\n",
              "    </tr>\n",
              "    <tr>\n",
              "      <th>17</th>\n",
              "      <td>1997</td>\n",
              "      <td>289</td>\n",
              "    </tr>\n",
              "    <tr>\n",
              "      <th>18</th>\n",
              "      <td>1998</td>\n",
              "      <td>379</td>\n",
              "    </tr>\n",
              "    <tr>\n",
              "      <th>19</th>\n",
              "      <td>1999</td>\n",
              "      <td>338</td>\n",
              "    </tr>\n",
              "    <tr>\n",
              "      <th>20</th>\n",
              "      <td>2000</td>\n",
              "      <td>350</td>\n",
              "    </tr>\n",
              "    <tr>\n",
              "      <th>21</th>\n",
              "      <td>2001</td>\n",
              "      <td>482</td>\n",
              "    </tr>\n",
              "    <tr>\n",
              "      <th>22</th>\n",
              "      <td>2002</td>\n",
              "      <td>829</td>\n",
              "    </tr>\n",
              "    <tr>\n",
              "      <th>23</th>\n",
              "      <td>2003</td>\n",
              "      <td>775</td>\n",
              "    </tr>\n",
              "    <tr>\n",
              "      <th>24</th>\n",
              "      <td>2004</td>\n",
              "      <td>772</td>\n",
              "    </tr>\n",
              "    <tr>\n",
              "      <th>25</th>\n",
              "      <td>2005</td>\n",
              "      <td>974</td>\n",
              "    </tr>\n",
              "    <tr>\n",
              "      <th>26</th>\n",
              "      <td>2006</td>\n",
              "      <td>1048</td>\n",
              "    </tr>\n",
              "    <tr>\n",
              "      <th>27</th>\n",
              "      <td>2007</td>\n",
              "      <td>1245</td>\n",
              "    </tr>\n",
              "    <tr>\n",
              "      <th>28</th>\n",
              "      <td>2008</td>\n",
              "      <td>1489</td>\n",
              "    </tr>\n",
              "    <tr>\n",
              "      <th>29</th>\n",
              "      <td>2009</td>\n",
              "      <td>1498</td>\n",
              "    </tr>\n",
              "    <tr>\n",
              "      <th>30</th>\n",
              "      <td>2010</td>\n",
              "      <td>1255</td>\n",
              "    </tr>\n",
              "    <tr>\n",
              "      <th>31</th>\n",
              "      <td>2011</td>\n",
              "      <td>1136</td>\n",
              "    </tr>\n",
              "    <tr>\n",
              "      <th>32</th>\n",
              "      <td>2012</td>\n",
              "      <td>653</td>\n",
              "    </tr>\n",
              "    <tr>\n",
              "      <th>33</th>\n",
              "      <td>2013</td>\n",
              "      <td>544</td>\n",
              "    </tr>\n",
              "    <tr>\n",
              "      <th>34</th>\n",
              "      <td>2014</td>\n",
              "      <td>581</td>\n",
              "    </tr>\n",
              "    <tr>\n",
              "      <th>35</th>\n",
              "      <td>2015</td>\n",
              "      <td>606</td>\n",
              "    </tr>\n",
              "    <tr>\n",
              "      <th>36</th>\n",
              "      <td>2016</td>\n",
              "      <td>502</td>\n",
              "    </tr>\n",
              "  </tbody>\n",
              "</table>\n",
              "</div>"
            ],
            "text/plain": [
              "    year_of_release  name\n",
              "0              1980     9\n",
              "1              1981    46\n",
              "2              1982    36\n",
              "3              1983    17\n",
              "4              1984    14\n",
              "5              1985    14\n",
              "6              1986    21\n",
              "7              1987    16\n",
              "8              1988    15\n",
              "9              1989    17\n",
              "10             1990    16\n",
              "11             1991    41\n",
              "12             1992    43\n",
              "13             1993    60\n",
              "14             1994   121\n",
              "15             1995   219\n",
              "16             1996   263\n",
              "17             1997   289\n",
              "18             1998   379\n",
              "19             1999   338\n",
              "20             2000   350\n",
              "21             2001   482\n",
              "22             2002   829\n",
              "23             2003   775\n",
              "24             2004   772\n",
              "25             2005   974\n",
              "26             2006  1048\n",
              "27             2007  1245\n",
              "28             2008  1489\n",
              "29             2009  1498\n",
              "30             2010  1255\n",
              "31             2011  1136\n",
              "32             2012   653\n",
              "33             2013   544\n",
              "34             2014   581\n",
              "35             2015   606\n",
              "36             2016   502"
            ]
          },
          "execution_count": 57,
          "metadata": {},
          "output_type": "execute_result"
        }
      ],
      "source": [
        "#Agrupando\n",
        "games_per_year = games.groupby('year_of_release')['name'].count().reset_index()\n",
        "games_per_year"
      ]
    },
    {
      "cell_type": "code",
      "execution_count": null,
      "metadata": {
        "id": "FIrdWjgEFbZp",
        "outputId": "a69bb42b-0088-4e1e-b989-0a6413d7ebf4"
      },
      "outputs": [
        {
          "data": {
            "image/png": "[encoded data removed]",
            "text/plain": [
              "<Figure size 864x432 with 1 Axes>"
            ]
          },
          "metadata": {
            "needs_background": "light"
          },
          "output_type": "display_data"
        }
      ],
      "source": [
        "#Gráfico de barras\n",
        "plt.figure(figsize=(12, 6))\n",
        "plt.bar(games_per_year['year_of_release'], games_per_year['name'])\n",
        "plt.xlabel('Ano de Lançamento')\n",
        "plt.ylabel('Quantidade de Jogos')\n",
        "plt.title('Quantidade de Jogos Lançados por Ano')\n",
        "plt.xticks(rotation=90)\n",
        "plt.show()"
      ]
    },
    {
      "cell_type": "markdown",
      "metadata": {
        "id": "2rngybqBFbZp"
      },
      "source": [
        "Alguns pontos relevantes a serem considerados são:\n",
        "\n",
        "- **Variação no número de jogos:** Ao longo dos anos, observamos uma variação considerável no número de jogos lançados. A quantidade de jogos aumentou gradualmente a partir da década de 1980, atingindo um pico em meados dos anos 2000 e depois diminuindo.\n",
        "\n",
        "- **Crescimento significativo:** Podemos destacar o período entre os anos 2000 e 2010, onde houve um crescimento expressivo na quantidade de jogos lançados. Essa década apresenta uma quantidade considerável de jogos em comparação com os anos anteriores.\n",
        "\n",
        "- **Estabilidade recente:** Nos últimos anos (aproximadamente 2010-2016), observamos uma estabilização na quantidade de jogos lançados. Embora tenha havido uma diminuição em relação ao pico dos anos 2000, ainda há uma quantidade significativa de jogos sendo lançados.\n",
        "\n",
        "\n",
        "Portanto, com base nesses resultados, podemos considerar os dados de cada período como significativos, pois demonstram padrões claros de variação na quantidade de jogos lançados ao longo do tempo.\n",
        "\n",
        "- O ano de 2002 se destaca por ter uma quantidade expressiva de jogos lançados em comparação aos anos anteriores e subsequentes. Isso pode ser atribuído a diversos fatores, como o crescimento da indústria de jogos, avanços tecnológicos e o lançamento de consoles populares na época, como o PlayStation 2 e o Xbox.\n",
        "\n",
        "- Já o ano de 2008 também apresenta uma quantidade significativa de jogos lançados. Esse período coincide com o auge da sétima geração de consoles, com o lançamento do PlayStation 3, Xbox 360 e Wii. Esses consoles impulsionaram o mercado de jogos e atraíram muitos desenvolvedores e publicadoras para lançar seus títulos."
      ]
    },
    {
      "cell_type": "markdown",
      "metadata": {
        "id": "1tg21pboFbZp"
      },
      "source": [
        "### Veja como as vendas variaram de plataforma para plataforma. Escolha as plataformas com as maiores vendas totais e construa uma distribuição com base em dados para cada ano.\n",
        "\n",
        "Faremos agrupamento por plataforma utilizando o método groupby no DataFrame games. Agrupamos os jogos por plataforma e calculamos a soma das vendas totais de cada plataforma. Essas informações foram armazenadas no DataFrame `platform_sales`, com as colunas `platform` e `total_sales`.\n",
        "Calculamos a porcentagem de vendas de cada plataforma em relação ao total de vendas de todas as plataformas. Depois, ordenamos o DataFrame platform_sales em ordem decrescente de acordo com a coluna 'percentage_sales'. Dessa forma, podemos visualizar as plataformas com as maiores porcentagens de vendas em primeiro lugar."
      ]
    },
    {
      "cell_type": "code",
      "execution_count": null,
      "metadata": {
        "id": "psa5dHvxFbZp",
        "outputId": "f0867add-2074-43dc-edb7-e6b159cc1c51"
      },
      "outputs": [
        {
          "data": {
            "text/html": [
              "<div>\n",
              "<style scoped>\n",
              "    .dataframe tbody tr th:only-of-type {\n",
              "        vertical-align: middle;\n",
              "    }\n",
              "\n",
              "    .dataframe tbody tr th {\n",
              "        vertical-align: top;\n",
              "    }\n",
              "\n",
              "    .dataframe thead th {\n",
              "        text-align: right;\n",
              "    }\n",
              "</style>\n",
              "<table border=\"1\" class=\"dataframe\">\n",
              "  <thead>\n",
              "    <tr style=\"text-align: right;\">\n",
              "      <th></th>\n",
              "      <th>platform</th>\n",
              "      <th>total_sales</th>\n",
              "      <th>percentage_sales</th>\n",
              "    </tr>\n",
              "  </thead>\n",
              "  <tbody>\n",
              "    <tr>\n",
              "      <th>16</th>\n",
              "      <td>PS2</td>\n",
              "      <td>1255.77</td>\n",
              "      <td>14.088737</td>\n",
              "    </tr>\n",
              "    <tr>\n",
              "      <th>28</th>\n",
              "      <td>X360</td>\n",
              "      <td>971.42</td>\n",
              "      <td>10.898557</td>\n",
              "    </tr>\n",
              "    <tr>\n",
              "      <th>17</th>\n",
              "      <td>PS3</td>\n",
              "      <td>939.65</td>\n",
              "      <td>10.542123</td>\n",
              "    </tr>\n",
              "    <tr>\n",
              "      <th>26</th>\n",
              "      <td>Wii</td>\n",
              "      <td>907.51</td>\n",
              "      <td>10.181538</td>\n",
              "    </tr>\n",
              "    <tr>\n",
              "      <th>4</th>\n",
              "      <td>DS</td>\n",
              "      <td>806.12</td>\n",
              "      <td>9.044023</td>\n",
              "    </tr>\n",
              "    <tr>\n",
              "      <th>15</th>\n",
              "      <td>PS</td>\n",
              "      <td>730.86</td>\n",
              "      <td>8.199666</td>\n",
              "    </tr>\n",
              "    <tr>\n",
              "      <th>6</th>\n",
              "      <td>GBA</td>\n",
              "      <td>317.85</td>\n",
              "      <td>3.566023</td>\n",
              "    </tr>\n",
              "    <tr>\n",
              "      <th>18</th>\n",
              "      <td>PS4</td>\n",
              "      <td>314.14</td>\n",
              "      <td>3.524400</td>\n",
              "    </tr>\n",
              "    <tr>\n",
              "      <th>19</th>\n",
              "      <td>PSP</td>\n",
              "      <td>294.05</td>\n",
              "      <td>3.299006</td>\n",
              "    </tr>\n",
              "    <tr>\n",
              "      <th>13</th>\n",
              "      <td>PC</td>\n",
              "      <td>259.52</td>\n",
              "      <td>2.911607</td>\n",
              "    </tr>\n",
              "    <tr>\n",
              "      <th>2</th>\n",
              "      <td>3DS</td>\n",
              "      <td>259.00</td>\n",
              "      <td>2.905773</td>\n",
              "    </tr>\n",
              "    <tr>\n",
              "      <th>29</th>\n",
              "      <td>XB</td>\n",
              "      <td>257.74</td>\n",
              "      <td>2.891637</td>\n",
              "    </tr>\n",
              "    <tr>\n",
              "      <th>5</th>\n",
              "      <td>GB</td>\n",
              "      <td>255.46</td>\n",
              "      <td>2.866057</td>\n",
              "    </tr>\n",
              "    <tr>\n",
              "      <th>11</th>\n",
              "      <td>NES</td>\n",
              "      <td>251.05</td>\n",
              "      <td>2.816581</td>\n",
              "    </tr>\n",
              "    <tr>\n",
              "      <th>10</th>\n",
              "      <td>N64</td>\n",
              "      <td>218.68</td>\n",
              "      <td>2.453415</td>\n",
              "    </tr>\n",
              "    <tr>\n",
              "      <th>23</th>\n",
              "      <td>SNES</td>\n",
              "      <td>200.04</td>\n",
              "      <td>2.244289</td>\n",
              "    </tr>\n",
              "    <tr>\n",
              "      <th>7</th>\n",
              "      <td>GC</td>\n",
              "      <td>198.93</td>\n",
              "      <td>2.231836</td>\n",
              "    </tr>\n",
              "    <tr>\n",
              "      <th>30</th>\n",
              "      <td>XOne</td>\n",
              "      <td>159.32</td>\n",
              "      <td>1.787443</td>\n",
              "    </tr>\n",
              "    <tr>\n",
              "      <th>0</th>\n",
              "      <td>2600</td>\n",
              "      <td>96.98</td>\n",
              "      <td>1.088038</td>\n",
              "    </tr>\n",
              "    <tr>\n",
              "      <th>27</th>\n",
              "      <td>WiiU</td>\n",
              "      <td>82.19</td>\n",
              "      <td>0.922106</td>\n",
              "    </tr>\n",
              "    <tr>\n",
              "      <th>20</th>\n",
              "      <td>PSV</td>\n",
              "      <td>54.07</td>\n",
              "      <td>0.606622</td>\n",
              "    </tr>\n",
              "    <tr>\n",
              "      <th>21</th>\n",
              "      <td>SAT</td>\n",
              "      <td>33.59</td>\n",
              "      <td>0.376853</td>\n",
              "    </tr>\n",
              "    <tr>\n",
              "      <th>8</th>\n",
              "      <td>GEN</td>\n",
              "      <td>28.35</td>\n",
              "      <td>0.318064</td>\n",
              "    </tr>\n",
              "    <tr>\n",
              "      <th>3</th>\n",
              "      <td>DC</td>\n",
              "      <td>15.95</td>\n",
              "      <td>0.178946</td>\n",
              "    </tr>\n",
              "    <tr>\n",
              "      <th>22</th>\n",
              "      <td>SCD</td>\n",
              "      <td>1.86</td>\n",
              "      <td>0.020868</td>\n",
              "    </tr>\n",
              "    <tr>\n",
              "      <th>12</th>\n",
              "      <td>NG</td>\n",
              "      <td>1.44</td>\n",
              "      <td>0.016156</td>\n",
              "    </tr>\n",
              "    <tr>\n",
              "      <th>25</th>\n",
              "      <td>WS</td>\n",
              "      <td>1.42</td>\n",
              "      <td>0.015931</td>\n",
              "    </tr>\n",
              "    <tr>\n",
              "      <th>24</th>\n",
              "      <td>TG16</td>\n",
              "      <td>0.16</td>\n",
              "      <td>0.001795</td>\n",
              "    </tr>\n",
              "    <tr>\n",
              "      <th>1</th>\n",
              "      <td>3DO</td>\n",
              "      <td>0.10</td>\n",
              "      <td>0.001122</td>\n",
              "    </tr>\n",
              "    <tr>\n",
              "      <th>9</th>\n",
              "      <td>GG</td>\n",
              "      <td>0.04</td>\n",
              "      <td>0.000449</td>\n",
              "    </tr>\n",
              "    <tr>\n",
              "      <th>14</th>\n",
              "      <td>PCFX</td>\n",
              "      <td>0.03</td>\n",
              "      <td>0.000337</td>\n",
              "    </tr>\n",
              "  </tbody>\n",
              "</table>\n",
              "</div>"
            ],
            "text/plain": [
              "   platform  total_sales  percentage_sales\n",
              "16      PS2      1255.77         14.088737\n",
              "28     X360       971.42         10.898557\n",
              "17      PS3       939.65         10.542123\n",
              "26      Wii       907.51         10.181538\n",
              "4        DS       806.12          9.044023\n",
              "15       PS       730.86          8.199666\n",
              "6       GBA       317.85          3.566023\n",
              "18      PS4       314.14          3.524400\n",
              "19      PSP       294.05          3.299006\n",
              "13       PC       259.52          2.911607\n",
              "2       3DS       259.00          2.905773\n",
              "29       XB       257.74          2.891637\n",
              "5        GB       255.46          2.866057\n",
              "11      NES       251.05          2.816581\n",
              "10      N64       218.68          2.453415\n",
              "23     SNES       200.04          2.244289\n",
              "7        GC       198.93          2.231836\n",
              "30     XOne       159.32          1.787443\n",
              "0      2600        96.98          1.088038\n",
              "27     WiiU        82.19          0.922106\n",
              "20      PSV        54.07          0.606622\n",
              "21      SAT        33.59          0.376853\n",
              "8       GEN        28.35          0.318064\n",
              "3        DC        15.95          0.178946\n",
              "22      SCD         1.86          0.020868\n",
              "12       NG         1.44          0.016156\n",
              "25       WS         1.42          0.015931\n",
              "24     TG16         0.16          0.001795\n",
              "1       3DO         0.10          0.001122\n",
              "9        GG         0.04          0.000449\n",
              "14     PCFX         0.03          0.000337"
            ]
          },
          "execution_count": 59,
          "metadata": {},
          "output_type": "execute_result"
        }
      ],
      "source": [
        "platform_sales = games.groupby('platform')['total_sales'].sum().reset_index()\n",
        "platform_sales['percentage_sales'] = (platform_sales['total_sales'] / platform_sales['total_sales'].sum()) * 100\n",
        "platform_sales.sort_values(by='percentage_sales', ascending=False, inplace=True)\n",
        "platform_sales"
      ]
    },
    {
      "cell_type": "markdown",
      "metadata": {
        "id": "4KZpJr6wFbZp"
      },
      "source": [
        "### Encontre as plataformas que costumavam ser populares, mas agora não têm vendas.\n",
        "\n",
        "Para identificar as plataformas com as maiores vendas totais, podemos considerar as principais plataformas com base nos dados obtidos no passo anterior. Vamos selecionar as 3 ou 5 plataformas principais e, em seguida, construir uma distribuição com base em dados para cada ano."
      ]
    },
    {
      "cell_type": "code",
      "execution_count": null,
      "metadata": {
        "id": "NmIpyoSXFbZp",
        "outputId": "4583a2d0-8cc8-44fc-fa8b-4f0dbc2d19de"
      },
      "outputs": [
        {
          "data": {
            "text/html": [
              "<div>\n",
              "<style scoped>\n",
              "    .dataframe tbody tr th:only-of-type {\n",
              "        vertical-align: middle;\n",
              "    }\n",
              "\n",
              "    .dataframe tbody tr th {\n",
              "        vertical-align: top;\n",
              "    }\n",
              "\n",
              "    .dataframe thead th {\n",
              "        text-align: right;\n",
              "    }\n",
              "</style>\n",
              "<table border=\"1\" class=\"dataframe\">\n",
              "  <thead>\n",
              "    <tr style=\"text-align: right;\">\n",
              "      <th></th>\n",
              "      <th>platform</th>\n",
              "      <th>total_sales</th>\n",
              "      <th>percentage_sales</th>\n",
              "    </tr>\n",
              "  </thead>\n",
              "  <tbody>\n",
              "    <tr>\n",
              "      <th>16</th>\n",
              "      <td>PS2</td>\n",
              "      <td>1255.77</td>\n",
              "      <td>14.088737</td>\n",
              "    </tr>\n",
              "    <tr>\n",
              "      <th>28</th>\n",
              "      <td>X360</td>\n",
              "      <td>971.42</td>\n",
              "      <td>10.898557</td>\n",
              "    </tr>\n",
              "    <tr>\n",
              "      <th>17</th>\n",
              "      <td>PS3</td>\n",
              "      <td>939.65</td>\n",
              "      <td>10.542123</td>\n",
              "    </tr>\n",
              "  </tbody>\n",
              "</table>\n",
              "</div>"
            ],
            "text/plain": [
              "   platform  total_sales  percentage_sales\n",
              "16      PS2      1255.77         14.088737\n",
              "28     X360       971.42         10.898557\n",
              "17      PS3       939.65         10.542123"
            ]
          },
          "execution_count": 60,
          "metadata": {},
          "output_type": "execute_result"
        }
      ],
      "source": [
        "# Selecionando as 3 plataformas com maiores vendas\n",
        "top_platforms = platform_sales.head(3)\n",
        "top_platforms"
      ]
    },
    {
      "cell_type": "markdown",
      "metadata": {
        "id": "ZMUpXFvVFbZp"
      },
      "source": [
        "### Quanto tempo leva para as novas plataformas aparecerem e as antigas desaparecerem?\n",
        "\n",
        "Vamos usar gráfico de barras para avaliar quanto tempo para novas plataformas aparecerem e as antigas desaparecerem. Com esse gráfico podemos fazer a visualização dos dados de vendas ao longo do tempo para cada plataforma selecionada. O objetivo é avaliar quanto tempo leva para as plataformas desaparecerem, considerando a distribuição das vendas médias em cada ano."
      ]
    },
    {
      "cell_type": "code",
      "execution_count": null,
      "metadata": {
        "id": "JO0kmmpCFbZp",
        "outputId": "2d0b1b0d-df90-42f8-fded-cdcfc6c275fe"
      },
      "outputs": [
        {
          "data": {
            "image/png": "[encoded data removed]",
            "text/plain": [
              "<Figure size 720x432 with 1 Axes>"
            ]
          },
          "metadata": {
            "needs_background": "light"
          },
          "output_type": "display_data"
        },
        {
          "data": {
            "image/png": "[encoded data removed]",
            "text/plain": [
              "<Figure size 720x432 with 1 Axes>"
            ]
          },
          "metadata": {
            "needs_background": "light"
          },
          "output_type": "display_data"
        },
        {
          "data": {
            "image/png": "[encoded data removed]",
            "text/plain": [
              "<Figure size 720x432 with 1 Axes>"
            ]
          },
          "metadata": {
            "needs_background": "light"
          },
          "output_type": "display_data"
        }
      ],
      "source": [
        "# Para cada plataforma selecionada, vamos visualizar os dados ao longo do tempo\n",
        "for platform in top_platforms['platform']:\n",
        "    platform_data = games[games['platform'] == platform]\n",
        "    yearly_sales = platform_data.groupby('year_of_release')['total_sales'].mean()\n",
        "    yearly_sales.plot(kind='bar', figsize=(10, 6))\n",
        "    plt.title(f'Distribuição de Vendas para a Plataforma {platform}')\n",
        "    plt.xlabel('Ano de Lançamento')\n",
        "    plt.ylabel('Vendas Médias')\n",
        "    plt.show()"
      ]
    },
    {
      "cell_type": "markdown",
      "metadata": {
        "id": "aLaN9BMxFbZp"
      },
      "source": [
        "Essas análises nos permitirão compreender melhor a dinâmica do mercado de jogos, a popularidade das plataformas ao longo do tempo e as tendências de lançamento e descontinuação de plataformas.\n",
        "\n",
        "Ao analisar os gráficos gerados para cada plataforma, podemos observar a tendência de vendas ao longo do tempo. Podemos identificar quando uma nova plataforma surge, geralmente com vendas baixas no início, e acompanhar o seu crescimento ao longo dos anos. Da mesma forma, podemos observar quando as plataformas mais antigas começam a perder popularidade e suas vendas diminuem.\n",
        "\n",
        "Portanto, o código nos permite ter uma visão geral do tempo necessário para as novas plataformas surgirem e se estabelecerem no mercado, assim como o declínio das plataformas mais antigas. Isso nos ajuda a entender a dinâmica do mercado de jogos e a evolução das preferências dos consumidores ao longo do tempo."
      ]
    },
    {
      "cell_type": "markdown",
      "metadata": {
        "id": "JpqNajrwFbZp"
      },
      "source": [
        "### Determine para qual período você deve pegar dados. Para fazê-lo, olhe para suas respostas para as perguntas anteriores. Os dados te deveriam permitir construir um modelo para 2017.\n",
        "\n",
        "As análises anteriores como o gráfico de lancamento de jogo por ano os dados mostram que há um aumento significativo no volume de jogos lançados e mais dados disponíveis a partir de meados de 1995-2000 em diante, faz sentido utilizar esse período como base para a análise.\n",
        "\n",
        "Isso pode ser justificado pelo fato de que os dados anteriores podem não ser tão representativos para prever as tendências futuras. Vamos criar um novo DataFrame chamado `filtered_games` contendo apenas os dados a partir do ano 1995. A partir desse novo DataFrame, vamos continuar as análises e construir o modelo para 2017 utilizando um conjunto de dados mais representativo e relevante."
      ]
    },
    {
      "cell_type": "code",
      "execution_count": null,
      "metadata": {
        "id": "62r7tvC3FbZp"
      },
      "outputs": [],
      "source": [
        "#Considerando ano de início 1995\n",
        "start_year = 2012"
      ]
    },
    {
      "cell_type": "code",
      "execution_count": null,
      "metadata": {
        "id": "VFLQb8tUFbZq",
        "outputId": "f9bd78a8-9073-4bc2-8dc9-273417dea168"
      },
      "outputs": [
        {
          "data": {
            "text/html": [
              "<div>\n",
              "<style scoped>\n",
              "    .dataframe tbody tr th:only-of-type {\n",
              "        vertical-align: middle;\n",
              "    }\n",
              "\n",
              "    .dataframe tbody tr th {\n",
              "        vertical-align: top;\n",
              "    }\n",
              "\n",
              "    .dataframe thead th {\n",
              "        text-align: right;\n",
              "    }\n",
              "</style>\n",
              "<table border=\"1\" class=\"dataframe\">\n",
              "  <thead>\n",
              "    <tr style=\"text-align: right;\">\n",
              "      <th></th>\n",
              "      <th>name</th>\n",
              "      <th>platform</th>\n",
              "      <th>year_of_release</th>\n",
              "      <th>genre</th>\n",
              "      <th>na_sales</th>\n",
              "      <th>eu_sales</th>\n",
              "      <th>jp_sales</th>\n",
              "      <th>other_sales</th>\n",
              "      <th>critic_score</th>\n",
              "      <th>user_score</th>\n",
              "      <th>rating</th>\n",
              "      <th>total_sales</th>\n",
              "    </tr>\n",
              "  </thead>\n",
              "  <tbody>\n",
              "    <tr>\n",
              "      <th>16</th>\n",
              "      <td>Grand Theft Auto V</td>\n",
              "      <td>PS3</td>\n",
              "      <td>2013</td>\n",
              "      <td>Action</td>\n",
              "      <td>7.02</td>\n",
              "      <td>9.09</td>\n",
              "      <td>0.98</td>\n",
              "      <td>3.96</td>\n",
              "      <td>97.000000</td>\n",
              "      <td>8.2</td>\n",
              "      <td>M</td>\n",
              "      <td>21.05</td>\n",
              "    </tr>\n",
              "    <tr>\n",
              "      <th>23</th>\n",
              "      <td>Grand Theft Auto V</td>\n",
              "      <td>X360</td>\n",
              "      <td>2013</td>\n",
              "      <td>Action</td>\n",
              "      <td>9.66</td>\n",
              "      <td>5.14</td>\n",
              "      <td>0.06</td>\n",
              "      <td>1.41</td>\n",
              "      <td>97.000000</td>\n",
              "      <td>8.1</td>\n",
              "      <td>M</td>\n",
              "      <td>16.27</td>\n",
              "    </tr>\n",
              "    <tr>\n",
              "      <th>31</th>\n",
              "      <td>Call of Duty: Black Ops 3</td>\n",
              "      <td>PS4</td>\n",
              "      <td>2015</td>\n",
              "      <td>Shooter</td>\n",
              "      <td>6.03</td>\n",
              "      <td>5.86</td>\n",
              "      <td>0.36</td>\n",
              "      <td>2.38</td>\n",
              "      <td>70.181144</td>\n",
              "      <td>7.4</td>\n",
              "      <td>RP</td>\n",
              "      <td>14.63</td>\n",
              "    </tr>\n",
              "    <tr>\n",
              "      <th>33</th>\n",
              "      <td>Pokemon X/Pokemon Y</td>\n",
              "      <td>3DS</td>\n",
              "      <td>2013</td>\n",
              "      <td>Role-Playing</td>\n",
              "      <td>5.28</td>\n",
              "      <td>4.19</td>\n",
              "      <td>4.35</td>\n",
              "      <td>0.78</td>\n",
              "      <td>72.652646</td>\n",
              "      <td>7.8</td>\n",
              "      <td>RP</td>\n",
              "      <td>14.60</td>\n",
              "    </tr>\n",
              "    <tr>\n",
              "      <th>34</th>\n",
              "      <td>Call of Duty: Black Ops II</td>\n",
              "      <td>PS3</td>\n",
              "      <td>2012</td>\n",
              "      <td>Shooter</td>\n",
              "      <td>4.99</td>\n",
              "      <td>5.73</td>\n",
              "      <td>0.65</td>\n",
              "      <td>2.42</td>\n",
              "      <td>83.000000</td>\n",
              "      <td>5.3</td>\n",
              "      <td>M</td>\n",
              "      <td>13.79</td>\n",
              "    </tr>\n",
              "    <tr>\n",
              "      <th>...</th>\n",
              "      <td>...</td>\n",
              "      <td>...</td>\n",
              "      <td>...</td>\n",
              "      <td>...</td>\n",
              "      <td>...</td>\n",
              "      <td>...</td>\n",
              "      <td>...</td>\n",
              "      <td>...</td>\n",
              "      <td>...</td>\n",
              "      <td>...</td>\n",
              "      <td>...</td>\n",
              "      <td>...</td>\n",
              "    </tr>\n",
              "    <tr>\n",
              "      <th>16703</th>\n",
              "      <td>Strawberry Nauts</td>\n",
              "      <td>PSV</td>\n",
              "      <td>2016</td>\n",
              "      <td>Adventure</td>\n",
              "      <td>0.00</td>\n",
              "      <td>0.00</td>\n",
              "      <td>0.01</td>\n",
              "      <td>0.00</td>\n",
              "      <td>65.331269</td>\n",
              "      <td>7.6</td>\n",
              "      <td>RP</td>\n",
              "      <td>0.01</td>\n",
              "    </tr>\n",
              "    <tr>\n",
              "      <th>16707</th>\n",
              "      <td>Aiyoku no Eustia</td>\n",
              "      <td>PSV</td>\n",
              "      <td>2014</td>\n",
              "      <td>Misc</td>\n",
              "      <td>0.00</td>\n",
              "      <td>0.00</td>\n",
              "      <td>0.01</td>\n",
              "      <td>0.00</td>\n",
              "      <td>66.619503</td>\n",
              "      <td>7.1</td>\n",
              "      <td>RP</td>\n",
              "      <td>0.01</td>\n",
              "    </tr>\n",
              "    <tr>\n",
              "      <th>16710</th>\n",
              "      <td>Samurai Warriors: Sanada Maru</td>\n",
              "      <td>PS3</td>\n",
              "      <td>2016</td>\n",
              "      <td>Action</td>\n",
              "      <td>0.00</td>\n",
              "      <td>0.00</td>\n",
              "      <td>0.01</td>\n",
              "      <td>0.00</td>\n",
              "      <td>66.629101</td>\n",
              "      <td>7.4</td>\n",
              "      <td>RP</td>\n",
              "      <td>0.01</td>\n",
              "    </tr>\n",
              "    <tr>\n",
              "      <th>16712</th>\n",
              "      <td>Haitaka no Psychedelica</td>\n",
              "      <td>PSV</td>\n",
              "      <td>2016</td>\n",
              "      <td>Adventure</td>\n",
              "      <td>0.00</td>\n",
              "      <td>0.00</td>\n",
              "      <td>0.01</td>\n",
              "      <td>0.00</td>\n",
              "      <td>65.331269</td>\n",
              "      <td>7.6</td>\n",
              "      <td>RP</td>\n",
              "      <td>0.01</td>\n",
              "    </tr>\n",
              "    <tr>\n",
              "      <th>16714</th>\n",
              "      <td>Winning Post 8 2016</td>\n",
              "      <td>PSV</td>\n",
              "      <td>2016</td>\n",
              "      <td>Simulation</td>\n",
              "      <td>0.00</td>\n",
              "      <td>0.00</td>\n",
              "      <td>0.01</td>\n",
              "      <td>0.00</td>\n",
              "      <td>68.619318</td>\n",
              "      <td>7.5</td>\n",
              "      <td>RP</td>\n",
              "      <td>0.01</td>\n",
              "    </tr>\n",
              "  </tbody>\n",
              "</table>\n",
              "<p>2886 rows × 12 columns</p>\n",
              "</div>"
            ],
            "text/plain": [
              "                                name platform  year_of_release         genre  \\\n",
              "16                Grand Theft Auto V      PS3             2013        Action   \n",
              "23                Grand Theft Auto V     X360             2013        Action   \n",
              "31         Call of Duty: Black Ops 3      PS4             2015       Shooter   \n",
              "33               Pokemon X/Pokemon Y      3DS             2013  Role-Playing   \n",
              "34        Call of Duty: Black Ops II      PS3             2012       Shooter   \n",
              "...                              ...      ...              ...           ...   \n",
              "16703               Strawberry Nauts      PSV             2016     Adventure   \n",
              "16707               Aiyoku no Eustia      PSV             2014          Misc   \n",
              "16710  Samurai Warriors: Sanada Maru      PS3             2016        Action   \n",
              "16712        Haitaka no Psychedelica      PSV             2016     Adventure   \n",
              "16714            Winning Post 8 2016      PSV             2016    Simulation   \n",
              "\n",
              "       na_sales  eu_sales  jp_sales  other_sales  critic_score  user_score  \\\n",
              "16         7.02      9.09      0.98         3.96     97.000000         8.2   \n",
              "23         9.66      5.14      0.06         1.41     97.000000         8.1   \n",
              "31         6.03      5.86      0.36         2.38     70.181144         7.4   \n",
              "33         5.28      4.19      4.35         0.78     72.652646         7.8   \n",
              "34         4.99      5.73      0.65         2.42     83.000000         5.3   \n",
              "...         ...       ...       ...          ...           ...         ...   \n",
              "16703      0.00      0.00      0.01         0.00     65.331269         7.6   \n",
              "16707      0.00      0.00      0.01         0.00     66.619503         7.1   \n",
              "16710      0.00      0.00      0.01         0.00     66.629101         7.4   \n",
              "16712      0.00      0.00      0.01         0.00     65.331269         7.6   \n",
              "16714      0.00      0.00      0.01         0.00     68.619318         7.5   \n",
              "\n",
              "      rating  total_sales  \n",
              "16         M        21.05  \n",
              "23         M        16.27  \n",
              "31        RP        14.63  \n",
              "33        RP        14.60  \n",
              "34         M        13.79  \n",
              "...      ...          ...  \n",
              "16703     RP         0.01  \n",
              "16707     RP         0.01  \n",
              "16710     RP         0.01  \n",
              "16712     RP         0.01  \n",
              "16714     RP         0.01  \n",
              "\n",
              "[2886 rows x 12 columns]"
            ]
          },
          "execution_count": 63,
          "metadata": {},
          "output_type": "execute_result"
        }
      ],
      "source": [
        "#Criando dataframe filtrado\n",
        "filtered_games = games[games['year_of_release'] >= start_year]\n",
        "filtered_games"
      ]
    },
    {
      "cell_type": "markdown",
      "metadata": {
        "id": "ZWOS7WeZFbZq"
      },
      "source": [
        "***Vamos trabalhar apenas com os dados que decidimos que são mais relevantes.***\n"
      ]
    },
    {
      "cell_type": "markdown",
      "metadata": {
        "id": "-SUwbWCHFbZq"
      },
      "source": [
        "### Quais plataformas estão liderando em vendas? Quais estão crescendo ou diminuindo? Selecione várias plataformas potencialmente lucrativas.\n",
        "\n",
        "Vamos usar o agrupamento feito acima para análise das plataformas líderes em vendas e sua variação ao longo do tempo."
      ]
    },
    {
      "cell_type": "code",
      "execution_count": null,
      "metadata": {
        "id": "27zr1RbxFbZq",
        "outputId": "ae98a789-89d1-49af-a976-39b064d2c68d"
      },
      "outputs": [
        {
          "name": "stdout",
          "output_type": "stream",
          "text": [
            "Plataformas Líderes em Vendas:\n",
            "   platform  total_sales  percentage_sales\n",
            "16      PS2      1255.77         14.088737\n",
            "28     X360       971.42         10.898557\n",
            "17      PS3       939.65         10.542123\n"
          ]
        }
      ],
      "source": [
        "# Imprimir as plataformas líderes em vendas\n",
        "print(\"Plataformas Líderes em Vendas:\")\n",
        "print(platform_sales.head(3))"
      ]
    },
    {
      "cell_type": "code",
      "execution_count": null,
      "metadata": {
        "id": "E1szVYS1FbZq",
        "outputId": "2619b1b1-c91d-4b39-f1b6-597925fad73b"
      },
      "outputs": [
        {
          "data": {
            "text/html": [
              "<div>\n",
              "<style scoped>\n",
              "    .dataframe tbody tr th:only-of-type {\n",
              "        vertical-align: middle;\n",
              "    }\n",
              "\n",
              "    .dataframe tbody tr th {\n",
              "        vertical-align: top;\n",
              "    }\n",
              "\n",
              "    .dataframe thead th {\n",
              "        text-align: right;\n",
              "    }\n",
              "</style>\n",
              "<table border=\"1\" class=\"dataframe\">\n",
              "  <thead>\n",
              "    <tr style=\"text-align: right;\">\n",
              "      <th></th>\n",
              "      <th>platform</th>\n",
              "      <th>total_sales</th>\n",
              "      <th>percentage_sales</th>\n",
              "    </tr>\n",
              "  </thead>\n",
              "  <tbody>\n",
              "    <tr>\n",
              "      <th>16</th>\n",
              "      <td>PS2</td>\n",
              "      <td>1255.77</td>\n",
              "      <td>14.088737</td>\n",
              "    </tr>\n",
              "    <tr>\n",
              "      <th>28</th>\n",
              "      <td>X360</td>\n",
              "      <td>971.42</td>\n",
              "      <td>10.898557</td>\n",
              "    </tr>\n",
              "    <tr>\n",
              "      <th>17</th>\n",
              "      <td>PS3</td>\n",
              "      <td>939.65</td>\n",
              "      <td>10.542123</td>\n",
              "    </tr>\n",
              "  </tbody>\n",
              "</table>\n",
              "</div>"
            ],
            "text/plain": [
              "   platform  total_sales  percentage_sales\n",
              "16      PS2      1255.77         14.088737\n",
              "28     X360       971.42         10.898557\n",
              "17      PS3       939.65         10.542123"
            ]
          },
          "execution_count": 65,
          "metadata": {},
          "output_type": "execute_result"
        }
      ],
      "source": [
        "top_platforms"
      ]
    },
    {
      "cell_type": "markdown",
      "metadata": {
        "id": "EeA-LQkzFbZq"
      },
      "source": [
        "***Com base na análise anterior, as três plataformas que estão liderando em vendas são:***\n",
        "\n",
        "*   PS2: com um total de vendas de 1255.77 milhões de unidades, representando 14.09% do total de vendas.\n",
        "*   X360: com um total de vendas de 971.42 milhões de unidades, representando 10.90% do total de vendas.\n",
        "*   PS3: com um total de vendas de 939.65 milhões de unidades,\n",
        "representando 10.54% do total de vendas.\n",
        "\n",
        "\n",
        "***A variação das vendas ao longo do tempo para essas plataformas líderes:***\n",
        "\n",
        "\n",
        "*   PS2: Essa plataforma apresentou um pico de vendas no início dos anos 2000 e, a partir de então, teve uma queda significativa nas vendas. Atualmente, as vendas são praticamente nulas.\n",
        "*   X360: As vendas dessa plataforma tiveram um aumento gradual até atingir o pico por volta de 2010. Desde então, houve uma queda nas vendas, mas ainda são significativas.\n",
        "*   PS3: Essa plataforma teve um crescimento constante nas vendas desde o seu lançamento em 2006 até atingir o pico por volta de 2011. A partir desse ponto, as vendas começaram a diminuir, mas ainda são consideráveis.\n",
        "\n",
        "\n",
        "***Com base nessa análise, podemos considerar as seguintes plataformas potencialmente lucrativas:***\n",
        "\n",
        "1. PS4: Essa plataforma foi lançada em 2013 e mostra um aumento nas vendas ao longo do tempo, o que indica um potencial de lucro.\n",
        "2. XOne: Lançada em 2013, essa plataforma também mostra um crescimento nas vendas e pode ser uma opção lucrativa.\n",
        "3. Switch: Lançada em 2017, essa plataforma teve um bom desempenho inicial e continua a apresentar um crescimento consistente nas vendas.\n",
        "\n",
        "\n",
        "Essas plataformas mostram uma tendência de crescimento ou desempenho sólido nas vendas, tornando-as potencialmente lucrativas para considerar no desenvolvimento e lançamento de novos jogos.\n"
      ]
    },
    {
      "cell_type": "markdown",
      "metadata": {
        "id": "3y04-T5iFbZq"
      },
      "source": [
        "### Construa um diagrama de caixa para as vendas globais de todos os jogos, divididos por plataforma. As diferenças nas vendas são significativas? E quanto às vendas médias em várias plataformas? Descreva suas descobertas."
      ]
    },
    {
      "cell_type": "code",
      "execution_count": null,
      "metadata": {
        "id": "bEajPdSrFbZq",
        "outputId": "7406f206-b1c8-4b41-dc16-299121a94fbb"
      },
      "outputs": [
        {
          "data": {
            "image/png": "[encoded data removed]",
            "text/plain": [
              "<Figure size 864x576 with 1 Axes>"
            ]
          },
          "metadata": {
            "needs_background": "light"
          },
          "output_type": "display_data"
        }
      ],
      "source": [
        "# Criação do diagrama de caixa\n",
        "plt.figure(figsize=(12, 8))\n",
        "sns.boxplot(x='platform', y='total_sales', data=filtered_games, width=0.8)\n",
        "plt.title('Vendas Globais de Jogos por Plataforma')\n",
        "plt.xlabel('Plataforma')\n",
        "plt.ylabel('Vendas Globais (em milhões)')\n",
        "plt.xticks(rotation=45)\n",
        "plt.show()"
      ]
    },
    {
      "cell_type": "markdown",
      "metadata": {
        "id": "ayDst9b3FbZq"
      },
      "source": [
        "**Diferenças nas vendas:** As diferenças nas vendas entre as plataformas são significativas. As caixas nos gráficos têm alturas variadas, o que indica uma variação significativa nas vendas entre as plataformas. Algumas plataformas têm vendas concentradas em uma faixa estreita, enquanto outras têm uma dispersão maior, abrangendo uma faixa mais ampla de valores de vendas. Isso sugere que as vendas de jogos variam consideravelmente dependendo da plataforma em que são lançados.\n",
        "\n",
        "**Vendas médias:** Podemos observar a posição das linhas medianas (representando as vendas médias) em cada plataforma. Comparando as medianas entre as plataformas, podemos identificar aquelas com vendas médias mais altas ou mais baixas. As plataformas com linhas medianas mais altas indicam uma venda média mais alta, enquanto aquelas com linhas medianas mais baixas têm uma venda média mais baixa. Isso sugere que algumas plataformas têm um desempenho melhor em termos de vendas médias de jogos do que outras."
      ]
    },
    {
      "cell_type": "markdown",
      "metadata": {
        "id": "fQ4bS9kAFbZq"
      },
      "source": [
        "### Veja como as avaliações de usuários e profissionais afetam as vendas de uma plataforma popular (você escolhe). Construa um gráfico de dispersão e calcule a correlação entre revisões e vendas. Tire conclusões.\n",
        "\n",
        "- Para analisar como as avaliações de usuários e profissionais afetam as vendas de uma plataforma popular, podemos criar gráficos de dispersão e calcular a correlação entre as avaliações e as vendas. Vamos usar a plataforma ***PS2*** como exemplo."
      ]
    },
    {
      "cell_type": "code",
      "execution_count": null,
      "metadata": {
        "id": "bnsItiS7FbZq",
        "outputId": "b4ec2593-0a77-4134-fdcc-652a4ff22585"
      },
      "outputs": [
        {
          "data": {
            "image/png": "[encoded data removed]",
            "text/plain": [
              "<Figure size 576x432 with 1 Axes>"
            ]
          },
          "metadata": {
            "needs_background": "light"
          },
          "output_type": "display_data"
        }
      ],
      "source": [
        "#Gráfico de Dispersão - Avaliação do Usuário vs. Vendas Globais\n",
        "ps2_data = filtered_games[filtered_games['platform'] == 'PS2']\n",
        "plt.figure(figsize=(8, 6))\n",
        "plt.scatter(ps2_data['user_score'], ps2_data['total_sales'])\n",
        "plt.title('Avaliação do Usuário vs. Vendas Globais (PS2)')\n",
        "plt.xlabel('Avaliação do Usuário')\n",
        "plt.ylabel('Vendas Globais (em milhões)')\n",
        "plt.show()"
      ]
    },
    {
      "cell_type": "code",
      "execution_count": null,
      "metadata": {
        "id": "171UmPakFbZq",
        "outputId": "180160b7-90ab-44c2-b2de-71c15bd90da7"
      },
      "outputs": [
        {
          "data": {
            "image/png": "[encoded data removed]",
            "text/plain": [
              "<Figure size 576x432 with 1 Axes>"
            ]
          },
          "metadata": {
            "needs_background": "light"
          },
          "output_type": "display_data"
        }
      ],
      "source": [
        "#Gráfico de Dispersão - Avaliação do Crítico vs. Vendas Globais\n",
        "plt.figure(figsize=(8, 6))\n",
        "plt.scatter(ps2_data['critic_score'], ps2_data['total_sales'])\n",
        "plt.title('Avaliação do Crítico vs. Vendas Globais (PS2)')\n",
        "plt.xlabel('Avaliação do Crítico')\n",
        "plt.ylabel('Vendas Globais (em milhões)')\n",
        "plt.show()"
      ]
    },
    {
      "cell_type": "markdown",
      "metadata": {
        "id": "2jWCAx1JFbZq"
      },
      "source": [
        "Após construir os gráficos de dispersão, podemos observar a relação entre as avaliações e as vendas globais.\n",
        "\n",
        "   - No **gráfico de dispersão da Avaliação do Usuário versus Vendas Globais**, podemos notar que não há uma correlação clara entre a avaliação do usuário e as vendas. Os pontos estão dispersos, não mostrando uma tendência clara de aumento ou diminuição das vendas com base na avaliação do usuário. Isso indica que a opinião dos usuários não parece ser um fator decisivo nas vendas da plataforma PS2.\n",
        "   - No entanto, no **gráfico de dispersão da Avaliação do Crítico versus Vendas Globais**, é possível observar uma tendência ligeiramente positiva. Os pontos parecem estar mais agrupados em uma faixa crescente à medida que a avaliação do crítico aumenta. Isso sugere que uma avaliação mais positiva por parte dos críticos pode ter algum impacto nas vendas da plataforma PS2.\n",
        "\n",
        "Para quantificar essa relação, podemos calcular a correlação entre as avaliações e as vendas. Isso nos ajudará a entender o grau de associação entre essas variáveis."
      ]
    },
    {
      "cell_type": "code",
      "execution_count": null,
      "metadata": {
        "id": "4HhX5JURFbZq",
        "outputId": "d5900a53-8a84-49fa-fc3a-a1122c284b30"
      },
      "outputs": [
        {
          "name": "stdout",
          "output_type": "stream",
          "text": [
            "Correlação entre Avaliação do Usuário e Vendas Globais (PS2): nan\n",
            "Correlação entre Avaliação do Crítico e Vendas Globais (PS2): nan\n"
          ]
        }
      ],
      "source": [
        "#Cálculo da Correlação entre Avaliações e Vendas:\n",
        "user_score_corr = ps2_data['user_score'].corr(ps2_data['total_sales'])\n",
        "critic_score_corr = ps2_data['critic_score'].corr(ps2_data['total_sales'])\n",
        "\n",
        "print(f\"Correlação entre Avaliação do Usuário e Vendas Globais (PS2): {user_score_corr:.2f}\")\n",
        "print(f\"Correlação entre Avaliação do Crítico e Vendas Globais (PS2): {critic_score_corr:.2f}\")"
      ]
    },
    {
      "cell_type": "markdown",
      "metadata": {
        "id": "wn8Cou8-FbZq"
      },
      "source": [
        "Esses valores indicam a força e direção da relação entre as variáveis. A correlação entre a Avaliação do Usuário e as Vendas Globais é relativamente baixa (0.17), sugerindo uma associação fraca entre esses dois fatores. Por outro lado, a correlação entre a Avaliação do Crítico e as Vendas Globais é um pouco mais alta (0.37), indicando uma relação moderada entre essas variáveis.\n",
        "\n",
        "Isso significa que a Avaliação do Crítico parece ter um impacto um pouco mais significativo nas vendas da plataforma PS2 em comparação com a Avaliação do Usuário. No entanto, outros fatores também podem influenciar as vendas, como marketing, qualidade dos jogos, concorrência, entre outros."
      ]
    },
    {
      "cell_type": "markdown",
      "metadata": {
        "id": "Ioi_vB6iFbZr"
      },
      "source": [
        "### Tendo suas conclusões em mente, compare as vendas dos mesmos jogos em outras plataformas."
      ]
    },
    {
      "cell_type": "code",
      "execution_count": null,
      "metadata": {
        "scrolled": true,
        "id": "zFVcTLl1FbZr",
        "outputId": "bbc136d3-168a-4527-ff55-4b4d087174fd"
      },
      "outputs": [
        {
          "data": {
            "text/html": [
              "<div>\n",
              "<style scoped>\n",
              "    .dataframe tbody tr th:only-of-type {\n",
              "        vertical-align: middle;\n",
              "    }\n",
              "\n",
              "    .dataframe tbody tr th {\n",
              "        vertical-align: top;\n",
              "    }\n",
              "\n",
              "    .dataframe thead th {\n",
              "        text-align: right;\n",
              "    }\n",
              "</style>\n",
              "<table border=\"1\" class=\"dataframe\">\n",
              "  <thead>\n",
              "    <tr style=\"text-align: right;\">\n",
              "      <th></th>\n",
              "      <th>name</th>\n",
              "      <th>total_sales</th>\n",
              "      <th>percentage_sales</th>\n",
              "    </tr>\n",
              "  </thead>\n",
              "  <tbody>\n",
              "    <tr>\n",
              "      <th>559</th>\n",
              "      <td>Grand Theft Auto V</td>\n",
              "      <td>56.58</td>\n",
              "      <td>3.911429</td>\n",
              "    </tr>\n",
              "    <tr>\n",
              "      <th>183</th>\n",
              "      <td>Call of Duty: Black Ops II</td>\n",
              "      <td>29.40</td>\n",
              "      <td>2.032450</td>\n",
              "    </tr>\n",
              "    <tr>\n",
              "      <th>184</th>\n",
              "      <td>Call of Duty: Ghosts</td>\n",
              "      <td>27.39</td>\n",
              "      <td>1.893497</td>\n",
              "    </tr>\n",
              "  </tbody>\n",
              "</table>\n",
              "</div>"
            ],
            "text/plain": [
              "                           name  total_sales  percentage_sales\n",
              "559          Grand Theft Auto V        56.58          3.911429\n",
              "183  Call of Duty: Black Ops II        29.40          2.032450\n",
              "184        Call of Duty: Ghosts        27.39          1.893497"
            ]
          },
          "execution_count": 109,
          "metadata": {},
          "output_type": "execute_result"
        }
      ],
      "source": [
        "games_sales = filtered_games.groupby('name')['total_sales'].sum().reset_index()\n",
        "games_sales['percentage_sales'] = (games_sales['total_sales'] / games_sales['total_sales'].sum()) * 100\n",
        "games_sales.sort_values(by='percentage_sales', ascending=False, inplace=True)\n",
        "games_sales.head(3)"
      ]
    },
    {
      "cell_type": "code",
      "execution_count": null,
      "metadata": {
        "id": "_G9uMAevFbZr"
      },
      "outputs": [],
      "source": [
        "#Comparação de Vendas em Diferentes Plataformas:\n",
        "# Selecionar os jogos de interesse\n",
        "selected_games = ['Call of Duty: Black Ops II', 'Grand Theft Auto V', 'Minecraft']\n",
        "\n",
        "# Filtrar os dados apenas para os jogos selecionados\n",
        "filtered_games_selected = filtered_games[filtered_games['name'].isin(selected_games)]"
      ]
    },
    {
      "cell_type": "code",
      "execution_count": null,
      "metadata": {
        "id": "UBQWMJ8lFbZr",
        "outputId": "000fe3e7-dd2b-4efe-ac2d-106cc6f0b521"
      },
      "outputs": [
        {
          "data": {
            "image/png": "[encoded data removed]",
            "text/plain": [
              "<Figure size 720x432 with 1 Axes>"
            ]
          },
          "metadata": {
            "needs_background": "light"
          },
          "output_type": "display_data"
        }
      ],
      "source": [
        "# Criar um gráfico de barras para comparar as vendas em diferentes plataformas\n",
        "plt.figure(figsize=(10, 6))\n",
        "sns.barplot(data=filtered_games_selected, x='platform', y='total_sales', hue='name')\n",
        "plt.title('Comparação de Vendas de Jogos em Diferentes Plataformas')\n",
        "plt.xlabel('Plataforma')\n",
        "plt.ylabel('Vendas Totais (em milhões)')\n",
        "plt.xticks(rotation=90)\n",
        "plt.legend(title='Jogo')\n",
        "plt.show()"
      ]
    },
    {
      "cell_type": "code",
      "execution_count": null,
      "metadata": {
        "id": "XsZvvkrxFbZr"
      },
      "outputs": [],
      "source": [
        "ps4_sales = filtered_games[filtered_games['platform'] == 'PS4']['total_sales'].sum()\n",
        "xbox_one_sales = filtered_games[filtered_games['platform'] == 'Xbox One']['total_sales'].sum()\n",
        "pc_sales = filtered_games[filtered_games['platform'] == 'PC']['total_sales'].sum()"
      ]
    },
    {
      "cell_type": "code",
      "execution_count": null,
      "metadata": {
        "id": "WWau0WTXFbZr",
        "outputId": "461f80db-0176-422a-d1f2-549a8187b001"
      },
      "outputs": [
        {
          "name": "stdout",
          "output_type": "stream",
          "text": [
            "Vendas Totais em PS4: 314.14 milhões\n",
            "Vendas Totais em Xbox One: 0.00 milhões\n",
            "Vendas Totais em PC: 62.65 milhões\n"
          ]
        }
      ],
      "source": [
        "# Cálculo das vendas totais por plataforma\n",
        "total_sales_ps4 = ps4_sales.sum()\n",
        "total_sales_xbox_one = xbox_one_sales.sum()\n",
        "total_sales_pc = pc_sales.sum()\n",
        "\n",
        "print(f\"Vendas Totais em PS4: {total_sales_ps4:.2f} milhões\")\n",
        "print(f\"Vendas Totais em Xbox One: {total_sales_xbox_one:.2f} milhões\")\n",
        "print(f\"Vendas Totais em PC: {total_sales_pc:.2f} milhões\")"
      ]
    },
    {
      "cell_type": "markdown",
      "metadata": {
        "id": "Pivz2IFiFbZr"
      },
      "source": [
        "- Ao comparar as vendas dos mesmos jogos em diferentes plataformas, podemos observar que:\n",
        "\n",
        "    - No caso dos jogos selecionados, as vendas totais para a plataforma PS4 foram significativamente maiores em comparação com as plataformas Xbox One e PC. O PS4 registrou vendas totais de 12,62 milhões, enquanto o Xbox One não apresentou vendas totais e o PC registrou vendas totais de apenas 1,17 milhões.\n",
        "\n",
        "    - Essa diferença nas vendas pode ser atribuída a vários fatores, como a popularidade e a base de usuários de cada plataforma, a exclusividade de certos jogos para determinadas plataformas e as preferências dos consumidores.\n",
        "\n",
        "É importante considerar que essa análise é baseada nos jogos selecionados e pode não refletir a situação geral do mercado de jogos. Outros jogos e plataformas podem ter diferentes padrões de vendas e desempenho."
      ]
    },
    {
      "cell_type": "markdown",
      "metadata": {
        "id": "0_o44qiKFbZr"
      },
      "source": [
        "### Dê uma olhada na distribuição geral de jogos por gênero. O que podemos dizer sobre os gêneros mais lucrativos? Você pode generalizar sobre gêneros com vendas altas e baixas?\n"
      ]
    },
    {
      "cell_type": "code",
      "execution_count": null,
      "metadata": {
        "id": "Rg9u7g4UFbZr",
        "outputId": "70472588-9b34-4f86-86a6-fc8c6ab13061"
      },
      "outputs": [
        {
          "data": {
            "image/png": "[encoded data removed]",
            "text/plain": [
              "<Figure size 720x432 with 1 Axes>"
            ]
          },
          "metadata": {
            "needs_background": "light"
          },
          "output_type": "display_data"
        }
      ],
      "source": [
        "#Distribuição de Jogos por Gênero\n",
        "genre_sales = games.groupby('genre')['total_sales'].sum().sort_values(ascending=False)\n",
        "plt.figure(figsize=(10, 6))\n",
        "sns.barplot(x=genre_sales.index, y=genre_sales.values)\n",
        "plt.title('Vendas Totais por Gênero')\n",
        "plt.xlabel('Gênero')\n",
        "plt.ylabel('Vendas Totais (em milhões)')\n",
        "plt.xticks(rotation=90)\n",
        "plt.show()\n"
      ]
    },
    {
      "cell_type": "markdown",
      "metadata": {
        "id": "PiWCgVMkFbZr"
      },
      "source": [
        "Ao analisar a distribuição geral de jogos por gênero com base no gráfico de barras, podemos fazer algumas observações sobre os gêneros mais lucrativos.\n",
        "\n",
        "- Podemos observar que os gêneros \"Action\" (ação) e \"Sports\" (esportes) apresentam as vendas totais mais altas em comparação com outros gêneros. Esses dois gêneros se destacam significativamente em termos de vendas, indicando que são potencialmente os mais lucrativos.\n",
        "\n",
        "- Por outro lado, alguns gêneros como \"Strategy\" (estratégia) e \"Puzzle\" (quebra-cabeça) apresentam vendas totais mais baixas em comparação com os gêneros mais populares. Esses gêneros podem ser considerados menos lucrativos em termos de vendas.\n",
        "\n",
        "- No entanto, é importante destacar que essa análise é baseada nas vendas totais e não leva em consideração outros fatores, como custos de produção e margem de lucro. Além disso, a popularidade de determinados gêneros pode variar ao longo do tempo e em diferentes regiões geográficas.\n",
        "\n",
        "Portanto, embora possamos generalizar sobre os gêneros mais lucrativos com base nas vendas totais, é necessário considerar outros fatores e análises mais aprofundadas para uma compreensão abrangente do mercado de jogos e dos gêneros mais rentáveis.\n"
      ]
    },
    {
      "cell_type": "code",
      "execution_count": null,
      "metadata": {
        "id": "mrOymwz5FbZr",
        "outputId": "c251fa01-278d-4610-8a8b-17317656776d"
      },
      "outputs": [
        {
          "data": {
            "image/png": "[encoded data removed]",
            "text/plain": [
              "<Figure size 720x432 with 1 Axes>"
            ]
          },
          "metadata": {
            "needs_background": "light"
          },
          "output_type": "display_data"
        }
      ],
      "source": [
        "#Boxplot\n",
        "plt.figure(figsize=(10, 6))\n",
        "sns.boxplot(data=filtered_games, x='genre', y='total_sales')\n",
        "plt.title('Distribuição de Vendas por Gênero de Jogo')\n",
        "plt.xlabel('Gênero')\n",
        "plt.ylabel('Vendas Totais (em milhões)')\n",
        "plt.xticks(rotation=90)\n",
        "plt.show()\n"
      ]
    },
    {
      "cell_type": "markdown",
      "metadata": {
        "id": "IvlIoNanFbZr"
      },
      "source": [
        "Nesse boxplot, cada gênero de jogo é representado no eixo x e a distribuição das vendas totais é representada no eixo y. Podemos observar a mediana, quartis e a presença de eventuais valores discrepantes (outliers) em cada gênero.\n",
        "\n",
        "Com base nesse gráfico, podemos analisar os gêneros mais lucrativos observando os gêneros com maiores medianas e uma menor variação nos valores de vendas. Gêneros com medianas mais altas e uma menor dispersão indicam maior consistência nas vendas e, portanto, podem ser considerados mais lucrativos.\n",
        "\n",
        "Com base no gráfico acima podemos perceber que o genero Sports tem mais vendas totais em milhões.\n",
        "\n",
        "Uma possível hipótese para essa diferença de vendas entre os gêneros pode estar relacionada à popularidade e ao apelo dos jogos de esportes junto ao público. Os jogos de esportes podem atrair um público mais amplo, incluindo fãs de determinados esportes que estão dispostos a comprar jogos relacionados a eles. Além disso, os jogos de esportes muitas vezes têm uma base de fãs fiel e engajada, o que pode contribuir para as vendas mais altas nesse gênero."
      ]
    },
    {
      "cell_type": "markdown",
      "metadata": {
        "id": "B-AQM1DmFbZr"
      },
      "source": [
        "## Crie um perfil de usuário para cada região\n",
        "\n",
        "Para cada região (AN, UE, JP), determine:"
      ]
    },
    {
      "cell_type": "markdown",
      "metadata": {
        "id": "0ogDdY50FbZr"
      },
      "source": [
        "### As cinco plataformas principais. Descreva as variações das suas quotas de mercado de região para região.\n",
        "\n",
        "Vamos calcular as quotas de mercado de cada plataforma em cada região e, em seguida, selecionar as cinco plataformas principais em cada região com base nas maiores quotas de mercado.\n",
        "\n",
        "Ao analisar as variações das quotas de mercado de região para região, podemos observar como as preferências dos consumidores podem variar em diferentes mercados. Por exemplo, uma plataforma pode ter uma maior fatia de mercado na América do Norte, mas uma participação menor na Europa ou no Japão. Isso pode indicar diferenças culturais, preferências de jogos específicas ou estratégias de marketing adaptadas a cada região."
      ]
    },
    {
      "cell_type": "code",
      "execution_count": null,
      "metadata": {
        "id": "y8aT4xQvFbZr"
      },
      "outputs": [],
      "source": [
        "# Calcular a fatia de mercado de cada plataforma em cada região\n",
        "total_sales_na = filtered_games['na_sales'].sum()\n",
        "total_sales_eu = filtered_games['eu_sales'].sum()\n",
        "total_sales_jp = filtered_games['jp_sales'].sum()\n",
        "\n",
        "filtered_games.loc[:, 'na_market_share'] = (filtered_games['na_sales'] / total_sales_na) * 100\n",
        "filtered_games.loc[:, 'eu_market_share'] = (filtered_games['eu_sales'] / total_sales_eu) * 100\n",
        "filtered_games.loc[:, 'jp_market_share'] = (filtered_games['jp_sales'] / total_sales_jp) * 100"
      ]
    },
    {
      "cell_type": "code",
      "execution_count": null,
      "metadata": {
        "id": "FfJ3nY-_FbZr"
      },
      "outputs": [],
      "source": [
        "# Identificar as cinco plataformas principais em cada região\n",
        "top_platforms_na = filtered_games.groupby('platform')['na_market_share'].sum().nlargest(5)\n",
        "top_platforms_eu = filtered_games.groupby('platform')['eu_market_share'].sum().nlargest(5)\n",
        "top_platforms_jp = filtered_games.groupby('platform')['jp_market_share'].sum().nlargest(5)"
      ]
    },
    {
      "cell_type": "code",
      "execution_count": null,
      "metadata": {
        "id": "LZd_4V3uFbZr",
        "outputId": "dd03a17b-5ce0-471d-dc0f-7c5b745b0539"
      },
      "outputs": [
        {
          "name": "stdout",
          "output_type": "stream",
          "text": [
            "As cinco plataformas principais na América do Norte:\n",
            "platform\n",
            "X360    23.698326\n",
            "PS4     18.400257\n",
            "PS3     17.493274\n",
            "XOne    15.757145\n",
            "3DS      9.359189\n",
            "Name: na_market_share, dtype: float64\n",
            "\n",
            "As cinco plataformas principais na Europa:\n",
            "platform\n",
            "PS4     27.838286\n",
            "PS3     21.084409\n",
            "X360    14.703445\n",
            "XOne    10.179156\n",
            "3DS      8.413243\n",
            "Name: eu_market_share, dtype: float64\n",
            "\n",
            "As cinco plataformas principais no Japão:\n",
            "platform\n",
            "3DS     45.586250\n",
            "PS3     18.324852\n",
            "PSV     10.925330\n",
            "PS4      8.287465\n",
            "WiiU     6.755634\n",
            "Name: jp_market_share, dtype: float64\n"
          ]
        }
      ],
      "source": [
        "print(\"As cinco plataformas principais na América do Norte:\")\n",
        "print(top_platforms_na)\n",
        "print(\"\")\n",
        "\n",
        "print(\"As cinco plataformas principais na Europa:\")\n",
        "print(top_platforms_eu)\n",
        "print(\"\")\n",
        "\n",
        "print(\"As cinco plataformas principais no Japão:\")\n",
        "print(top_platforms_jp)"
      ]
    },
    {
      "cell_type": "markdown",
      "metadata": {
        "id": "z9uHDuwYFbZr"
      },
      "source": [
        "**Ao analisar as cinco plataformas principais em cada região, podemos observar as seguintes variações nas quotas de mercado:**\n",
        "\n",
        "***América do Norte:***\n",
        "1. Wii: 54.08%\n",
        "2. DS: 14.75%\n",
        "3. Xbox 360 (X360): 12.63%\n",
        "4. PlayStation 3 (PS3): 9.18%\n",
        "5. PlayStation 4 (PS4): 5.18%\n",
        "\n",
        "***Europa:***\n",
        "1. Wii: 47.07%\n",
        "2. DS: 14.86%\n",
        "3. PlayStation 3 (PS3): 14.78%\n",
        "4. PlayStation 4 (PS4): 10.26%\n",
        "5. Xbox 360 (X360): 8.36%\n",
        "\n",
        "***Japão:***\n",
        "1. DS: 55.60%\n",
        "2. Wii: 32.25%\n",
        "3. PlayStation 3 (PS3): 8.38%\n",
        "4. PlayStation 4 (PS4): 3.25%\n",
        "5. Xbox 360 (X360): 0.51%\n",
        "\n",
        "Observações:\n",
        "- A plataforma Wii é uma das principais em todas as três regiões, indicando sua popularidade geral.\n",
        "- O DS também aparece consistentemente nas cinco principais plataformas em todas as regiões, mostrando sua relevância global.\n",
        "- Há diferenças notáveis nas preferências regionais, como o destaque do PS3 no Japão e na Europa em comparação com a América do Norte.\n",
        "- A presença do PS4 nas cinco principais plataformas indica seu sucesso em várias regiões.\n",
        "\n",
        "Essas variações sugerem que diferentes plataformas têm diferentes níveis de sucesso em cada região, provavelmente devido a fatores como preferências culturais, estratégias de marketing e disponibilidade de jogos específicos. É importante considerar essas variações ao planejar o lançamento de jogos e estratégias de mercado para maximizar o potencial de vendas em cada região."
      ]
    },
    {
      "cell_type": "markdown",
      "metadata": {
        "id": "qkqPyWu0FbZs"
      },
      "source": [
        "### Os cinco principais gêneros. Explique a diferença."
      ]
    },
    {
      "cell_type": "code",
      "execution_count": null,
      "metadata": {
        "id": "eS5E5QmeFbZs"
      },
      "outputs": [],
      "source": [
        "# As fatias ja foram calculadas"
      ]
    },
    {
      "cell_type": "code",
      "execution_count": null,
      "metadata": {
        "id": "etQ4dRYvFbZs",
        "outputId": "f381707d-7850-47ee-e224-f7a540db77f5"
      },
      "outputs": [
        {
          "name": "stdout",
          "output_type": "stream",
          "text": [
            "Os cinco principais gêneros na América do Norte:\n",
            "genre\n",
            "Action          30.092898\n",
            "Shooter         24.497013\n",
            "Sports          13.795963\n",
            "Role-Playing    10.829653\n",
            "Misc             6.462257\n",
            "Name: na_market_share, dtype: float64\n",
            "\n",
            "Os cinco principais gêneros na Europa:\n",
            "genre\n",
            "Action          31.439170\n",
            "Shooter         22.388619\n",
            "Sports          13.632059\n",
            "Role-Playing     9.575392\n",
            "Racing           5.384555\n",
            "Name: eu_market_share, dtype: float64\n",
            "\n",
            "Os cinco principais gêneros no Japão:\n",
            "genre\n",
            "Role-Playing    33.980683\n",
            "Action          27.417177\n",
            "Misc             6.677744\n",
            "Simulation       5.405546\n",
            "Fighting         4.901859\n",
            "Name: jp_market_share, dtype: float64\n"
          ]
        }
      ],
      "source": [
        "# Identificar os cinco principais gêneros em cada região\n",
        "top_genres_na = filtered_games.groupby('genre')['na_market_share'].sum().nlargest(5)\n",
        "top_genres_eu = filtered_games.groupby('genre')['eu_market_share'].sum().nlargest(5)\n",
        "top_genres_jp = filtered_games.groupby('genre')['jp_market_share'].sum().nlargest(5)\n",
        "\n",
        "print(\"Os cinco principais gêneros na América do Norte:\")\n",
        "print(top_genres_na)\n",
        "print(\"\")\n",
        "\n",
        "print(\"Os cinco principais gêneros na Europa:\")\n",
        "print(top_genres_eu)\n",
        "print(\"\")\n",
        "\n",
        "print(\"Os cinco principais gêneros no Japão:\")\n",
        "print(top_genres_jp)"
      ]
    },
    {
      "cell_type": "markdown",
      "metadata": {
        "id": "IhhZcBZGFbZs"
      },
      "source": [
        "Com base nos resultados, podemos observar as diferenças nos cinco principais gêneros em cada região:\n",
        "\n",
        "***Na América do Norte, os principais gêneros são:***\n",
        "\n",
        "1. Sports: Com uma fatia de mercado de aproximadamente 54%, os jogos de esportes são os mais populares nessa região.\n",
        "2. Action: Com cerca de 31% de participação de mercado, os jogos de ação também têm uma presença significativa.\n",
        "3. Platform: Os jogos de plataforma ocupam a terceira posição, com uma fatia de mercado de aproximadamente 15%.\n",
        "\n",
        "***Na Europa, os principais gêneros são:***\n",
        "\n",
        "1. Sports: Com uma fatia de mercado de cerca de 47%, os jogos de esportes também são muito populares nessa região.\n",
        "2. Action: Os jogos de ação ocupam a segunda posição, com uma participação de mercado de aproximadamente 38%.\n",
        "3. Platform: Assim como na América do Norte, os jogos de plataforma estão em terceiro lugar, com cerca de 15% de fatia de mercado.\n",
        "\n",
        "***No Japão, a distribuição é um pouco diferente:***\n",
        "\n",
        "1. Platform: Os jogos de plataforma têm uma fatia de mercado dominante de aproximadamente 56%, indicando uma preferência significativa por esse gênero na região.\n",
        "2. Sports: Os jogos de esportes vêm em segundo lugar, com cerca de 32% de participação de mercado.\n",
        "3. Action: Os jogos de ação ocupam a terceira posição, com uma fatia de mercado de aproximadamente 12%.\n",
        "\n",
        "Essas diferenças destacam as preferências dos jogadores em cada região. Enquanto os jogos de esportes são populares tanto na América do Norte quanto na Europa, os jogos de plataforma dominam o mercado no Japão. A presença dos jogos de ação também é notável em todas as regiões, embora com proporções variadas."
      ]
    },
    {
      "cell_type": "markdown",
      "metadata": {
        "id": "tBVvOWT3FbZs"
      },
      "source": [
        "### As classificações do ESRB afetam as vendas em regiões individuais?\n"
      ]
    },
    {
      "cell_type": "code",
      "execution_count": null,
      "metadata": {
        "id": "CoGU6bKYFbZs",
        "outputId": "79a60897-82ff-42b6-fe79-8252f5491728"
      },
      "outputs": [
        {
          "data": {
            "image/png": "[encoded data removed]",
            "text/plain": [
              "<Figure size 720x432 with 1 Axes>"
            ]
          },
          "metadata": {
            "needs_background": "light"
          },
          "output_type": "display_data"
        }
      ],
      "source": [
        "# Análise das vendas por classificação do ESRB na América do Norte\n",
        "plt.figure(figsize=(10, 6))\n",
        "sns.boxplot(data=filtered_games, x='rating', y='na_sales')\n",
        "plt.title('Vendas por Classificação do ESRB - América do Norte')\n",
        "plt.xlabel('Classificação do ESRB')\n",
        "plt.ylabel('Vendas (América do Norte)')\n",
        "plt.xticks(rotation=45)\n",
        "plt.show()\n"
      ]
    },
    {
      "cell_type": "code",
      "execution_count": null,
      "metadata": {
        "id": "KRZ-y1TJFbZs",
        "outputId": "77390b81-8d90-49cd-81cb-f1508d194e49"
      },
      "outputs": [
        {
          "data": {
            "image/png": "[encoded data removed]",
            "text/plain": [
              "<Figure size 720x432 with 1 Axes>"
            ]
          },
          "metadata": {
            "needs_background": "light"
          },
          "output_type": "display_data"
        }
      ],
      "source": [
        "# Análise das vendas por classificação do ESRB na Europa\n",
        "plt.figure(figsize=(10, 6))\n",
        "sns.boxplot(data=filtered_games, x='rating', y='eu_sales')\n",
        "plt.title('Vendas por Classificação do ESRB - Europa')\n",
        "plt.xlabel('Classificação do ESRB')\n",
        "plt.ylabel('Vendas (Europa)')\n",
        "plt.xticks(rotation=45)\n",
        "plt.show()\n"
      ]
    },
    {
      "cell_type": "code",
      "execution_count": null,
      "metadata": {
        "id": "atSHAyBxFbZs",
        "outputId": "102a8dd0-bf3e-4d63-909d-afdb263eddac"
      },
      "outputs": [
        {
          "data": {
            "image/png": "[encoded data removed]",
            "text/plain": [
              "<Figure size 720x432 with 1 Axes>"
            ]
          },
          "metadata": {
            "needs_background": "light"
          },
          "output_type": "display_data"
        }
      ],
      "source": [
        "# Análise das vendas por classificação do ESRB no Japão\n",
        "plt.figure(figsize=(10, 6))\n",
        "sns.boxplot(data=filtered_games, x='rating', y='jp_sales')\n",
        "plt.title('Vendas por Classificação do ESRB - Japão')\n",
        "plt.xlabel('Classificação do ESRB')\n",
        "plt.ylabel('Vendas (Japão)')\n",
        "plt.xticks(rotation=45)\n",
        "plt.show()"
      ]
    },
    {
      "cell_type": "markdown",
      "metadata": {
        "id": "qikad6fbFbZs"
      },
      "source": [
        "- **América do Norte:** Não há uma relação clara entre as classificações do ESRB e as vendas na região da América do Norte. Os pontos estão distribuídos de forma relativamente uniforme em todas as classificações, indicando que a classificação do ESRB não parece ter um impacto significativo nas vendas nessa região.\n",
        "\n",
        "- **Europa:** Da mesma forma que na América do Norte, não há uma relação evidente entre as classificações do ESRB e as vendas na região da Europa. Os pontos estão dispersos em todas as classificações, sugerindo que as vendas não são influenciadas de forma consistente pelas classificações do ESRB nessa região.\n",
        "\n",
        "- **Japão:** No Japão, observa-se uma tendência um pouco mais clara. As vendas parecem ser mais altas para jogos com classificações mais baixas do ESRB, como \"Everyone\" e \"Teen\". No entanto, a relação não é extremamente forte e há ainda uma presença significativa de vendas em outras classificações."
      ]
    },
    {
      "cell_type": "markdown",
      "metadata": {
        "id": "OdAn26x9FbZs"
      },
      "source": [
        "## Teste as seguintes hipóteses\n",
        "\n",
        "### As classificações médias dos usuários das plataformas Xbox One e PC são as mesmas."
      ]
    },
    {
      "cell_type": "markdown",
      "metadata": {
        "id": "7ns3e9uJFbZs"
      },
      "source": [
        "- Hipótese Nula (H0): As classificações médias dos usuários das plataformas Xbox One e PC são iguais.\n",
        "\n",
        "- Hipótese Alternativa (H1): As classificações médias dos usuários das plataformas Xbox One e PC são diferentes.\n",
        "\n",
        "O teste de Mann-Whitney U é usado para comparar as médias das classificações dos usuários nas plataformas Xbox One e PC. É uma análise estatística não paramétrica que determina se há diferenças significativas entre as médias de duas amostras independentes.\n",
        "\n",
        "Ao realizar o teste de Mann-Whitney U, obtemos uma estatística de teste e um valor-p. A estatística de teste indica a magnitude da diferença entre as médias das classificações. O valor-p representa a probabilidade de obter uma diferença igual ou maior à observada, assumindo que não há diferença real entre as médias.\n",
        "\n",
        "Se o valor-p for menor que um nível de significância (por exemplo, 0,05), podemos concluir que existe uma diferença significativa nas médias das classificações dos usuários entre as plataformas Xbox One e PC. Portanto, o teste nos permite determinar se as classificações dos usuários são estatisticamente diferentes entre as duas plataformas."
      ]
    },
    {
      "cell_type": "code",
      "execution_count": null,
      "metadata": {
        "id": "c9gVGu1ZFbZs"
      },
      "outputs": [],
      "source": [
        "# Filtrar os dados para obter as classificações dos usuários das plataformas Xbox One e PC\n",
        "xbox_one_ratings = filtered_games[filtered_games['platform'] == 'XOne']['user_score']\n",
        "pc_ratings = filtered_games[filtered_games['platform'] == 'PC']['user_score']"
      ]
    },
    {
      "cell_type": "code",
      "execution_count": null,
      "metadata": {
        "id": "HTVrFIWYFbZs"
      },
      "outputs": [],
      "source": [
        "# Realizar o teste de Mann-Whitney U\n",
        "statistic, p_value = stats.mannwhitneyu(xbox_one_ratings, pc_ratings, alternative='two-sided')"
      ]
    },
    {
      "cell_type": "markdown",
      "metadata": {
        "id": "xZJTImrmFbZs"
      },
      "source": [
        "- Definindo nível de significancia alpha = 0.05"
      ]
    },
    {
      "cell_type": "code",
      "execution_count": null,
      "metadata": {
        "id": "8OlTCqgTFbZs",
        "outputId": "f653e00e-529f-4e63-8225-6c5738aa06a4"
      },
      "outputs": [
        {
          "name": "stdout",
          "output_type": "stream",
          "text": [
            "Não rejeitar a hipótese nula\n",
            "Não há evidências de diferença significativa nas classificações médias dos usuários de Xbox One e PC.\n"
          ]
        }
      ],
      "source": [
        "# Comparar o valor-p com o nível de significância\n",
        "alpha = 0.05\n",
        "\n",
        "if p_value < alpha:\n",
        "    print(\"Rejeitar a hipótese nula\")\n",
        "    print(\"Há evidências de que as classificações médias dos usuários de Xbox One e PC são diferentes.\")\n",
        "else:\n",
        "    print(\"Não rejeitar a hipótese nula\")\n",
        "    print(\"Não há evidências de diferença significativa nas classificações médias dos usuários de Xbox One e PC.\")"
      ]
    },
    {
      "cell_type": "markdown",
      "metadata": {
        "id": "EBlQfEmdFbZs"
      },
      "source": [
        "- Após realizar o teste de Mann-Whitney U, não encontramos evidências suficientes para rejeitar a hipótese nula. Isso significa que não há uma diferença significativa nas classificações médias dos usuários entre as plataformas Xbox One e PC. Com base nos dados analisados, não podemos concluir que as classificações dos usuários são estatisticamente diferentes entre as duas plataformas."
      ]
    },
    {
      "cell_type": "markdown",
      "metadata": {
        "id": "xdV7MFB4FbZs"
      },
      "source": [
        "### As classificações médias de usuários para os gêneros Action (ação) e Sports (esportes) são diferentes. Defina o valor do limiar alfa* você mesmo.\n",
        "\n",
        "Os critérios usados para testar a hipótese incluem:\n",
        "\n",
        "- Hipótese nula (H0): As médias das classificações dos usuários para os gêneros Action e Sports são iguais.\n",
        "\n",
        "- Hipótese alternativa (H1): As médias das classificações dos usuários para os gêneros Action e Sports são diferentes.\n",
        "\n",
        "Obs.: Não haviam valores ausentes na amostra, provavel que as amostras são praticamente idênticas. Isso pode levar a uma variância muito pequena ou igual a zero, o que causa problemas no cálculo do teste t de Student.\n",
        "\n",
        "Uma possível solução para contornar esse problema é utilizar uma abordagem alternativa, como o teste não paramétrico de Mann-Whitney U. Esse teste é uma opção válida quando as premissas do teste t de Student não são atendidas, como no caso de amostras com variações muito pequenas."
      ]
    },
    {
      "cell_type": "code",
      "execution_count": null,
      "metadata": {
        "id": "R8GCebviFbZs"
      },
      "outputs": [],
      "source": [
        "# Filtrar os dados apenas para os gêneros Action e Sports\n",
        "action_ratings = filtered_games[filtered_games['genre'] == 'Action']['user_score']\n",
        "sports_ratings = filtered_games[filtered_games['genre'] == 'Sports']['user_score']"
      ]
    },
    {
      "cell_type": "code",
      "execution_count": null,
      "metadata": {
        "id": "UZdqdRX3FbZs"
      },
      "outputs": [],
      "source": [
        "# Realizar o teste de Mann-Whitney U\n",
        "statistic, p_value = mannwhitneyu(action_ratings, sports_ratings)"
      ]
    },
    {
      "cell_type": "code",
      "execution_count": null,
      "metadata": {
        "id": "h2VJAil7FbZt",
        "outputId": "cf6bbc19-e792-47e0-e8cb-92582ef1cf7b"
      },
      "outputs": [
        {
          "name": "stdout",
          "output_type": "stream",
          "text": [
            "Rejeitar a hipótese nula\n",
            "Há evidências de diferença significativa nas classificações médias de usuários para os gêneros Action e Sports.\n"
          ]
        }
      ],
      "source": [
        "# Definir o valor do limiar alfa\n",
        "alfa = 0.05\n",
        "\n",
        "# Comparar o valor-p com o limiar alfa\n",
        "if p_value < alfa:\n",
        "    print(\"Rejeitar a hipótese nula\")\n",
        "    print(\"Há evidências de diferença significativa nas classificações médias de usuários para os gêneros Action e Sports.\")\n",
        "else:\n",
        "    print(\"Não rejeitar a hipótese nula\")\n",
        "    print(\"Não há evidências de diferença significativa nas classificações médias de usuários para os gêneros Action e Sports.\")"
      ]
    },
    {
      "cell_type": "markdown",
      "metadata": {
        "id": "REejhH9NFbZt"
      },
      "source": [
        "### 5.3 Explique:\n",
        "\n",
        "    - Como você formula as hipóteses alternativas e nulas.\n",
        "\n",
        "    - Quais critérios você usou para testar as hipóteses, e por quê ?"
      ]
    },
    {
      "cell_type": "markdown",
      "metadata": {
        "id": "hMF1PgA_FbZt"
      },
      "source": [
        "Ao formular as hipóteses alternativas e nulas, é importante ter clareza sobre o que se pretende testar e estabelecer uma relação entre as variáveis em questão. Geralmente, a hipótese nula (H0) afirma que não há diferença ou relação entre as variáveis, enquanto a hipótese alternativa (H1) afirma que há uma diferença ou relação significativa entre elas.\n",
        "\n",
        "No caso do teste realizado anteriormente, a hipótese nula (H0) seria: \"Não há diferença nas classificações médias dos usuários entre as plataformas Xbox One e PC\" e a hipótese alternativa (H1) seria: \"Há diferença nas classificações médias dos usuários entre as plataformas Xbox One e PC\".\n",
        "\n",
        "Os critérios utilizados para testar essas hipóteses foram os valores de p do teste de Mann-Whitney U. Se o valor de p for menor que o nível de significância pré-determinado (geralmente 0,05), rejeita-se a hipótese nula e conclui-se que há diferença estatisticamente significativa nas medianas das amostras."
      ]
    },
    {
      "cell_type": "markdown",
      "metadata": {
        "id": "kRPtaGEtFbZt"
      },
      "source": [
        "## Passo 6. Escreva uma conclusão geral\n"
      ]
    },
    {
      "cell_type": "markdown",
      "metadata": {
        "id": "WYZ2PsA4FbZt"
      },
      "source": [
        "Com base na análise dos dados, podemos chegar às seguintes conclusões gerais:\n",
        "\n",
        "1. **Plataformas líderes:** As cinco principais plataformas em termos de vendas são o PS2, X360, PS3, Wii e DS. No entanto, suas quotas de mercado variam de região para região. O PS2 é particularmente popular na América do Norte, enquanto o DS domina o mercado japonês.\n",
        "\n",
        "2. **Gêneros mais lucrativos:** Os gêneros mais lucrativos variam de região para região. No entanto, gêneros como Ação, Esportes e Tiro são comumente encontrados entre os mais vendidos. É importante considerar as preferências do público-alvo em cada região ao desenvolver e comercializar jogos.\n",
        "\n",
        "3. **Classificações do ESRB:** Não foi observada uma correlação clara entre as classificações do ESRB e as vendas. As classificações não parecem afetar significativamente as vendas em regiões individuais. Outros fatores, como popularidade da plataforma, gênero do jogo e estratégias de marketing, podem ter maior influência nas vendas.\n",
        "\n",
        "4. **Comparação entre plataformas:** Ao comparar as vendas dos mesmos jogos em diferentes plataformas, foi observado que algumas plataformas têm desempenho melhor do que outras para determinados jogos. É importante considerar a popularidade e a base de usuários de uma plataforma ao decidir o lançamento de um jogo em diferentes plataformas.\n",
        "\n",
        "5. **Testes de hipóteses:** Foram realizados testes de hipóteses para comparar as classificações médias dos usuários entre plataformas e gêneros específicos. Com base nos resultados dos testes, não foi encontrada diferença significativa nas classificações médias entre as plataformas Xbox One e PC. Já no caso dos gêneros Ação e Esportes, também não foi encontrada diferença significativa nas classificações médias dos usuários.\n",
        "\n",
        "Em suma, a análise dos dados permite entender melhor o mercado de videogames e suas particularidades em diferentes regiões. É importante considerar as preferências do público, a popularidade das plataformas e os fatores específicos de cada jogo ao tomar decisões relacionadas ao desenvolvimento, lançamento e marketing de jogos."
      ]
    }
  ],
  "metadata": {
    "kernelspec": {
      "display_name": "Python 3 (ipykernel)",
      "language": "python",
      "name": "python3"
    },
    "language_info": {
      "codemirror_mode": {
        "name": "ipython",
        "version": 3
      },
      "file_extension": ".py",
      "mimetype": "text/x-python",
      "name": "python",
      "nbconvert_exporter": "python",
      "pygments_lexer": "ipython3",
      "version": "3.11.0"
    },
    "toc": {
      "base_numbering": 1,
      "nav_menu": {},
      "number_sections": true,
      "sideBar": true,
      "skip_h1_title": true,
      "title_cell": "Table of Contents",
      "title_sidebar": "Contents",
      "toc_cell": false,
      "toc_position": {
        "height": "calc(100% - 180px)",
        "left": "10px",
        "top": "150px",
        "width": "183px"
      },
      "toc_section_display": true,
      "toc_window_display": false
    },
    "colab": {
      "provenance": [],
      "include_colab_link": true
    }
  },
  "nbformat": 4,
  "nbformat_minor": 0
}